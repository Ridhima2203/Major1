{
  "nbformat": 4,
  "nbformat_minor": 0,
  "metadata": {
    "kernelspec": {
      "display_name": "Python 3",
      "language": "python",
      "name": "python3"
    },
    "language_info": {
      "codemirror_mode": {
        "name": "ipython",
        "version": 3
      },
      "file_extension": ".py",
      "mimetype": "text/x-python",
      "name": "python",
      "nbconvert_exporter": "python",
      "pygments_lexer": "ipython3",
      "version": "3.6.9"
    },
    "colab": {
      "name": "Major1.ipynb",
      "provenance": [],
      "toc_visible": true,
      "include_colab_link": true
    }
  },
  "cells": [
    {
      "cell_type": "markdown",
      "metadata": {
        "id": "view-in-github",
        "colab_type": "text"
      },
      "source": [
        "<a href=\"https://colab.research.google.com/github/namanadlakha3/Major1/blob/main/Major1.ipynb\" target=\"_parent\"><img src=\"https://colab.research.google.com/assets/colab-badge.svg\" alt=\"Open In Colab\"/></a>"
      ]
    },
    {
      "cell_type": "markdown",
      "metadata": {
        "id": "cnAfyNcVElGy"
      },
      "source": [
        "### Stock Market Prediction And Forecasting Using Stacked LSTM"
      ]
    },
    {
      "cell_type": "code",
      "metadata": {
        "id": "yQotlZkDElG5",
        "outputId": "5e9022da-5251-45fc-d4dd-48f0ea0e9309",
        "colab": {
          "base_uri": "https://localhost:8080/"
        }
      },
      "source": [
        "\n",
        "!pip install yfinance\n",
        "!pip install yahoofinancials\n",
        "import yfinance as yf\n",
        "from yahoofinancials import YahooFinancials\n",
        "df=yf.download('FB',start='2016-01-01')"
      ],
      "execution_count": 3,
      "outputs": [
        {
          "output_type": "stream",
          "text": [
            "Collecting yfinance\n",
            "  Downloading https://files.pythonhosted.org/packages/7a/e8/b9d7104d3a4bf39924799067592d9e59119fcfc900a425a12e80a3123ec8/yfinance-0.1.55.tar.gz\n",
            "Requirement already satisfied: pandas>=0.24 in /usr/local/lib/python3.6/dist-packages (from yfinance) (1.1.3)\n",
            "Requirement already satisfied: numpy>=1.15 in /usr/local/lib/python3.6/dist-packages (from yfinance) (1.18.5)\n",
            "Requirement already satisfied: requests>=2.20 in /usr/local/lib/python3.6/dist-packages (from yfinance) (2.23.0)\n",
            "Requirement already satisfied: multitasking>=0.0.7 in /usr/local/lib/python3.6/dist-packages (from yfinance) (0.0.9)\n",
            "Collecting lxml>=4.5.1\n",
            "\u001b[?25l  Downloading https://files.pythonhosted.org/packages/64/28/0b761b64ecbd63d272ed0e7a6ae6e4402fc37886b59181bfdf274424d693/lxml-4.6.1-cp36-cp36m-manylinux1_x86_64.whl (5.5MB)\n",
            "\u001b[K     |████████████████████████████████| 5.5MB 2.9MB/s \n",
            "\u001b[?25hRequirement already satisfied: python-dateutil>=2.7.3 in /usr/local/lib/python3.6/dist-packages (from pandas>=0.24->yfinance) (2.8.1)\n",
            "Requirement already satisfied: pytz>=2017.2 in /usr/local/lib/python3.6/dist-packages (from pandas>=0.24->yfinance) (2018.9)\n",
            "Requirement already satisfied: urllib3!=1.25.0,!=1.25.1,<1.26,>=1.21.1 in /usr/local/lib/python3.6/dist-packages (from requests>=2.20->yfinance) (1.24.3)\n",
            "Requirement already satisfied: chardet<4,>=3.0.2 in /usr/local/lib/python3.6/dist-packages (from requests>=2.20->yfinance) (3.0.4)\n",
            "Requirement already satisfied: certifi>=2017.4.17 in /usr/local/lib/python3.6/dist-packages (from requests>=2.20->yfinance) (2020.6.20)\n",
            "Requirement already satisfied: idna<3,>=2.5 in /usr/local/lib/python3.6/dist-packages (from requests>=2.20->yfinance) (2.10)\n",
            "Requirement already satisfied: six>=1.5 in /usr/local/lib/python3.6/dist-packages (from python-dateutil>=2.7.3->pandas>=0.24->yfinance) (1.15.0)\n",
            "Building wheels for collected packages: yfinance\n",
            "  Building wheel for yfinance (setup.py) ... \u001b[?25l\u001b[?25hdone\n",
            "  Created wheel for yfinance: filename=yfinance-0.1.55-py2.py3-none-any.whl size=22618 sha256=6aeada59f921936cf61a35cf82eb896c9ab6116625e7cd7a88f6d0f92eb5ca97\n",
            "  Stored in directory: /root/.cache/pip/wheels/04/98/cc/2702a4242d60bdc14f48b4557c427ded1fe92aedf257d4565c\n",
            "Successfully built yfinance\n",
            "Installing collected packages: lxml, yfinance\n",
            "  Found existing installation: lxml 4.2.6\n",
            "    Uninstalling lxml-4.2.6:\n",
            "      Successfully uninstalled lxml-4.2.6\n",
            "Successfully installed lxml-4.6.1 yfinance-0.1.55\n",
            "Collecting yahoofinancials\n",
            "  Downloading https://files.pythonhosted.org/packages/97/fe/be0f6ea704137848779fc61e7d1c9a901489aaf3423cd7b6f86a350c14c6/yahoofinancials-1.6.tar.gz\n",
            "Requirement already satisfied: beautifulsoup4 in /usr/local/lib/python3.6/dist-packages (from yahoofinancials) (4.6.3)\n",
            "Requirement already satisfied: pytz in /usr/local/lib/python3.6/dist-packages (from yahoofinancials) (2018.9)\n",
            "Building wheels for collected packages: yahoofinancials\n",
            "  Building wheel for yahoofinancials (setup.py) ... \u001b[?25l\u001b[?25hdone\n",
            "  Created wheel for yahoofinancials: filename=yahoofinancials-1.6-cp36-none-any.whl size=15192 sha256=815167cdb75220c80a8ea24d833a7cacf169765fb8fc62e87edb21d462ebde53\n",
            "  Stored in directory: /root/.cache/pip/wheels/d9/7e/cf/4977a8572d5247242a4b13018d1d36923024ba84236e0d28bc\n",
            "Successfully built yahoofinancials\n",
            "Installing collected packages: yahoofinancials\n",
            "Successfully installed yahoofinancials-1.6\n",
            "[*********************100%***********************]  1 of 1 completed\n"
          ],
          "name": "stdout"
        }
      ]
    },
    {
      "cell_type": "code",
      "metadata": {
        "id": "IQT9UwRoElG8"
      },
      "source": [
        "df.to_csv('AAPL.csv')"
      ],
      "execution_count": 4,
      "outputs": []
    },
    {
      "cell_type": "code",
      "metadata": {
        "id": "sgcHGrEuElG-"
      },
      "source": [
        "import pandas as pd"
      ],
      "execution_count": 5,
      "outputs": []
    },
    {
      "cell_type": "code",
      "metadata": {
        "id": "KfnRdz7kElHC"
      },
      "source": [
        "df=pd.read_csv('AAPL.csv')"
      ],
      "execution_count": 6,
      "outputs": []
    },
    {
      "cell_type": "code",
      "metadata": {
        "id": "Z77JGnNEElHE",
        "outputId": "dd7f45f5-8cf8-462c-d695-d4143db5a7d8",
        "colab": {
          "base_uri": "https://localhost:8080/",
          "height": 195
        }
      },
      "source": [
        "df.head()"
      ],
      "execution_count": 7,
      "outputs": [
        {
          "output_type": "execute_result",
          "data": {
            "text/html": [
              "<div>\n",
              "<style scoped>\n",
              "    .dataframe tbody tr th:only-of-type {\n",
              "        vertical-align: middle;\n",
              "    }\n",
              "\n",
              "    .dataframe tbody tr th {\n",
              "        vertical-align: top;\n",
              "    }\n",
              "\n",
              "    .dataframe thead th {\n",
              "        text-align: right;\n",
              "    }\n",
              "</style>\n",
              "<table border=\"1\" class=\"dataframe\">\n",
              "  <thead>\n",
              "    <tr style=\"text-align: right;\">\n",
              "      <th></th>\n",
              "      <th>Date</th>\n",
              "      <th>Open</th>\n",
              "      <th>High</th>\n",
              "      <th>Low</th>\n",
              "      <th>Close</th>\n",
              "      <th>Adj Close</th>\n",
              "      <th>Volume</th>\n",
              "    </tr>\n",
              "  </thead>\n",
              "  <tbody>\n",
              "    <tr>\n",
              "      <th>0</th>\n",
              "      <td>2016-01-04</td>\n",
              "      <td>101.949997</td>\n",
              "      <td>102.239998</td>\n",
              "      <td>99.750000</td>\n",
              "      <td>102.220001</td>\n",
              "      <td>102.220001</td>\n",
              "      <td>37912400</td>\n",
              "    </tr>\n",
              "    <tr>\n",
              "      <th>1</th>\n",
              "      <td>2016-01-05</td>\n",
              "      <td>102.889999</td>\n",
              "      <td>103.709999</td>\n",
              "      <td>101.669998</td>\n",
              "      <td>102.730003</td>\n",
              "      <td>102.730003</td>\n",
              "      <td>23258200</td>\n",
              "    </tr>\n",
              "    <tr>\n",
              "      <th>2</th>\n",
              "      <td>2016-01-06</td>\n",
              "      <td>101.129997</td>\n",
              "      <td>103.769997</td>\n",
              "      <td>100.900002</td>\n",
              "      <td>102.970001</td>\n",
              "      <td>102.970001</td>\n",
              "      <td>25096200</td>\n",
              "    </tr>\n",
              "    <tr>\n",
              "      <th>3</th>\n",
              "      <td>2016-01-07</td>\n",
              "      <td>100.500000</td>\n",
              "      <td>101.430000</td>\n",
              "      <td>97.300003</td>\n",
              "      <td>97.919998</td>\n",
              "      <td>97.919998</td>\n",
              "      <td>45172900</td>\n",
              "    </tr>\n",
              "    <tr>\n",
              "      <th>4</th>\n",
              "      <td>2016-01-08</td>\n",
              "      <td>99.879997</td>\n",
              "      <td>100.500000</td>\n",
              "      <td>97.029999</td>\n",
              "      <td>97.330002</td>\n",
              "      <td>97.330002</td>\n",
              "      <td>35402300</td>\n",
              "    </tr>\n",
              "  </tbody>\n",
              "</table>\n",
              "</div>"
            ],
            "text/plain": [
              "         Date        Open        High  ...       Close   Adj Close    Volume\n",
              "0  2016-01-04  101.949997  102.239998  ...  102.220001  102.220001  37912400\n",
              "1  2016-01-05  102.889999  103.709999  ...  102.730003  102.730003  23258200\n",
              "2  2016-01-06  101.129997  103.769997  ...  102.970001  102.970001  25096200\n",
              "3  2016-01-07  100.500000  101.430000  ...   97.919998   97.919998  45172900\n",
              "4  2016-01-08   99.879997  100.500000  ...   97.330002   97.330002  35402300\n",
              "\n",
              "[5 rows x 7 columns]"
            ]
          },
          "metadata": {
            "tags": []
          },
          "execution_count": 7
        }
      ]
    },
    {
      "cell_type": "code",
      "metadata": {
        "id": "OpgEpgyQElHJ",
        "outputId": "f8867f28-55b0-4a5d-cf8d-1968edae1916",
        "colab": {
          "base_uri": "https://localhost:8080/",
          "height": 195
        }
      },
      "source": [
        "df.tail()"
      ],
      "execution_count": 8,
      "outputs": [
        {
          "output_type": "execute_result",
          "data": {
            "text/html": [
              "<div>\n",
              "<style scoped>\n",
              "    .dataframe tbody tr th:only-of-type {\n",
              "        vertical-align: middle;\n",
              "    }\n",
              "\n",
              "    .dataframe tbody tr th {\n",
              "        vertical-align: top;\n",
              "    }\n",
              "\n",
              "    .dataframe thead th {\n",
              "        text-align: right;\n",
              "    }\n",
              "</style>\n",
              "<table border=\"1\" class=\"dataframe\">\n",
              "  <thead>\n",
              "    <tr style=\"text-align: right;\">\n",
              "      <th></th>\n",
              "      <th>Date</th>\n",
              "      <th>Open</th>\n",
              "      <th>High</th>\n",
              "      <th>Low</th>\n",
              "      <th>Close</th>\n",
              "      <th>Adj Close</th>\n",
              "      <th>Volume</th>\n",
              "    </tr>\n",
              "  </thead>\n",
              "  <tbody>\n",
              "    <tr>\n",
              "      <th>1214</th>\n",
              "      <td>2020-10-28</td>\n",
              "      <td>278.790009</td>\n",
              "      <td>278.790009</td>\n",
              "      <td>267.260010</td>\n",
              "      <td>267.670013</td>\n",
              "      <td>267.670013</td>\n",
              "      <td>23121800</td>\n",
              "    </tr>\n",
              "    <tr>\n",
              "      <th>1215</th>\n",
              "      <td>2020-10-29</td>\n",
              "      <td>276.549988</td>\n",
              "      <td>283.600006</td>\n",
              "      <td>273.779999</td>\n",
              "      <td>280.829987</td>\n",
              "      <td>280.829987</td>\n",
              "      <td>32368100</td>\n",
              "    </tr>\n",
              "    <tr>\n",
              "      <th>1216</th>\n",
              "      <td>2020-10-30</td>\n",
              "      <td>274.500000</td>\n",
              "      <td>276.700012</td>\n",
              "      <td>259.100006</td>\n",
              "      <td>263.109985</td>\n",
              "      <td>263.109985</td>\n",
              "      <td>47247800</td>\n",
              "    </tr>\n",
              "    <tr>\n",
              "      <th>1217</th>\n",
              "      <td>2020-11-02</td>\n",
              "      <td>264.600006</td>\n",
              "      <td>270.470001</td>\n",
              "      <td>257.339996</td>\n",
              "      <td>261.359985</td>\n",
              "      <td>261.359985</td>\n",
              "      <td>27133400</td>\n",
              "    </tr>\n",
              "    <tr>\n",
              "      <th>1218</th>\n",
              "      <td>2020-11-03</td>\n",
              "      <td>263.160004</td>\n",
              "      <td>270.049988</td>\n",
              "      <td>260.890015</td>\n",
              "      <td>266.199890</td>\n",
              "      <td>266.199890</td>\n",
              "      <td>10964497</td>\n",
              "    </tr>\n",
              "  </tbody>\n",
              "</table>\n",
              "</div>"
            ],
            "text/plain": [
              "            Date        Open        High  ...       Close   Adj Close    Volume\n",
              "1214  2020-10-28  278.790009  278.790009  ...  267.670013  267.670013  23121800\n",
              "1215  2020-10-29  276.549988  283.600006  ...  280.829987  280.829987  32368100\n",
              "1216  2020-10-30  274.500000  276.700012  ...  263.109985  263.109985  47247800\n",
              "1217  2020-11-02  264.600006  270.470001  ...  261.359985  261.359985  27133400\n",
              "1218  2020-11-03  263.160004  270.049988  ...  266.199890  266.199890  10964497\n",
              "\n",
              "[5 rows x 7 columns]"
            ]
          },
          "metadata": {
            "tags": []
          },
          "execution_count": 8
        }
      ]
    },
    {
      "cell_type": "code",
      "metadata": {
        "id": "JJdpNLg7ElHM"
      },
      "source": [
        "df1=df.reset_index()['Close']"
      ],
      "execution_count": 9,
      "outputs": []
    },
    {
      "cell_type": "code",
      "metadata": {
        "id": "IAEcSEQcElHO",
        "outputId": "6a44c60b-36dd-45ba-aa7d-6d98ca81e8ed",
        "colab": {
          "base_uri": "https://localhost:8080/"
        }
      },
      "source": [
        "df1"
      ],
      "execution_count": 10,
      "outputs": [
        {
          "output_type": "execute_result",
          "data": {
            "text/plain": [
              "0       102.220001\n",
              "1       102.730003\n",
              "2       102.970001\n",
              "3        97.919998\n",
              "4        97.330002\n",
              "           ...    \n",
              "1214    267.670013\n",
              "1215    280.829987\n",
              "1216    263.109985\n",
              "1217    261.359985\n",
              "1218    266.199890\n",
              "Name: Close, Length: 1219, dtype: float64"
            ]
          },
          "metadata": {
            "tags": []
          },
          "execution_count": 10
        }
      ]
    },
    {
      "cell_type": "code",
      "metadata": {
        "id": "ga2yAYQNElHR",
        "outputId": "77dbe7ce-24f5-4998-9da9-2aebb62f93c7",
        "colab": {
          "base_uri": "https://localhost:8080/",
          "height": 282
        }
      },
      "source": [
        "import matplotlib.pyplot as plt\n",
        "plt.plot(df1)"
      ],
      "execution_count": 11,
      "outputs": [
        {
          "output_type": "execute_result",
          "data": {
            "text/plain": [
              "[<matplotlib.lines.Line2D at 0x7f216c0e5550>]"
            ]
          },
          "metadata": {
            "tags": []
          },
          "execution_count": 11
        },
        {
          "output_type": "display_data",
          "data": {
            "image/png": "[encoded data removed]",
            "text/plain": [
              "<Figure size 432x288 with 1 Axes>"
            ]
          },
          "metadata": {
            "tags": [],
            "needs_background": "light"
          }
        }
      ]
    },
    {
      "cell_type": "code",
      "metadata": {
        "id": "y2NAEDmqElHU"
      },
      "source": [
        "### LSTM are sensitive to the scale of the data. so we apply MinMax scaler "
      ],
      "execution_count": 12,
      "outputs": []
    },
    {
      "cell_type": "code",
      "metadata": {
        "id": "sRVq_Rb6ElHW"
      },
      "source": [
        "import numpy as np"
      ],
      "execution_count": 13,
      "outputs": []
    },
    {
      "cell_type": "code",
      "metadata": {
        "id": "kiwvWRV_ElHZ",
        "outputId": "d2e50609-449b-4732-c41e-f911b2020905",
        "colab": {
          "base_uri": "https://localhost:8080/"
        }
      },
      "source": [
        "df1"
      ],
      "execution_count": 14,
      "outputs": [
        {
          "output_type": "execute_result",
          "data": {
            "text/plain": [
              "0       102.220001\n",
              "1       102.730003\n",
              "2       102.970001\n",
              "3        97.919998\n",
              "4        97.330002\n",
              "           ...    \n",
              "1214    267.670013\n",
              "1215    280.829987\n",
              "1216    263.109985\n",
              "1217    261.359985\n",
              "1218    266.199890\n",
              "Name: Close, Length: 1219, dtype: float64"
            ]
          },
          "metadata": {
            "tags": []
          },
          "execution_count": 14
        }
      ]
    },
    {
      "cell_type": "code",
      "metadata": {
        "id": "ethYh21nElHc"
      },
      "source": [
        "from sklearn.preprocessing import MinMaxScaler\n",
        "scaler=MinMaxScaler(feature_range=(0,1))\n",
        "df1=scaler.fit_transform(np.array(df1).reshape(-1,1))"
      ],
      "execution_count": 15,
      "outputs": []
    },
    {
      "cell_type": "code",
      "metadata": {
        "id": "opeEGVGVElHe",
        "outputId": "8535832a-f2cd-4b4c-cc4b-66894b24646f",
        "colab": {
          "base_uri": "https://localhost:8080/"
        }
      },
      "source": [
        "print(df1)"
      ],
      "execution_count": 16,
      "outputs": [
        {
          "output_type": "stream",
          "text": [
            "[[0.03842669]\n",
            " [0.04085816]\n",
            " [0.04200237]\n",
            " ...\n",
            " [0.80548263]\n",
            " [0.79713936]\n",
            " [0.820214  ]]\n"
          ],
          "name": "stdout"
        }
      ]
    },
    {
      "cell_type": "code",
      "metadata": {
        "id": "ukI70vCuElHh"
      },
      "source": [
        "##splitting dataset into train and test split\n",
        "training_size=int(len(df1)*0.65)\n",
        "test_size=len(df1)-training_size\n",
        "train_data,test_data=df1[0:training_size,:],df1[training_size:len(df1),:1]\n",
        "\n",
        "#train_data,test_data=df1[test_size:len(df1),:],df1[0:test_size,:1]"
      ],
      "execution_count": 17,
      "outputs": []
    },
    {
      "cell_type": "code",
      "metadata": {
        "id": "GmGbtOu9ElHj",
        "outputId": "4acb0b12-fb3c-48be-cda2-4824c32078c1",
        "colab": {
          "base_uri": "https://localhost:8080/"
        }
      },
      "source": [
        "training_size,test_size"
      ],
      "execution_count": 18,
      "outputs": [
        {
          "output_type": "execute_result",
          "data": {
            "text/plain": [
              "(792, 427)"
            ]
          },
          "metadata": {
            "tags": []
          },
          "execution_count": 18
        }
      ]
    },
    {
      "cell_type": "code",
      "metadata": {
        "id": "tWXd_d2sElHm",
        "outputId": "7a6ecf35-535b-4ab9-bc0f-05094430eae9",
        "colab": {
          "base_uri": "https://localhost:8080/"
        }
      },
      "source": [
        "train_data"
      ],
      "execution_count": 19,
      "outputs": [
        {
          "output_type": "execute_result",
          "data": {
            "text/plain": [
              "array([[0.03842669],\n",
              "       [0.04085816],\n",
              "       [0.04200237],\n",
              "       [0.01792608],\n",
              "       [0.01511322],\n",
              "       [0.01597139],\n",
              "       [0.02483909],\n",
              "       [0.0061025 ],\n",
              "       [0.02007151],\n",
              "       [0.00386173],\n",
              "       [0.00524433],\n",
              "       [0.00090582],\n",
              "       [0.        ],\n",
              "       [0.01802145],\n",
              "       [0.0135876 ],\n",
              "       [0.01516087],\n",
              "       [0.00138257],\n",
              "       [0.07127531],\n",
              "       [0.08605481],\n",
              "       [0.09978542],\n",
              "       [0.09749701],\n",
              "       [0.08834326],\n",
              "       [0.07785456],\n",
              "       [0.0472467 ],\n",
              "       [0.02665076],\n",
              "       [0.02564957],\n",
              "       [0.03261023],\n",
              "       [0.03694875],\n",
              "       [0.0374255 ],\n",
              "       [0.03551846],\n",
              "       [0.05263406],\n",
              "       [0.04438616],\n",
              "       [0.04963049],\n",
              "       [0.06197855],\n",
              "       [0.05387364],\n",
              "       [0.06064359],\n",
              "       [0.06631703],\n",
              "       [0.06560188],\n",
              "       [0.0608343 ],\n",
              "       [0.07466029],\n",
              "       [0.07528006],\n",
              "       [0.07351608],\n",
              "       [0.06784265],\n",
              "       [0.0551609 ],\n",
              "       [0.05611441],\n",
              "       [0.06364719],\n",
              "       [0.06274134],\n",
              "       [0.0727056 ],\n",
              "       [0.07499402],\n",
              "       [0.07871273],\n",
              "       [0.08591178],\n",
              "       [0.08038137],\n",
              "       [0.08243143],\n",
              "       [0.08433847],\n",
              "       [0.08624551],\n",
              "       [0.08762812],\n",
              "       [0.09005959],\n",
              "       [0.09311084],\n",
              "       [0.1047914 ],\n",
              "       [0.09792607],\n",
              "       [0.09506553],\n",
              "       [0.10440998],\n",
              "       [0.0876758 ],\n",
              "       [0.08610249],\n",
              "       [0.09320618],\n",
              "       [0.09287245],\n",
              "       [0.07852202],\n",
              "       [0.07070319],\n",
              "       [0.07842668],\n",
              "       [0.07794993],\n",
              "       [0.07952321],\n",
              "       [0.07380213],\n",
              "       [0.07766385],\n",
              "       [0.08643622],\n",
              "       [0.08705599],\n",
              "       [0.09191895],\n",
              "       [0.07818829],\n",
              "       [0.07599521],\n",
              "       [0.06960667],\n",
              "       [0.07022644],\n",
              "       [0.10760429],\n",
              "       [0.11165673],\n",
              "       [0.11637662],\n",
              "       [0.11094158],\n",
              "       [0.11394514],\n",
              "       [0.11275325],\n",
              "       [0.12076279],\n",
              "       [0.11957089],\n",
              "       [0.12557805],\n",
              "       [0.12090581],\n",
              "       [0.12452918],\n",
              "       [0.12228841],\n",
              "       [0.11685337],\n",
              "       [0.11056017],\n",
              "       [0.11199045],\n",
              "       [0.10798567],\n",
              "       [0.11056017],\n",
              "       [0.10398092],\n",
              "       [0.11222881],\n",
              "       [0.11313466],\n",
              "       [0.12066745],\n",
              "       [0.12023835],\n",
              "       [0.11752083],\n",
              "       [0.11737781],\n",
              "       [0.11809295],\n",
              "       [0.11589987],\n",
              "       [0.11742549],\n",
              "       [0.11251489],\n",
              "       [0.11551845],\n",
              "       [0.11632893],\n",
              "       [0.10707985],\n",
              "       [0.09435039],\n",
              "       [0.09907032],\n",
              "       [0.09744932],\n",
              "       [0.09644813],\n",
              "       [0.08991653],\n",
              "       [0.09158522],\n",
              "       [0.09640045],\n",
              "       [0.09415971],\n",
              "       [0.09973777],\n",
              "       [0.08543503],\n",
              "       [0.07060785],\n",
              "       [0.08839091],\n",
              "       [0.09535161],\n",
              "       [0.0959237 ],\n",
              "       [0.09549463],\n",
              "       [0.09554228],\n",
              "       [0.10746123],\n",
              "       [0.1034088 ],\n",
              "       [0.11003573],\n",
              "       [0.11303933],\n",
              "       [0.11332537],\n",
              "       [0.10784265],\n",
              "       [0.11027412],\n",
              "       [0.10822406],\n",
              "       [0.1201907 ],\n",
              "       [0.12610249],\n",
              "       [0.13234801],\n",
              "       [0.12610249],\n",
              "       [0.12796184],\n",
              "       [0.1309654 ],\n",
              "       [0.12901072],\n",
              "       [0.13911796],\n",
              "       [0.14703216],\n",
              "       [0.14197854],\n",
              "       [0.14374252],\n",
              "       [0.13792607],\n",
              "       [0.1351609 ],\n",
              "       [0.14398092],\n",
              "       [0.14774731],\n",
              "       [0.14827174],\n",
              "       [0.14731821],\n",
              "       [0.14646004],\n",
              "       [0.14655541],\n",
              "       [0.14646004],\n",
              "       [0.14178783],\n",
              "       [0.13892729],\n",
              "       [0.1440286 ],\n",
              "       [0.14183552],\n",
              "       [0.14016684],\n",
              "       [0.14297973],\n",
              "       [0.1440286 ],\n",
              "       [0.13978546],\n",
              "       [0.14174015],\n",
              "       [0.14684146],\n",
              "       [0.15437424],\n",
              "       [0.15103691],\n",
              "       [0.15237187],\n",
              "       [0.15261022],\n",
              "       [0.15423122],\n",
              "       [0.1695828 ],\n",
              "       [0.17587604],\n",
              "       [0.17215733],\n",
              "       [0.15704408],\n",
              "       [0.16462455],\n",
              "       [0.15756851],\n",
              "       [0.16023835],\n",
              "       [0.16300359],\n",
              "       [0.16643625],\n",
              "       [0.1644338 ],\n",
              "       [0.16438615],\n",
              "       [0.17058402],\n",
              "       [0.17125148],\n",
              "       [0.1611442 ],\n",
              "       [0.15804526],\n",
              "       [0.16462455],\n",
              "       [0.16719901],\n",
              "       [0.16176397],\n",
              "       [0.16262217],\n",
              "       [0.16500596],\n",
              "       [0.16224076],\n",
              "       [0.16357567],\n",
              "       [0.16486294],\n",
              "       [0.16605484],\n",
              "       [0.17201431],\n",
              "       [0.1655304 ],\n",
              "       [0.16634088],\n",
              "       [0.16047674],\n",
              "       [0.16076278],\n",
              "       [0.15914182],\n",
              "       [0.16405246],\n",
              "       [0.1713945 ],\n",
              "       [0.17087007],\n",
              "       [0.18073899],\n",
              "       [0.18650772],\n",
              "       [0.18178779],\n",
              "       [0.17582832],\n",
              "       [0.16939213],\n",
              "       [0.17702021],\n",
              "       [0.17559   ],\n",
              "       [0.16848628],\n",
              "       [0.1573778 ],\n",
              "       [0.12319426],\n",
              "       [0.12676995],\n",
              "       [0.13344457],\n",
              "       [0.14331346],\n",
              "       [0.13835517],\n",
              "       [0.12700834],\n",
              "       [0.11852202],\n",
              "       [0.09973777],\n",
              "       [0.10984502],\n",
              "       [0.1057449 ],\n",
              "       [0.11265791],\n",
              "       [0.10898686],\n",
              "       [0.13163286],\n",
              "       [0.13020261],\n",
              "       [0.12719901],\n",
              "       [0.12500593],\n",
              "       [0.12514899],\n",
              "       [0.12734207],\n",
              "       [0.11566148],\n",
              "       [0.09983311],\n",
              "       [0.1012634 ],\n",
              "       [0.11094158],\n",
              "       [0.11036946],\n",
              "       [0.11342071],\n",
              "       [0.11799762],\n",
              "       [0.12166864],\n",
              "       [0.11256254],\n",
              "       [0.1246722 ],\n",
              "       [0.12419545],\n",
              "       [0.12591178],\n",
              "       [0.12257449],\n",
              "       [0.11957089],\n",
              "       [0.11885575],\n",
              "       [0.11861739],\n",
              "       [0.11079856],\n",
              "       [0.11017875],\n",
              "       [0.11370679],\n",
              "       [0.1085101 ],\n",
              "       [0.10579259],\n",
              "       [0.09959475],\n",
              "       [0.10822406],\n",
              "       [0.11694874],\n",
              "       [0.12638853],\n",
              "       [0.13945173],\n",
              "       [0.14655541],\n",
              "       [0.14393323],\n",
              "       [0.15222881],\n",
              "       [0.15475566],\n",
              "       [0.16295586],\n",
              "       [0.16071513],\n",
              "       [0.16095349],\n",
              "       [0.15918951],\n",
              "       [0.15675803],\n",
              "       [0.16576872],\n",
              "       [0.16786647],\n",
              "       [0.17792606],\n",
              "       [0.18412393],\n",
              "       [0.18126336],\n",
              "       [0.17554227],\n",
              "       [0.17239573],\n",
              "       [0.18626933],\n",
              "       [0.17487482],\n",
              "       [0.17554227],\n",
              "       [0.18069127],\n",
              "       [0.1796424 ],\n",
              "       [0.19089389],\n",
              "       [0.19060785],\n",
              "       [0.19084624],\n",
              "       [0.19017878],\n",
              "       [0.18922528],\n",
              "       [0.18727055],\n",
              "       [0.18917756],\n",
              "       [0.18769962],\n",
              "       [0.18860547],\n",
              "       [0.20004764],\n",
              "       [0.1964243 ],\n",
              "       [0.19680572],\n",
              "       [0.20143027],\n",
              "       [0.19728243],\n",
              "       [0.2062455 ],\n",
              "       [0.20309888],\n",
              "       [0.20505361],\n",
              "       [0.2062455 ],\n",
              "       [0.20567342],\n",
              "       [0.20767579],\n",
              "       [0.21015496],\n",
              "       [0.21277707],\n",
              "       [0.21663887],\n",
              "       [0.21530395],\n",
              "       [0.21721095],\n",
              "       [0.21849822],\n",
              "       [0.21778304],\n",
              "       [0.21825983],\n",
              "       [0.21144215],\n",
              "       [0.21659115],\n",
              "       [0.2163051 ],\n",
              "       [0.22016683],\n",
              "       [0.22007153],\n",
              "       [0.22693679],\n",
              "       [0.23117993],\n",
              "       [0.23003576],\n",
              "       [0.22831942],\n",
              "       [0.22941595],\n",
              "       [0.22679376],\n",
              "       [0.22736592],\n",
              "       [0.22412393],\n",
              "       [0.22226458],\n",
              "       [0.22350412],\n",
              "       [0.21816446],\n",
              "       [0.2165435 ],\n",
              "       [0.21563764],\n",
              "       [0.22531583],\n",
              "       [0.22312278],\n",
              "       [0.2293683 ],\n",
              "       [0.23666269],\n",
              "       [0.23609053],\n",
              "       [0.24462454],\n",
              "       [0.24948749],\n",
              "       [0.24982119],\n",
              "       [0.25525623],\n",
              "       [0.26741357],\n",
              "       [0.27794995],\n",
              "       [0.27947554],\n",
              "       [0.27480333],\n",
              "       [0.27027415],\n",
              "       [0.26736592],\n",
              "       [0.2712753 ],\n",
              "       [0.26851009],\n",
              "       [0.26760424],\n",
              "       [0.26641235],\n",
              "       [0.26779499],\n",
              "       [0.26712753],\n",
              "       [0.2651728 ],\n",
              "       [0.24166866],\n",
              "       [0.25506555],\n",
              "       [0.25697256],\n",
              "       [0.25783076],\n",
              "       [0.25702028],\n",
              "       [0.26641235],\n",
              "       [0.27556616],\n",
              "       [0.27637664],\n",
              "       [0.27756854],\n",
              "       [0.27318237],\n",
              "       [0.27351607],\n",
              "       [0.28343264],\n",
              "       [0.28352802],\n",
              "       [0.27961856],\n",
              "       [0.2810965 ],\n",
              "       [0.28867701],\n",
              "       [0.26431467],\n",
              "       [0.25878426],\n",
              "       [0.26946359],\n",
              "       [0.26741357],\n",
              "       [0.26526817],\n",
              "       [0.26927292],\n",
              "       [0.27990461],\n",
              "       [0.27694873],\n",
              "       [0.28486293],\n",
              "       [0.28243142],\n",
              "       [0.29039334],\n",
              "       [0.28333727],\n",
              "       [0.26898688],\n",
              "       [0.28166866],\n",
              "       [0.27117993],\n",
              "       [0.27089388],\n",
              "       [0.25873654],\n",
              "       [0.26784263],\n",
              "       [0.26059597],\n",
              "       [0.273087  ],\n",
              "       [0.28290821],\n",
              "       [0.29134684],\n",
              "       [0.30865311],\n",
              "       [0.31036944],\n",
              "       [0.31375446],\n",
              "       [0.31261021],\n",
              "       [0.32753276],\n",
              "       [0.33363526],\n",
              "       [0.33549461],\n",
              "       [0.33501783],\n",
              "       [0.34250296],\n",
              "       [0.3390703 ],\n",
              "       [0.34064361],\n",
              "       [0.36367103],\n",
              "       [0.37325384],\n",
              "       [0.3579976 ],\n",
              "       [0.36090583],\n",
              "       [0.35823599],\n",
              "       [0.35485098],\n",
              "       [0.35976158],\n",
              "       [0.37101307],\n",
              "       [0.36743739],\n",
              "       [0.36719899],\n",
              "       [0.34917755],\n",
              "       [0.35241954],\n",
              "       [0.36514897],\n",
              "       [0.36634086],\n",
              "       [0.36157328],\n",
              "       [0.34684148],\n",
              "       [0.34922527],\n",
              "       [0.35098925],\n",
              "       [0.35985695],\n",
              "       [0.35542314],\n",
              "       [0.35079858],\n",
              "       [0.34402862],\n",
              "       [0.34841479],\n",
              "       [0.35227652],\n",
              "       [0.36119187],\n",
              "       [0.37096542],\n",
              "       [0.37120382],\n",
              "       [0.36500595],\n",
              "       [0.37153751],\n",
              "       [0.37687725],\n",
              "       [0.36610247],\n",
              "       [0.37830747],\n",
              "       [0.37568535],\n",
              "       [0.37611442],\n",
              "       [0.36615019],\n",
              "       [0.36939211],\n",
              "       [0.36162093],\n",
              "       [0.37358761],\n",
              "       [0.37191892],\n",
              "       [0.3668653 ],\n",
              "       [0.36414775],\n",
              "       [0.32758041],\n",
              "       [0.33396903],\n",
              "       [0.35051246],\n",
              "       [0.35551844],\n",
              "       [0.36572106],\n",
              "       [0.35904647],\n",
              "       [0.36138261],\n",
              "       [0.3540405 ],\n",
              "       [0.36748511],\n",
              "       [0.37220497],\n",
              "       [0.37349224],\n",
              "       [0.36915372],\n",
              "       [0.37463648],\n",
              "       [0.37373063],\n",
              "       [0.37940406],\n",
              "       [0.38312277],\n",
              "       [0.3907032 ],\n",
              "       [0.39032179],\n",
              "       [0.38331344],\n",
              "       [0.38531581],\n",
              "       [0.36762813],\n",
              "       [0.37015494],\n",
              "       [0.36443386],\n",
              "       [0.36457688],\n",
              "       [0.39914184],\n",
              "       [0.40862928],\n",
              "       [0.40953513],\n",
              "       [0.42193087],\n",
              "       [0.40410009],\n",
              "       [0.40410009],\n",
              "       [0.41005957],\n",
              "       [0.41044098],\n",
              "       [0.40715134],\n",
              "       [0.4059118 ],\n",
              "       [0.40190705],\n",
              "       [0.40338499],\n",
              "       [0.40004769],\n",
              "       [0.39947553],\n",
              "       [0.40729436],\n",
              "       [0.40448151],\n",
              "       [0.40324196],\n",
              "       [0.41811679],\n",
              "       [0.41339686],\n",
              "       [0.42250296],\n",
              "       [0.42369485],\n",
              "       [0.42078662],\n",
              "       [0.386031  ],\n",
              "       [0.39580448],\n",
              "       [0.38588797],\n",
              "       [0.36858163],\n",
              "       [0.37506555],\n",
              "       [0.39046481],\n",
              "       [0.40991655],\n",
              "       [0.40448151],\n",
              "       [0.40467218],\n",
              "       [0.39475568],\n",
              "       [0.40114422],\n",
              "       [0.40157328],\n",
              "       [0.41010722],\n",
              "       [0.41315854],\n",
              "       [0.40691295],\n",
              "       [0.39918949],\n",
              "       [0.39709174],\n",
              "       [0.39589985],\n",
              "       [0.39013112],\n",
              "       [0.39790222],\n",
              "       [0.39933251],\n",
              "       [0.39237189],\n",
              "       [0.41601904],\n",
              "       [0.43151368],\n",
              "       [0.42989272],\n",
              "       [0.44190704],\n",
              "       [0.44872465],\n",
              "       [0.44676992],\n",
              "       [0.4466269 ],\n",
              "       [0.44629321],\n",
              "       [0.40624549],\n",
              "       [0.40157328],\n",
              "       [0.39780692],\n",
              "       [0.40829559],\n",
              "       [0.41539924],\n",
              "       [0.43485097],\n",
              "       [0.45382599],\n",
              "       [0.44047676],\n",
              "       [0.44491057],\n",
              "       [0.45692489],\n",
              "       [0.4377592 ],\n",
              "       [0.44319424],\n",
              "       [0.44209772],\n",
              "       [0.4716567 ],\n",
              "       [0.45825981],\n",
              "       [0.41525621],\n",
              "       [0.43456493],\n",
              "       [0.41010722],\n",
              "       [0.36910607],\n",
              "       [0.3907032 ],\n",
              "       [0.39213349],\n",
              "       [0.37659113],\n",
              "       [0.40696067],\n",
              "       [0.40905842],\n",
              "       [0.39666268],\n",
              "       [0.39022642],\n",
              "       [0.39928486],\n",
              "       [0.40443386],\n",
              "       [0.4249344 ],\n",
              "       [0.43275323],\n",
              "       [0.41620979],\n",
              "       [0.40123959],\n",
              "       [0.38989272],\n",
              "       [0.39313464],\n",
              "       [0.41115609],\n",
              "       [0.40820022],\n",
              "       [0.42693684],\n",
              "       [0.42040521],\n",
              "       [0.43418351],\n",
              "       [0.43194275],\n",
              "       [0.41821216],\n",
              "       [0.42922526],\n",
              "       [0.42765195],\n",
              "       [0.43351606],\n",
              "       [0.37377828],\n",
              "       [0.35275323],\n",
              "       [0.35866506],\n",
              "       [0.33721095],\n",
              "       [0.31098925],\n",
              "       [0.31418352],\n",
              "       [0.27680571],\n",
              "       [0.28066744],\n",
              "       [0.31289626],\n",
              "       [0.29191893],\n",
              "       [0.29535159],\n",
              "       [0.29053636],\n",
              "       [0.31075086],\n",
              "       [0.30054824],\n",
              "       [0.30402855],\n",
              "       [0.33792605],\n",
              "       [0.34402862],\n",
              "       [0.33234799],\n",
              "       [0.33544696],\n",
              "       [0.3369249 ],\n",
              "       [0.35518474],\n",
              "       [0.34421929],\n",
              "       [0.35251491],\n",
              "       [0.34383788],\n",
              "       [0.34174013],\n",
              "       [0.31241954],\n",
              "       [0.31241954],\n",
              "       [0.38140644],\n",
              "       [0.37868888],\n",
              "       [0.37110844],\n",
              "       [0.37997615],\n",
              "       [0.39051253],\n",
              "       [0.38073898],\n",
              "       [0.39308699],\n",
              "       [0.39957091],\n",
              "       [0.40410009],\n",
              "       [0.42193087],\n",
              "       [0.4356138 ],\n",
              "       [0.4425745 ],\n",
              "       [0.44090582],\n",
              "       [0.42984507],\n",
              "       [0.42450533],\n",
              "       [0.42717516],\n",
              "       [0.42202617],\n",
              "       [0.43065555],\n",
              "       [0.42736591],\n",
              "       [0.44214536],\n",
              "       [0.43752081],\n",
              "       [0.43270558],\n",
              "       [0.43661503],\n",
              "       [0.44581642],\n",
              "       [0.46541118],\n",
              "       [0.47594757],\n",
              "       [0.47256255],\n",
              "       [0.47094159],\n",
              "       [0.46331343],\n",
              "       [0.44824786],\n",
              "       [0.4526341 ],\n",
              "       [0.46426694],\n",
              "       [0.46836706],\n",
              "       [0.46841478],\n",
              "       [0.4893921 ],\n",
              "       [0.48481527],\n",
              "       [0.49654348],\n",
              "       [0.4926341 ],\n",
              "       [0.51413586],\n",
              "       [0.51175207],\n",
              "       [0.51289631],\n",
              "       [0.48719906],\n",
              "       [0.49983312],\n",
              "       [0.48476755],\n",
              "       [0.4866269 ],\n",
              "       [0.47752088],\n",
              "       [0.49201429],\n",
              "       [0.46994037],\n",
              "       [0.49721093],\n",
              "       [0.51999996],\n",
              "       [0.52719906],\n",
              "       [0.5214779 ],\n",
              "       [0.51671032],\n",
              "       [0.53759235],\n",
              "       [0.53949942],\n",
              "       [0.53907028],\n",
              "       [0.55222885],\n",
              "       [0.54922525],\n",
              "       [0.54317041],\n",
              "       [0.55199046],\n",
              "       [0.55661502],\n",
              "       [0.57454109],\n",
              "       [0.58803336],\n",
              "       [0.39141831],\n",
              "       [0.38488675],\n",
              "       [0.36662691],\n",
              "       [0.37387365],\n",
              "       [0.36943976],\n",
              "       [0.39194275],\n",
              "       [0.39866505],\n",
              "       [0.43637663],\n",
              "       [0.42741356],\n",
              "       [0.43394512],\n",
              "       [0.42398089],\n",
              "       [0.41048863],\n",
              "       [0.40948748],\n",
              "       [0.41454111],\n",
              "       [0.40700832],\n",
              "       [0.3839809 ],\n",
              "       [0.3796901 ],\n",
              "       [0.37349224],\n",
              "       [0.37406432],\n",
              "       [0.37892727],\n",
              "       [0.37539924],\n",
              "       [0.3837425 ],\n",
              "       [0.39713947],\n",
              "       [0.39141831],\n",
              "       [0.38970198],\n",
              "       [0.3979976 ],\n",
              "       [0.3888915 ],\n",
              "       [0.36710369],\n",
              "       [0.34812867],\n",
              "       [0.32595945],\n",
              "       [0.32839089],\n",
              "       [0.33382593],\n",
              "       [0.34221692],\n",
              "       [0.32343264],\n",
              "       [0.32038139],\n",
              "       [0.3249583 ],\n",
              "       [0.31666268],\n",
              "       [0.31532777],\n",
              "       [0.32848626],\n",
              "       [0.34259833],\n",
              "       [0.32786646],\n",
              "       [0.33969011],\n",
              "       [0.33730632],\n",
              "       [0.34703215],\n",
              "       [0.35604287],\n",
              "       [0.33516092],\n",
              "       [0.32553039],\n",
              "       [0.31070321],\n",
              "       [0.32548267],\n",
              "       [0.30841479],\n",
              "       [0.30116805],\n",
              "       [0.30078663],\n",
              "       [0.30388553],\n",
              "       [0.27280096],\n",
              "       [0.2821931 ],\n",
              "       [0.28405245],\n",
              "       [0.28300358],\n",
              "       [0.30808103],\n",
              "       [0.31113227],\n",
              "       [0.28967816],\n",
              "       [0.28553039],\n",
              "       [0.2890107 ],\n",
              "       [0.28715135],\n",
              "       [0.24734202],\n",
              "       [0.27075086],\n",
              "       [0.24414775],\n",
              "       [0.2285101 ],\n",
              "       [0.24820023],\n",
              "       [0.27475561],\n",
              "       [0.27456494],\n",
              "       [0.26789036],\n",
              "       [0.25992843],\n",
              "       [0.26593563],\n",
              "       [0.27351607],\n",
              "       [0.25606671],\n",
              "       [0.2421931 ],\n",
              "       [0.22593563],\n",
              "       [0.22884386],\n",
              "       [0.23866507],\n",
              "       [0.23690108],\n",
              "       [0.2163051 ],\n",
              "       [0.17825983],\n",
              "       [0.18245525],\n",
              "       [0.19384984],\n",
              "       [0.17911796],\n",
              "       [0.20128725],\n",
              "       [0.19470797],\n",
              "       [0.20309888],\n",
              "       [0.21225263],\n",
              "       [0.2214541 ],\n",
              "       [0.22374252],\n",
              "       [0.20867694],\n",
              "       [0.21678189],\n",
              "       [0.2062455 ],\n",
              "       [0.22736592],\n",
              "       [0.22846245],\n",
              "       [0.23999998],\n",
              "       [0.24243142],\n",
              "       [0.23790224],\n",
              "       [0.21945172],\n",
              "       [0.23599523],\n",
              "       [0.18631705],\n",
              "       [0.18707981],\n",
              "       [0.14679377],\n",
              "       [0.14255063],\n",
              "       [0.19079852],\n",
              "       [0.19241955],\n",
              "       [0.18612631],\n",
              "       [0.17606671],\n",
              "       [0.19794989],\n",
              "       [0.17916568],\n",
              "       [0.20877232],\n",
              "       [0.2092491 ],\n",
              "       [0.23060784],\n",
              "       [0.23871272],\n",
              "       [0.23856969],\n",
              "       [0.23666269],\n",
              "       [0.24424313],\n",
              "       [0.2612157 ],\n",
              "       [0.2544934 ],\n",
              "       [0.2581168 ],\n",
              "       [0.26641235],\n",
              "       [0.25463649],\n",
              "       [0.23904648],\n",
              "       [0.24634087],\n",
              "       [0.26150174],\n",
              "       [0.2541597 ],\n",
              "       [0.23852204],\n",
              "       [0.26822405],\n",
              "       [0.3457926 ],\n",
              "       [0.3411204 ],\n",
              "       [0.3579976 ],\n",
              "       [0.36710369],\n",
              "       [0.36390942],\n",
              "       [0.34431467],\n",
              "       [0.34884385],\n",
              "       [0.34150174],\n",
              "       [0.33792605],\n",
              "       [0.33330157],\n",
              "       [0.33272941],\n",
              "       [0.32581643],\n",
              "       [0.32481521],\n",
              "       [0.32610247],\n",
              "       [0.31408815],\n",
              "       [0.3229082 ],\n",
              "       [0.33592368],\n",
              "       [0.33358761]])"
            ]
          },
          "metadata": {
            "tags": []
          },
          "execution_count": 19
        }
      ]
    },
    {
      "cell_type": "code",
      "metadata": {
        "id": "vjt0HG3IElHq"
      },
      "source": [
        "import numpy\n",
        "# convert an array of values into a dataset matrix\n",
        "def create_dataset(dataset, time_step=1):\n",
        "\tdataX, dataY = [], []\n",
        "\tfor i in range(len(dataset)-time_step-1):\n",
        "\t\ta = dataset[i:(i+time_step), 0]   ###i=0, 0,1,2,3-----99   100 \n",
        "\t\tdataX.append(a)\n",
        "\t\tdataY.append(dataset[i + time_step, 0])\n",
        "\treturn numpy.array(dataX), numpy.array(dataY)"
      ],
      "execution_count": 20,
      "outputs": []
    },
    {
      "cell_type": "code",
      "metadata": {
        "id": "FCODiH9fElHt"
      },
      "source": [
        "# reshape into X=t,t+1,t+2,t+3 and Y=t+4\n",
        "time_step = 100\n",
        "X_train, y_train = create_dataset(train_data, time_step)\n",
        "X_test, ytest = create_dataset(test_data, time_step)"
      ],
      "execution_count": 21,
      "outputs": []
    },
    {
      "cell_type": "code",
      "metadata": {
        "id": "UDi3Ur4VElHv",
        "outputId": "8a820efe-685f-4668-dfa5-994bfca9243a",
        "colab": {
          "base_uri": "https://localhost:8080/"
        }
      },
      "source": [
        "print(X_train.shape), print(y_train.shape)"
      ],
      "execution_count": 22,
      "outputs": [
        {
          "output_type": "stream",
          "text": [
            "(691, 100)\n",
            "(691,)\n"
          ],
          "name": "stdout"
        },
        {
          "output_type": "execute_result",
          "data": {
            "text/plain": [
              "(None, None)"
            ]
          },
          "metadata": {
            "tags": []
          },
          "execution_count": 22
        }
      ]
    },
    {
      "cell_type": "code",
      "metadata": {
        "id": "eEyoaBJcElHx",
        "outputId": "2f1c97ac-8ed5-49cf-9a3e-b2c5b109751b",
        "colab": {
          "base_uri": "https://localhost:8080/"
        }
      },
      "source": [
        "print(X_test.shape), print(ytest.shape)"
      ],
      "execution_count": 23,
      "outputs": [
        {
          "output_type": "stream",
          "text": [
            "(326, 100)\n",
            "(326,)\n"
          ],
          "name": "stdout"
        },
        {
          "output_type": "execute_result",
          "data": {
            "text/plain": [
              "(None, None)"
            ]
          },
          "metadata": {
            "tags": []
          },
          "execution_count": 23
        }
      ]
    },
    {
      "cell_type": "code",
      "metadata": {
        "id": "hkqDkHEPElH0"
      },
      "source": [
        "# reshape input to be [samples, time steps, features] which is required for LSTM\n",
        "X_train =X_train.reshape(X_train.shape[0],X_train.shape[1] , 1)\n",
        "X_test = X_test.reshape(X_test.shape[0],X_test.shape[1] , 1)"
      ],
      "execution_count": 24,
      "outputs": []
    },
    {
      "cell_type": "code",
      "metadata": {
        "id": "j-RiYgYbElH3"
      },
      "source": [
        "### Create the Stacked LSTM model\n",
        "from tensorflow.keras.models import Sequential\n",
        "from tensorflow.keras.layers import Dense\n",
        "from tensorflow.keras.layers import LSTM"
      ],
      "execution_count": 25,
      "outputs": []
    },
    {
      "cell_type": "code",
      "metadata": {
        "id": "Xu2lLd7fElH6"
      },
      "source": [
        "model=Sequential()\n",
        "model.add(LSTM(50,return_sequences=True,input_shape=(100,1)))\n",
        "model.add(LSTM(50,return_sequences=True))\n",
        "model.add(LSTM(50))\n",
        "model.add(Dense(1))\n",
        "model.compile(loss='mean_squared_error',optimizer='adam')\n"
      ],
      "execution_count": 26,
      "outputs": []
    },
    {
      "cell_type": "code",
      "metadata": {
        "id": "roWWUmzNElH9",
        "outputId": "70eba39f-67ce-4348-a2eb-d672425ee118",
        "colab": {
          "base_uri": "https://localhost:8080/"
        }
      },
      "source": [
        "model.summary()"
      ],
      "execution_count": 27,
      "outputs": [
        {
          "output_type": "stream",
          "text": [
            "Model: \"sequential\"\n",
            "_________________________________________________________________\n",
            "Layer (type)                 Output Shape              Param #   \n",
            "=================================================================\n",
            "lstm (LSTM)                  (None, 100, 50)           10400     \n",
            "_________________________________________________________________\n",
            "lstm_1 (LSTM)                (None, 100, 50)           20200     \n",
            "_________________________________________________________________\n",
            "lstm_2 (LSTM)                (None, 50)                20200     \n",
            "_________________________________________________________________\n",
            "dense (Dense)                (None, 1)                 51        \n",
            "=================================================================\n",
            "Total params: 50,851\n",
            "Trainable params: 50,851\n",
            "Non-trainable params: 0\n",
            "_________________________________________________________________\n"
          ],
          "name": "stdout"
        }
      ]
    },
    {
      "cell_type": "code",
      "metadata": {
        "id": "ekCZtn-PElIB",
        "outputId": "ab4ccbbb-2691-4cdd-b0c2-44fe1c59e949",
        "colab": {
          "base_uri": "https://localhost:8080/"
        }
      },
      "source": [
        "model.summary()"
      ],
      "execution_count": 28,
      "outputs": [
        {
          "output_type": "stream",
          "text": [
            "Model: \"sequential\"\n",
            "_________________________________________________________________\n",
            "Layer (type)                 Output Shape              Param #   \n",
            "=================================================================\n",
            "lstm (LSTM)                  (None, 100, 50)           10400     \n",
            "_________________________________________________________________\n",
            "lstm_1 (LSTM)                (None, 100, 50)           20200     \n",
            "_________________________________________________________________\n",
            "lstm_2 (LSTM)                (None, 50)                20200     \n",
            "_________________________________________________________________\n",
            "dense (Dense)                (None, 1)                 51        \n",
            "=================================================================\n",
            "Total params: 50,851\n",
            "Trainable params: 50,851\n",
            "Non-trainable params: 0\n",
            "_________________________________________________________________\n"
          ],
          "name": "stdout"
        }
      ]
    },
    {
      "cell_type": "code",
      "metadata": {
        "id": "5PM5HQUqElID"
      },
      "source": [
        ""
      ],
      "execution_count": 28,
      "outputs": []
    },
    {
      "cell_type": "code",
      "metadata": {
        "id": "4NyZ0eJKElIF",
        "outputId": "9e6b21d1-5d53-424d-e0d5-c5979b40111a",
        "colab": {
          "base_uri": "https://localhost:8080/"
        }
      },
      "source": [
        "model.fit(X_train,y_train,validation_data=(X_test,ytest),epochs=100,batch_size=64,verbose=1)"
      ],
      "execution_count": 29,
      "outputs": [
        {
          "output_type": "stream",
          "text": [
            "Epoch 1/100\n",
            "11/11 [==============================] - 3s 265ms/step - loss: 0.0349 - val_loss: 0.0096\n",
            "Epoch 2/100\n",
            "11/11 [==============================] - 2s 175ms/step - loss: 0.0045 - val_loss: 0.0119\n",
            "Epoch 3/100\n",
            "11/11 [==============================] - 2s 171ms/step - loss: 0.0029 - val_loss: 0.0205\n",
            "Epoch 4/100\n",
            "11/11 [==============================] - 2s 168ms/step - loss: 0.0020 - val_loss: 0.0053\n",
            "Epoch 5/100\n",
            "11/11 [==============================] - 2s 172ms/step - loss: 0.0014 - val_loss: 0.0043\n",
            "Epoch 6/100\n",
            "11/11 [==============================] - 2s 169ms/step - loss: 0.0013 - val_loss: 0.0044\n",
            "Epoch 7/100\n",
            "11/11 [==============================] - 2s 172ms/step - loss: 0.0012 - val_loss: 0.0051\n",
            "Epoch 8/100\n",
            "11/11 [==============================] - 2s 170ms/step - loss: 0.0012 - val_loss: 0.0048\n",
            "Epoch 9/100\n",
            "11/11 [==============================] - 2s 179ms/step - loss: 0.0011 - val_loss: 0.0042\n",
            "Epoch 10/100\n",
            "11/11 [==============================] - 2s 176ms/step - loss: 0.0011 - val_loss: 0.0046\n",
            "Epoch 11/100\n",
            "11/11 [==============================] - 2s 178ms/step - loss: 0.0012 - val_loss: 0.0057\n",
            "Epoch 12/100\n",
            "11/11 [==============================] - 2s 172ms/step - loss: 0.0013 - val_loss: 0.0051\n",
            "Epoch 13/100\n",
            "11/11 [==============================] - 2s 169ms/step - loss: 0.0011 - val_loss: 0.0048\n",
            "Epoch 14/100\n",
            "11/11 [==============================] - 2s 170ms/step - loss: 0.0010 - val_loss: 0.0052\n",
            "Epoch 15/100\n",
            "11/11 [==============================] - 2s 171ms/step - loss: 0.0011 - val_loss: 0.0046\n",
            "Epoch 16/100\n",
            "11/11 [==============================] - 2s 172ms/step - loss: 9.9914e-04 - val_loss: 0.0044\n",
            "Epoch 17/100\n",
            "11/11 [==============================] - 2s 169ms/step - loss: 0.0011 - val_loss: 0.0055\n",
            "Epoch 18/100\n",
            "11/11 [==============================] - 2s 173ms/step - loss: 0.0010 - val_loss: 0.0051\n",
            "Epoch 19/100\n",
            "11/11 [==============================] - 2s 171ms/step - loss: 9.7694e-04 - val_loss: 0.0044\n",
            "Epoch 20/100\n",
            "11/11 [==============================] - 2s 171ms/step - loss: 9.5976e-04 - val_loss: 0.0040\n",
            "Epoch 21/100\n",
            "11/11 [==============================] - 2s 170ms/step - loss: 9.1214e-04 - val_loss: 0.0046\n",
            "Epoch 22/100\n",
            "11/11 [==============================] - 2s 171ms/step - loss: 9.8759e-04 - val_loss: 0.0059\n",
            "Epoch 23/100\n",
            "11/11 [==============================] - 2s 168ms/step - loss: 9.6607e-04 - val_loss: 0.0052\n",
            "Epoch 24/100\n",
            "11/11 [==============================] - 2s 169ms/step - loss: 8.7097e-04 - val_loss: 0.0046\n",
            "Epoch 25/100\n",
            "11/11 [==============================] - 2s 171ms/step - loss: 8.8297e-04 - val_loss: 0.0051\n",
            "Epoch 26/100\n",
            "11/11 [==============================] - 2s 172ms/step - loss: 8.6730e-04 - val_loss: 0.0053\n",
            "Epoch 27/100\n",
            "11/11 [==============================] - 2s 170ms/step - loss: 9.1330e-04 - val_loss: 0.0038\n",
            "Epoch 28/100\n",
            "11/11 [==============================] - 2s 170ms/step - loss: 9.1734e-04 - val_loss: 0.0040\n",
            "Epoch 29/100\n",
            "11/11 [==============================] - 2s 172ms/step - loss: 8.7104e-04 - val_loss: 0.0051\n",
            "Epoch 30/100\n",
            "11/11 [==============================] - 2s 169ms/step - loss: 8.4237e-04 - val_loss: 0.0061\n",
            "Epoch 31/100\n",
            "11/11 [==============================] - 2s 176ms/step - loss: 8.6557e-04 - val_loss: 0.0062\n",
            "Epoch 32/100\n",
            "11/11 [==============================] - 2s 175ms/step - loss: 8.3756e-04 - val_loss: 0.0060\n",
            "Epoch 33/100\n",
            "11/11 [==============================] - 2s 169ms/step - loss: 8.7542e-04 - val_loss: 0.0046\n",
            "Epoch 34/100\n",
            "11/11 [==============================] - 2s 171ms/step - loss: 8.1743e-04 - val_loss: 0.0049\n",
            "Epoch 35/100\n",
            "11/11 [==============================] - 2s 170ms/step - loss: 9.1673e-04 - val_loss: 0.0105\n",
            "Epoch 36/100\n",
            "11/11 [==============================] - 2s 174ms/step - loss: 9.5665e-04 - val_loss: 0.0077\n",
            "Epoch 37/100\n",
            "11/11 [==============================] - 2s 172ms/step - loss: 9.0198e-04 - val_loss: 0.0048\n",
            "Epoch 38/100\n",
            "11/11 [==============================] - 2s 172ms/step - loss: 8.0748e-04 - val_loss: 0.0063\n",
            "Epoch 39/100\n",
            "11/11 [==============================] - 2s 170ms/step - loss: 7.8171e-04 - val_loss: 0.0071\n",
            "Epoch 40/100\n",
            "11/11 [==============================] - 2s 177ms/step - loss: 8.4475e-04 - val_loss: 0.0078\n",
            "Epoch 41/100\n",
            "11/11 [==============================] - 2s 172ms/step - loss: 9.5469e-04 - val_loss: 0.0052\n",
            "Epoch 42/100\n",
            "11/11 [==============================] - 2s 177ms/step - loss: 9.0582e-04 - val_loss: 0.0043\n",
            "Epoch 43/100\n",
            "11/11 [==============================] - 2s 174ms/step - loss: 8.7005e-04 - val_loss: 0.0050\n",
            "Epoch 44/100\n",
            "11/11 [==============================] - 2s 173ms/step - loss: 8.5737e-04 - val_loss: 0.0094\n",
            "Epoch 45/100\n",
            "11/11 [==============================] - 2s 174ms/step - loss: 8.8939e-04 - val_loss: 0.0069\n",
            "Epoch 46/100\n",
            "11/11 [==============================] - 2s 179ms/step - loss: 8.6864e-04 - val_loss: 0.0046\n",
            "Epoch 47/100\n",
            "11/11 [==============================] - 2s 179ms/step - loss: 7.8829e-04 - val_loss: 0.0044\n",
            "Epoch 48/100\n",
            "11/11 [==============================] - 2s 178ms/step - loss: 8.0961e-04 - val_loss: 0.0045\n",
            "Epoch 49/100\n",
            "11/11 [==============================] - 2s 174ms/step - loss: 7.7314e-04 - val_loss: 0.0047\n",
            "Epoch 50/100\n",
            "11/11 [==============================] - 2s 173ms/step - loss: 8.2886e-04 - val_loss: 0.0061\n",
            "Epoch 51/100\n",
            "11/11 [==============================] - 2s 173ms/step - loss: 7.8317e-04 - val_loss: 0.0053\n",
            "Epoch 52/100\n",
            "11/11 [==============================] - 2s 169ms/step - loss: 7.4961e-04 - val_loss: 0.0065\n",
            "Epoch 53/100\n",
            "11/11 [==============================] - 2s 175ms/step - loss: 7.3614e-04 - val_loss: 0.0053\n",
            "Epoch 54/100\n",
            "11/11 [==============================] - 2s 174ms/step - loss: 7.3701e-04 - val_loss: 0.0076\n",
            "Epoch 55/100\n",
            "11/11 [==============================] - 2s 175ms/step - loss: 7.5335e-04 - val_loss: 0.0065\n",
            "Epoch 56/100\n",
            "11/11 [==============================] - 2s 172ms/step - loss: 7.2510e-04 - val_loss: 0.0069\n",
            "Epoch 57/100\n",
            "11/11 [==============================] - 2s 171ms/step - loss: 7.1661e-04 - val_loss: 0.0071\n",
            "Epoch 58/100\n",
            "11/11 [==============================] - 2s 175ms/step - loss: 7.4151e-04 - val_loss: 0.0052\n",
            "Epoch 59/100\n",
            "11/11 [==============================] - 2s 170ms/step - loss: 7.2606e-04 - val_loss: 0.0053\n",
            "Epoch 60/100\n",
            "11/11 [==============================] - 2s 173ms/step - loss: 7.1802e-04 - val_loss: 0.0063\n",
            "Epoch 61/100\n",
            "11/11 [==============================] - 2s 171ms/step - loss: 7.5316e-04 - val_loss: 0.0081\n",
            "Epoch 62/100\n",
            "11/11 [==============================] - 2s 172ms/step - loss: 7.4346e-04 - val_loss: 0.0043\n",
            "Epoch 63/100\n",
            "11/11 [==============================] - 2s 174ms/step - loss: 7.2004e-04 - val_loss: 0.0039\n",
            "Epoch 64/100\n",
            "11/11 [==============================] - 2s 169ms/step - loss: 6.7880e-04 - val_loss: 0.0049\n",
            "Epoch 65/100\n",
            "11/11 [==============================] - 2s 172ms/step - loss: 6.7893e-04 - val_loss: 0.0052\n",
            "Epoch 66/100\n",
            "11/11 [==============================] - 2s 178ms/step - loss: 6.8713e-04 - val_loss: 0.0059\n",
            "Epoch 67/100\n",
            "11/11 [==============================] - 2s 170ms/step - loss: 6.8282e-04 - val_loss: 0.0036\n",
            "Epoch 68/100\n",
            "11/11 [==============================] - 2s 173ms/step - loss: 7.0820e-04 - val_loss: 0.0051\n",
            "Epoch 69/100\n",
            "11/11 [==============================] - 2s 175ms/step - loss: 6.5662e-04 - val_loss: 0.0069\n",
            "Epoch 70/100\n",
            "11/11 [==============================] - 2s 171ms/step - loss: 7.4181e-04 - val_loss: 0.0068\n",
            "Epoch 71/100\n",
            "11/11 [==============================] - 2s 175ms/step - loss: 6.7577e-04 - val_loss: 0.0037\n",
            "Epoch 72/100\n",
            "11/11 [==============================] - 2s 178ms/step - loss: 7.6656e-04 - val_loss: 0.0033\n",
            "Epoch 73/100\n",
            "11/11 [==============================] - 2s 175ms/step - loss: 7.0742e-04 - val_loss: 0.0064\n",
            "Epoch 74/100\n",
            "11/11 [==============================] - 2s 175ms/step - loss: 6.5662e-04 - val_loss: 0.0055\n",
            "Epoch 75/100\n",
            "11/11 [==============================] - 2s 173ms/step - loss: 6.4760e-04 - val_loss: 0.0041\n",
            "Epoch 76/100\n",
            "11/11 [==============================] - 2s 176ms/step - loss: 6.4651e-04 - val_loss: 0.0045\n",
            "Epoch 77/100\n",
            "11/11 [==============================] - 2s 177ms/step - loss: 6.1882e-04 - val_loss: 0.0057\n",
            "Epoch 78/100\n",
            "11/11 [==============================] - 2s 178ms/step - loss: 6.0759e-04 - val_loss: 0.0042\n",
            "Epoch 79/100\n",
            "11/11 [==============================] - 2s 172ms/step - loss: 6.1096e-04 - val_loss: 0.0043\n",
            "Epoch 80/100\n",
            "11/11 [==============================] - 2s 172ms/step - loss: 6.1375e-04 - val_loss: 0.0049\n",
            "Epoch 81/100\n",
            "11/11 [==============================] - 2s 173ms/step - loss: 6.0644e-04 - val_loss: 0.0033\n",
            "Epoch 82/100\n",
            "11/11 [==============================] - 2s 175ms/step - loss: 6.3474e-04 - val_loss: 0.0035\n",
            "Epoch 83/100\n",
            "11/11 [==============================] - 2s 173ms/step - loss: 5.7326e-04 - val_loss: 0.0041\n",
            "Epoch 84/100\n",
            "11/11 [==============================] - 2s 176ms/step - loss: 5.5595e-04 - val_loss: 0.0034\n",
            "Epoch 85/100\n",
            "11/11 [==============================] - 2s 176ms/step - loss: 5.7515e-04 - val_loss: 0.0049\n",
            "Epoch 86/100\n",
            "11/11 [==============================] - 2s 173ms/step - loss: 5.4711e-04 - val_loss: 0.0043\n",
            "Epoch 87/100\n",
            "11/11 [==============================] - 2s 172ms/step - loss: 5.8105e-04 - val_loss: 0.0032\n",
            "Epoch 88/100\n",
            "11/11 [==============================] - 2s 173ms/step - loss: 5.1790e-04 - val_loss: 0.0025\n",
            "Epoch 89/100\n",
            "11/11 [==============================] - 2s 175ms/step - loss: 5.1495e-04 - val_loss: 0.0032\n",
            "Epoch 90/100\n",
            "11/11 [==============================] - 2s 178ms/step - loss: 4.9697e-04 - val_loss: 0.0028\n",
            "Epoch 91/100\n",
            "11/11 [==============================] - 2s 175ms/step - loss: 4.9017e-04 - val_loss: 0.0037\n",
            "Epoch 92/100\n",
            "11/11 [==============================] - 2s 175ms/step - loss: 5.0687e-04 - val_loss: 0.0028\n",
            "Epoch 93/100\n",
            "11/11 [==============================] - 2s 174ms/step - loss: 5.1454e-04 - val_loss: 0.0045\n",
            "Epoch 94/100\n",
            "11/11 [==============================] - 2s 173ms/step - loss: 4.8987e-04 - val_loss: 0.0034\n",
            "Epoch 95/100\n",
            "11/11 [==============================] - 2s 169ms/step - loss: 4.5542e-04 - val_loss: 0.0028\n",
            "Epoch 96/100\n",
            "11/11 [==============================] - 2s 174ms/step - loss: 4.4717e-04 - val_loss: 0.0025\n",
            "Epoch 97/100\n",
            "11/11 [==============================] - 2s 175ms/step - loss: 4.3756e-04 - val_loss: 0.0023\n",
            "Epoch 98/100\n",
            "11/11 [==============================] - 2s 176ms/step - loss: 4.1650e-04 - val_loss: 0.0018\n",
            "Epoch 99/100\n",
            "11/11 [==============================] - 2s 177ms/step - loss: 4.3303e-04 - val_loss: 0.0043\n",
            "Epoch 100/100\n",
            "11/11 [==============================] - 2s 171ms/step - loss: 4.4439e-04 - val_loss: 0.0017\n"
          ],
          "name": "stdout"
        },
        {
          "output_type": "execute_result",
          "data": {
            "text/plain": [
              "<tensorflow.python.keras.callbacks.History at 0x7f212b1447b8>"
            ]
          },
          "metadata": {
            "tags": []
          },
          "execution_count": 29
        }
      ]
    },
    {
      "cell_type": "code",
      "metadata": {
        "id": "ZWjDxV2DElII"
      },
      "source": [
        "import tensorflow as tf"
      ],
      "execution_count": 30,
      "outputs": []
    },
    {
      "cell_type": "code",
      "metadata": {
        "id": "hoKBhwz_ElIL",
        "outputId": "4b330ce5-03db-419a-fe9c-2091b48c4d04",
        "colab": {
          "base_uri": "https://localhost:8080/",
          "height": 35
        }
      },
      "source": [
        "tf.__version__"
      ],
      "execution_count": 31,
      "outputs": [
        {
          "output_type": "execute_result",
          "data": {
            "application/vnd.google.colaboratory.intrinsic+json": {
              "type": "string"
            },
            "text/plain": [
              "'2.3.0'"
            ]
          },
          "metadata": {
            "tags": []
          },
          "execution_count": 31
        }
      ]
    },
    {
      "cell_type": "code",
      "metadata": {
        "id": "eGAfOgMXElIN"
      },
      "source": [
        "### Lets Do the prediction and check performance metrics\n",
        "train_predict=model.predict(X_train)\n",
        "test_predict=model.predict(X_test)"
      ],
      "execution_count": 32,
      "outputs": []
    },
    {
      "cell_type": "code",
      "metadata": {
        "id": "1HXKMR2SElIP"
      },
      "source": [
        "##Transformback to original form\n",
        "train_predict=scaler.inverse_transform(train_predict)\n",
        "test_predict=scaler.inverse_transform(test_predict)"
      ],
      "execution_count": 33,
      "outputs": []
    },
    {
      "cell_type": "code",
      "metadata": {
        "id": "Mc63UuqmElIS",
        "outputId": "131497d6-eab5-4c2a-8808-9bafa59edebc",
        "colab": {
          "base_uri": "https://localhost:8080/"
        }
      },
      "source": [
        "### Calculate RMSE performance metrics\n",
        "import math\n",
        "from sklearn.metrics import mean_squared_error\n",
        "math.sqrt(mean_squared_error(y_train,train_predict))"
      ],
      "execution_count": 34,
      "outputs": [
        {
          "output_type": "execute_result",
          "data": {
            "text/plain": [
              "157.16350006399003"
            ]
          },
          "metadata": {
            "tags": []
          },
          "execution_count": 34
        }
      ]
    },
    {
      "cell_type": "code",
      "metadata": {
        "id": "Ms3ZvJXKElIU",
        "outputId": "1113deef-89fb-45e4-80d2-d910aae4f05b",
        "colab": {
          "base_uri": "https://localhost:8080/"
        }
      },
      "source": [
        "### Test Data RMSE\n",
        "math.sqrt(mean_squared_error(ytest,test_predict))"
      ],
      "execution_count": 35,
      "outputs": [
        {
          "output_type": "execute_result",
          "data": {
            "text/plain": [
              "212.0087001656241"
            ]
          },
          "metadata": {
            "tags": []
          },
          "execution_count": 35
        }
      ]
    },
    {
      "cell_type": "code",
      "metadata": {
        "id": "x35-cB3bElIW",
        "outputId": "4c8d4a1c-3dde-4740-fa80-0d26a00af602",
        "colab": {
          "base_uri": "https://localhost:8080/",
          "height": 265
        }
      },
      "source": [
        "### Plotting \n",
        "# shift train predictions for plotting\n",
        "look_back=100\n",
        "trainPredictPlot = numpy.empty_like(df1)\n",
        "trainPredictPlot[:, :] = np.nan\n",
        "trainPredictPlot[look_back:len(train_predict)+look_back, :] = train_predict\n",
        "# shift test predictions for plotting\n",
        "testPredictPlot = numpy.empty_like(df1)\n",
        "testPredictPlot[:, :] = numpy.nan\n",
        "testPredictPlot[len(train_predict)+(look_back*2)+1:len(df1)-1, :] = test_predict\n",
        "# plot baseline and predictions\n",
        "plt.plot(scaler.inverse_transform(df1))\n",
        "plt.plot(trainPredictPlot)\n",
        "plt.plot(testPredictPlot)\n",
        "plt.show()"
      ],
      "execution_count": 36,
      "outputs": [
        {
          "output_type": "display_data",
          "data": {
            "image/png": "[encoded data removed]",
            "text/plain": [
              "<Figure size 432x288 with 1 Axes>"
            ]
          },
          "metadata": {
            "tags": [],
            "needs_background": "light"
          }
        }
      ]
    }
  ]
}