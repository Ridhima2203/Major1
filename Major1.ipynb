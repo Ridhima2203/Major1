{
  "nbformat": 4,
  "nbformat_minor": 0,
  "metadata": {
    "kernelspec": {
      "display_name": "Python 3",
      "language": "python",
      "name": "python3"
    },
    "language_info": {
      "codemirror_mode": {
        "name": "ipython",
        "version": 3
      },
      "file_extension": ".py",
      "mimetype": "text/x-python",
      "name": "python",
      "nbconvert_exporter": "python",
      "pygments_lexer": "ipython3",
      "version": "3.6.9"
    },
    "colab": {
      "name": "Major1.ipynb",
      "provenance": [],
      "collapsed_sections": [],
      "toc_visible": true,
      "include_colab_link": true
    }
  },
  "cells": [
    {
      "cell_type": "markdown",
      "metadata": {
        "id": "view-in-github",
        "colab_type": "text"
      },
      "source": [
        "<a href=\"https://colab.research.google.com/github/Ridhima2203/Major1/blob/main/Major1.ipynb\" target=\"_parent\"><img src=\"https://colab.research.google.com/assets/colab-badge.svg\" alt=\"Open In Colab\"/></a>"
      ]
    },
    {
      "cell_type": "markdown",
      "metadata": {
        "id": "cnAfyNcVElGy"
      },
      "source": [
        "### Stock Market Prediction And Forecasting Using Stacked LSTM"
      ]
    },
    {
      "cell_type": "code",
      "metadata": {
        "id": "yQotlZkDElG5",
        "outputId": "d142865e-bf5b-4462-cbb6-697da6451ec4",
        "colab": {
          "base_uri": "https://localhost:8080/"
        }
      },
      "source": [
        "!pip install yfinance\n",
        "!pip install yahoofinancials\n",
        "import yfinance as yf\n",
        "from yahoofinancials import YahooFinancials\n",
        "df=yf.download('TSLA', start=\"2015-02-01\")"
      ],
      "execution_count": null,
      "outputs": [
        {
          "output_type": "stream",
          "text": [
            "Requirement already satisfied: yfinance in /usr/local/lib/python3.6/dist-packages (0.1.55)\n",
            "Requirement already satisfied: pandas>=0.24 in /usr/local/lib/python3.6/dist-packages (from yfinance) (1.1.3)\n",
            "Requirement already satisfied: lxml>=4.5.1 in /usr/local/lib/python3.6/dist-packages (from yfinance) (4.6.1)\n",
            "Requirement already satisfied: numpy>=1.15 in /usr/local/lib/python3.6/dist-packages (from yfinance) (1.18.5)\n",
            "Requirement already satisfied: multitasking>=0.0.7 in /usr/local/lib/python3.6/dist-packages (from yfinance) (0.0.9)\n",
            "Requirement already satisfied: requests>=2.20 in /usr/local/lib/python3.6/dist-packages (from yfinance) (2.23.0)\n",
            "Requirement already satisfied: pytz>=2017.2 in /usr/local/lib/python3.6/dist-packages (from pandas>=0.24->yfinance) (2018.9)\n",
            "Requirement already satisfied: python-dateutil>=2.7.3 in /usr/local/lib/python3.6/dist-packages (from pandas>=0.24->yfinance) (2.8.1)\n",
            "Requirement already satisfied: idna<3,>=2.5 in /usr/local/lib/python3.6/dist-packages (from requests>=2.20->yfinance) (2.10)\n",
            "Requirement already satisfied: certifi>=2017.4.17 in /usr/local/lib/python3.6/dist-packages (from requests>=2.20->yfinance) (2020.6.20)\n",
            "Requirement already satisfied: urllib3!=1.25.0,!=1.25.1,<1.26,>=1.21.1 in /usr/local/lib/python3.6/dist-packages (from requests>=2.20->yfinance) (1.24.3)\n",
            "Requirement already satisfied: chardet<4,>=3.0.2 in /usr/local/lib/python3.6/dist-packages (from requests>=2.20->yfinance) (3.0.4)\n",
            "Requirement already satisfied: six>=1.5 in /usr/local/lib/python3.6/dist-packages (from python-dateutil>=2.7.3->pandas>=0.24->yfinance) (1.15.0)\n",
            "Requirement already satisfied: yahoofinancials in /usr/local/lib/python3.6/dist-packages (1.6)\n",
            "Requirement already satisfied: beautifulsoup4 in /usr/local/lib/python3.6/dist-packages (from yahoofinancials) (4.6.3)\n",
            "Requirement already satisfied: pytz in /usr/local/lib/python3.6/dist-packages (from yahoofinancials) (2018.9)\n",
            "[*********************100%***********************]  1 of 1 completed\n"
          ],
          "name": "stdout"
        }
      ]
    },
    {
      "cell_type": "code",
      "metadata": {
        "id": "IQT9UwRoElG8"
      },
      "source": [
        "df.to_csv('AAPL.csv')"
      ],
      "execution_count": null,
      "outputs": []
    },
    {
      "cell_type": "code",
      "metadata": {
        "id": "sgcHGrEuElG-"
      },
      "source": [
        "import pandas as pd"
      ],
      "execution_count": null,
      "outputs": []
    },
    {
      "cell_type": "code",
      "metadata": {
        "id": "KfnRdz7kElHC"
      },
      "source": [
        "df=pd.read_csv('AAPL.csv')"
      ],
      "execution_count": null,
      "outputs": []
    },
    {
      "cell_type": "code",
      "metadata": {
        "id": "Z77JGnNEElHE",
        "outputId": "37535c4d-b37a-4225-d29a-d682bc873d37",
        "colab": {
          "base_uri": "https://localhost:8080/",
          "height": 191
        }
      },
      "source": [
        "df.head()"
      ],
      "execution_count": null,
      "outputs": [
        {
          "output_type": "execute_result",
          "data": {
            "text/html": [
              "<div>\n",
              "<style scoped>\n",
              "    .dataframe tbody tr th:only-of-type {\n",
              "        vertical-align: middle;\n",
              "    }\n",
              "\n",
              "    .dataframe tbody tr th {\n",
              "        vertical-align: top;\n",
              "    }\n",
              "\n",
              "    .dataframe thead th {\n",
              "        text-align: right;\n",
              "    }\n",
              "</style>\n",
              "<table border=\"1\" class=\"dataframe\">\n",
              "  <thead>\n",
              "    <tr style=\"text-align: right;\">\n",
              "      <th></th>\n",
              "      <th>Date</th>\n",
              "      <th>Open</th>\n",
              "      <th>High</th>\n",
              "      <th>Low</th>\n",
              "      <th>Close</th>\n",
              "      <th>Adj Close</th>\n",
              "      <th>Volume</th>\n",
              "    </tr>\n",
              "  </thead>\n",
              "  <tbody>\n",
              "    <tr>\n",
              "      <th>0</th>\n",
              "      <td>2015-02-02</td>\n",
              "      <td>40.793999</td>\n",
              "      <td>42.389999</td>\n",
              "      <td>40.660000</td>\n",
              "      <td>42.188000</td>\n",
              "      <td>42.188000</td>\n",
              "      <td>20746000</td>\n",
              "    </tr>\n",
              "    <tr>\n",
              "      <th>1</th>\n",
              "      <td>2015-02-03</td>\n",
              "      <td>42.644001</td>\n",
              "      <td>44.074001</td>\n",
              "      <td>42.254002</td>\n",
              "      <td>43.672001</td>\n",
              "      <td>43.672001</td>\n",
              "      <td>24131000</td>\n",
              "    </tr>\n",
              "    <tr>\n",
              "      <th>2</th>\n",
              "      <td>2015-02-04</td>\n",
              "      <td>43.658001</td>\n",
              "      <td>44.296001</td>\n",
              "      <td>43.360001</td>\n",
              "      <td>43.709999</td>\n",
              "      <td>43.709999</td>\n",
              "      <td>16527000</td>\n",
              "    </tr>\n",
              "    <tr>\n",
              "      <th>3</th>\n",
              "      <td>2015-02-05</td>\n",
              "      <td>43.976002</td>\n",
              "      <td>45.096001</td>\n",
              "      <td>43.928001</td>\n",
              "      <td>44.198002</td>\n",
              "      <td>44.198002</td>\n",
              "      <td>17614500</td>\n",
              "    </tr>\n",
              "    <tr>\n",
              "      <th>4</th>\n",
              "      <td>2015-02-06</td>\n",
              "      <td>44.400002</td>\n",
              "      <td>44.680000</td>\n",
              "      <td>43.299999</td>\n",
              "      <td>43.472000</td>\n",
              "      <td>43.472000</td>\n",
              "      <td>16219500</td>\n",
              "    </tr>\n",
              "  </tbody>\n",
              "</table>\n",
              "</div>"
            ],
            "text/plain": [
              "         Date       Open       High        Low      Close  Adj Close    Volume\n",
              "0  2015-02-02  40.793999  42.389999  40.660000  42.188000  42.188000  20746000\n",
              "1  2015-02-03  42.644001  44.074001  42.254002  43.672001  43.672001  24131000\n",
              "2  2015-02-04  43.658001  44.296001  43.360001  43.709999  43.709999  16527000\n",
              "3  2015-02-05  43.976002  45.096001  43.928001  44.198002  44.198002  17614500\n",
              "4  2015-02-06  44.400002  44.680000  43.299999  43.472000  43.472000  16219500"
            ]
          },
          "metadata": {
            "tags": []
          },
          "execution_count": 249
        }
      ]
    },
    {
      "cell_type": "code",
      "metadata": {
        "id": "OpgEpgyQElHJ",
        "outputId": "9fe0b711-c392-40fe-ac1d-72204c38c9ad",
        "colab": {
          "base_uri": "https://localhost:8080/",
          "height": 191
        }
      },
      "source": [
        "df.tail()"
      ],
      "execution_count": null,
      "outputs": [
        {
          "output_type": "execute_result",
          "data": {
            "text/html": [
              "<div>\n",
              "<style scoped>\n",
              "    .dataframe tbody tr th:only-of-type {\n",
              "        vertical-align: middle;\n",
              "    }\n",
              "\n",
              "    .dataframe tbody tr th {\n",
              "        vertical-align: top;\n",
              "    }\n",
              "\n",
              "    .dataframe thead th {\n",
              "        text-align: right;\n",
              "    }\n",
              "</style>\n",
              "<table border=\"1\" class=\"dataframe\">\n",
              "  <thead>\n",
              "    <tr style=\"text-align: right;\">\n",
              "      <th></th>\n",
              "      <th>Date</th>\n",
              "      <th>Open</th>\n",
              "      <th>High</th>\n",
              "      <th>Low</th>\n",
              "      <th>Close</th>\n",
              "      <th>Adj Close</th>\n",
              "      <th>Volume</th>\n",
              "    </tr>\n",
              "  </thead>\n",
              "  <tbody>\n",
              "    <tr>\n",
              "      <th>1445</th>\n",
              "      <td>2020-10-27</td>\n",
              "      <td>423.760010</td>\n",
              "      <td>430.500000</td>\n",
              "      <td>420.100006</td>\n",
              "      <td>424.679993</td>\n",
              "      <td>424.679993</td>\n",
              "      <td>22686500</td>\n",
              "    </tr>\n",
              "    <tr>\n",
              "      <th>1446</th>\n",
              "      <td>2020-10-28</td>\n",
              "      <td>416.480011</td>\n",
              "      <td>418.600006</td>\n",
              "      <td>406.000000</td>\n",
              "      <td>406.019989</td>\n",
              "      <td>406.019989</td>\n",
              "      <td>25451400</td>\n",
              "    </tr>\n",
              "    <tr>\n",
              "      <th>1447</th>\n",
              "      <td>2020-10-29</td>\n",
              "      <td>409.959991</td>\n",
              "      <td>418.059998</td>\n",
              "      <td>406.459991</td>\n",
              "      <td>410.829987</td>\n",
              "      <td>410.829987</td>\n",
              "      <td>22655300</td>\n",
              "    </tr>\n",
              "    <tr>\n",
              "      <th>1448</th>\n",
              "      <td>2020-10-30</td>\n",
              "      <td>406.899994</td>\n",
              "      <td>407.589996</td>\n",
              "      <td>379.109985</td>\n",
              "      <td>388.040009</td>\n",
              "      <td>388.040009</td>\n",
              "      <td>42511300</td>\n",
              "    </tr>\n",
              "    <tr>\n",
              "      <th>1449</th>\n",
              "      <td>2020-11-02</td>\n",
              "      <td>394.000000</td>\n",
              "      <td>406.980011</td>\n",
              "      <td>392.299988</td>\n",
              "      <td>400.510010</td>\n",
              "      <td>400.510010</td>\n",
              "      <td>28918100</td>\n",
              "    </tr>\n",
              "  </tbody>\n",
              "</table>\n",
              "</div>"
            ],
            "text/plain": [
              "            Date        Open        High  ...       Close   Adj Close    Volume\n",
              "1445  2020-10-27  423.760010  430.500000  ...  424.679993  424.679993  22686500\n",
              "1446  2020-10-28  416.480011  418.600006  ...  406.019989  406.019989  25451400\n",
              "1447  2020-10-29  409.959991  418.059998  ...  410.829987  410.829987  22655300\n",
              "1448  2020-10-30  406.899994  407.589996  ...  388.040009  388.040009  42511300\n",
              "1449  2020-11-02  394.000000  406.980011  ...  400.510010  400.510010  28918100\n",
              "\n",
              "[5 rows x 7 columns]"
            ]
          },
          "metadata": {
            "tags": []
          },
          "execution_count": 250
        }
      ]
    },
    {
      "cell_type": "code",
      "metadata": {
        "id": "JJdpNLg7ElHM"
      },
      "source": [
        "df1=df.reset_index()['Close']"
      ],
      "execution_count": null,
      "outputs": []
    },
    {
      "cell_type": "code",
      "metadata": {
        "id": "IAEcSEQcElHO",
        "outputId": "f525dfab-2a9a-4ef7-858e-7eb3a6db41b6",
        "colab": {
          "base_uri": "https://localhost:8080/"
        }
      },
      "source": [
        "df1"
      ],
      "execution_count": null,
      "outputs": [
        {
          "output_type": "execute_result",
          "data": {
            "text/plain": [
              "0        42.188000\n",
              "1        43.672001\n",
              "2        43.709999\n",
              "3        44.198002\n",
              "4        43.472000\n",
              "           ...    \n",
              "1445    424.679993\n",
              "1446    406.019989\n",
              "1447    410.829987\n",
              "1448    388.040009\n",
              "1449    400.510010\n",
              "Name: Close, Length: 1450, dtype: float64"
            ]
          },
          "metadata": {
            "tags": []
          },
          "execution_count": 252
        }
      ]
    },
    {
      "cell_type": "code",
      "metadata": {
        "id": "ga2yAYQNElHR",
        "outputId": "f2fc8bfe-5429-49a7-ce48-ac48bcd00788",
        "colab": {
          "base_uri": "https://localhost:8080/",
          "height": 281
        }
      },
      "source": [
        "import matplotlib.pyplot as plt\n",
        "plt.plot(df1)"
      ],
      "execution_count": null,
      "outputs": [
        {
          "output_type": "execute_result",
          "data": {
            "text/plain": [
              "[<matplotlib.lines.Line2D at 0x7f4458574240>]"
            ]
          },
          "metadata": {
            "tags": []
          },
          "execution_count": 253
        },
        {
          "output_type": "display_data",
          "data": {
            "image/png": "[encoded data removed]",
            "text/plain": [
              "<Figure size 432x288 with 1 Axes>"
            ]
          },
          "metadata": {
            "tags": [],
            "needs_background": "light"
          }
        }
      ]
    },
    {
      "cell_type": "code",
      "metadata": {
        "id": "sRVq_Rb6ElHW"
      },
      "source": [
        "import numpy as np"
      ],
      "execution_count": null,
      "outputs": []
    },
    {
      "cell_type": "code",
      "metadata": {
        "id": "kiwvWRV_ElHZ",
        "outputId": "47201280-365b-43f0-c721-bc36d314f28c",
        "colab": {
          "base_uri": "https://localhost:8080/"
        }
      },
      "source": [
        "df1"
      ],
      "execution_count": null,
      "outputs": [
        {
          "output_type": "execute_result",
          "data": {
            "text/plain": [
              "0        42.188000\n",
              "1        43.672001\n",
              "2        43.709999\n",
              "3        44.198002\n",
              "4        43.472000\n",
              "           ...    \n",
              "1445    424.679993\n",
              "1446    406.019989\n",
              "1447    410.829987\n",
              "1448    388.040009\n",
              "1449    400.510010\n",
              "Name: Close, Length: 1450, dtype: float64"
            ]
          },
          "metadata": {
            "tags": []
          },
          "execution_count": 256
        }
      ]
    },
    {
      "cell_type": "code",
      "metadata": {
        "id": "ethYh21nElHc"
      },
      "source": [
        "from sklearn.preprocessing import MinMaxScaler\n",
        "scaler=MinMaxScaler(feature_range=(0,1))\n",
        "df1=scaler.fit_transform(np.array(df1).reshape(-1,1))"
      ],
      "execution_count": null,
      "outputs": []
    },
    {
      "cell_type": "code",
      "metadata": {
        "id": "opeEGVGVElHe",
        "outputId": "c5d4797e-c0aa-4772-add8-deb6eedb1298",
        "colab": {
          "base_uri": "https://localhost:8080/"
        }
      },
      "source": [
        "print(df1)"
      ],
      "execution_count": null,
      "outputs": [
        {
          "output_type": "stream",
          "text": [
            "[[0.02865077]\n",
            " [0.031811  ]\n",
            " [0.03189192]\n",
            " ...\n",
            " [0.81368691]\n",
            " [0.76515485]\n",
            " [0.79171015]]\n"
          ],
          "name": "stdout"
        }
      ]
    },
    {
      "cell_type": "code",
      "metadata": {
        "id": "ukI70vCuElHh"
      },
      "source": [
        "##splitting dataset into train and test split\n",
        "training_size=int(len(df1)*0.65)\n",
        "test_size=len(df1)-training_size\n",
        "train_data,test_data=df1[test_size:,:],df1[training_size:len(df1),:1]"
      ],
      "execution_count": null,
      "outputs": []
    },
    {
      "cell_type": "code",
      "metadata": {
        "id": "GmGbtOu9ElHj",
        "outputId": "f5352975-92c4-4eaa-eb1f-7b6090289cdb",
        "colab": {
          "base_uri": "https://localhost:8080/"
        }
      },
      "source": [
        "training_size,test_size"
      ],
      "execution_count": null,
      "outputs": [
        {
          "output_type": "execute_result",
          "data": {
            "text/plain": [
              "(942, 508)"
            ]
          },
          "metadata": {
            "tags": []
          },
          "execution_count": 260
        }
      ]
    },
    {
      "cell_type": "code",
      "metadata": {
        "id": "tWXd_d2sElHm",
        "outputId": "d6b2a5b8-5504-41ae-9bc1-fad1b9ae422f",
        "colab": {
          "base_uri": "https://localhost:8080/"
        }
      },
      "source": [
        "train_data"
      ],
      "execution_count": null,
      "outputs": [
        {
          "output_type": "execute_result",
          "data": {
            "text/plain": [
              "array([[0.02865077],\n",
              "       [0.031811  ],\n",
              "       [0.03189192],\n",
              "       [0.03293114],\n",
              "       [0.03138509],\n",
              "       [0.0314362 ],\n",
              "       [0.03092937],\n",
              "       [0.02944296],\n",
              "       [0.02521796],\n",
              "       [0.02559702],\n",
              "       [0.02584404],\n",
              "       [0.02589089],\n",
              "       [0.02897872],\n",
              "       [0.03127862],\n",
              "       [0.0271175 ],\n",
              "       [0.02574182],\n",
              "       [0.02559275],\n",
              "       [0.02705362],\n",
              "       [0.02541387],\n",
              "       [0.02285417],\n",
              "       [0.02380394],\n",
              "       [0.02503056],\n",
              "       [0.02425967],\n",
              "       [0.0213848 ],\n",
              "       [0.02010707],\n",
              "       [0.01986856],\n",
              "       [0.02132517],\n",
              "       [0.020188  ],\n",
              "       [0.01917008],\n",
              "       [0.02215995],\n",
              "       [0.02174681],\n",
              "       [0.02429374],\n",
              "       [0.02213865],\n",
              "       [0.02317361],\n",
              "       [0.02383376],\n",
              "       [0.02472391],\n",
              "       [0.02156368],\n",
              "       [0.0199069 ],\n",
              "       [0.01760274],\n",
              "       [0.01997504],\n",
              "       [0.01920841],\n",
              "       [0.01870584],\n",
              "       [0.02015818],\n",
              "       [0.02531166],\n",
              "       [0.02537555],\n",
              "       [0.02725805],\n",
              "       [0.02828875],\n",
              "       [0.02863373],\n",
              "       [0.02815672],\n",
              "       [0.02716861],\n",
              "       [0.0273262 ],\n",
              "       [0.02684492],\n",
              "       [0.02688326],\n",
              "       [0.02623588],\n",
              "       [0.02799913],\n",
              "       [0.03227098],\n",
              "       [0.03191322],\n",
              "       [0.03184082],\n",
              "       [0.03742872],\n",
              "       [0.036973  ],\n",
              "       [0.03781203],\n",
              "       [0.03508622],\n",
              "       [0.03507771],\n",
              "       [0.03698577],\n",
              "       [0.03802498],\n",
              "       [0.0369517 ],\n",
              "       [0.03966473],\n",
              "       [0.0395838 ],\n",
              "       [0.04081041],\n",
              "       [0.04304643],\n",
              "       [0.04238202],\n",
              "       [0.04277385],\n",
              "       [0.04479265],\n",
              "       [0.04475432],\n",
              "       [0.04406861],\n",
              "       [0.04288032],\n",
              "       [0.04342123],\n",
              "       [0.04431989],\n",
              "       [0.0442049 ],\n",
              "       [0.04419212],\n",
              "       [0.04590427],\n",
              "       [0.04562743],\n",
              "       [0.04505245],\n",
              "       [0.04458395],\n",
              "       [0.04485653],\n",
              "       [0.043549  ],\n",
              "       [0.04492042],\n",
              "       [0.04796565],\n",
              "       [0.04784214],\n",
              "       [0.04558483],\n",
              "       [0.04588723],\n",
              "       [0.04558058],\n",
              "       [0.04544855],\n",
              "       [0.04661553],\n",
              "       [0.04972039],\n",
              "       [0.05035073],\n",
              "       [0.0506148 ],\n",
              "       [0.04945633],\n",
              "       [0.05281248],\n",
              "       [0.05174771],\n",
              "       [0.05328949],\n",
              "       [0.05256545],\n",
              "       [0.0504061 ],\n",
              "       [0.05306376],\n",
              "       [0.05344282],\n",
              "       [0.05807243],\n",
              "       [0.05794466],\n",
              "       [0.05290192],\n",
              "       [0.0473992 ],\n",
              "       [0.04865988],\n",
              "       [0.04918375],\n",
              "       [0.05046573],\n",
              "       [0.05195215],\n",
              "       [0.05088312],\n",
              "       [0.05239083],\n",
              "       [0.05578957],\n",
              "       [0.05902646],\n",
              "       [0.05242916],\n",
              "       [0.05289766],\n",
              "       [0.0526123 ],\n",
              "       [0.05184993],\n",
              "       [0.04656868],\n",
              "       [0.05159864],\n",
              "       [0.05117274],\n",
              "       [0.05243768],\n",
              "       [0.0521651 ],\n",
              "       [0.04954151],\n",
              "       [0.05222047],\n",
              "       [0.05386021],\n",
              "       [0.04363844],\n",
              "       [0.04209665],\n",
              "       [0.04151316],\n",
              "       [0.03990749],\n",
              "       [0.04024822],\n",
              "       [0.04209665],\n",
              "       [0.04236924],\n",
              "       [0.04741198],\n",
              "       [0.04985243],\n",
              "       [0.04752271],\n",
              "       [0.04195611],\n",
              "       [0.03709651],\n",
              "       [0.03202821],\n",
              "       [0.03252227],\n",
              "       [0.03457088],\n",
              "       [0.04230109],\n",
              "       [0.04463932],\n",
              "       [0.04488635],\n",
              "       [0.04044414],\n",
              "       [0.04430285],\n",
              "       [0.04339993],\n",
              "       [0.04184963],\n",
              "       [0.04450729],\n",
              "       [0.04482246],\n",
              "       [0.04463932],\n",
              "       [0.04538892],\n",
              "       [0.04664534],\n",
              "       [0.04680719],\n",
              "       [0.05050406],\n",
              "       [0.0504274 ],\n",
              "       [0.04980983],\n",
              "       [0.05133458],\n",
              "       [0.04994612],\n",
              "       [0.04999724],\n",
              "       [0.0508746 ],\n",
              "       [0.04822972],\n",
              "       [0.04461803],\n",
              "       [0.04385992],\n",
              "       [0.04460525],\n",
              "       [0.04097652],\n",
              "       [0.04425175],\n",
              "       [0.04364696],\n",
              "       [0.04164945],\n",
              "       [0.03760333],\n",
              "       [0.03537159],\n",
              "       [0.03280337],\n",
              "       [0.03062698],\n",
              "       [0.03219005],\n",
              "       [0.03118066],\n",
              "       [0.03306743],\n",
              "       [0.0354951 ],\n",
              "       [0.03595933],\n",
              "       [0.02954091],\n",
              "       [0.02828875],\n",
              "       [0.02898298],\n",
              "       [0.02786284],\n",
              "       [0.03049068],\n",
              "       [0.02839948],\n",
              "       [0.0295111 ],\n",
              "       [0.02894465],\n",
              "       [0.02694289],\n",
              "       [0.0298646 ],\n",
              "       [0.02754767],\n",
              "       [0.03746279],\n",
              "       [0.03752241],\n",
              "       [0.0377737 ],\n",
              "       [0.03477958],\n",
              "       [0.03101881],\n",
              "       [0.03211766],\n",
              "       [0.02950259],\n",
              "       [0.02705362],\n",
              "       [0.03008608],\n",
              "       [0.02995404],\n",
              "       [0.03296521],\n",
              "       [0.03327612],\n",
              "       [0.03251374],\n",
              "       [0.0315512 ],\n",
              "       [0.03176415],\n",
              "       [0.03661524],\n",
              "       [0.03745427],\n",
              "       [0.03687929],\n",
              "       [0.03983083],\n",
              "       [0.03761611],\n",
              "       [0.03792277],\n",
              "       [0.0369304 ],\n",
              "       [0.03724984],\n",
              "       [0.03537159],\n",
              "       [0.03443459],\n",
              "       [0.03552065],\n",
              "       [0.03124028],\n",
              "       [0.0319047 ],\n",
              "       [0.03297372],\n",
              "       [0.0386894 ],\n",
              "       [0.03821239],\n",
              "       [0.03696447],\n",
              "       [0.03785888],\n",
              "       [0.03674727],\n",
              "       [0.03664078],\n",
              "       [0.03701132],\n",
              "       [0.03632136],\n",
              "       [0.03983083],\n",
              "       [0.04021415],\n",
              "       [0.04103189],\n",
              "       [0.03396183],\n",
              "       [0.03397035],\n",
              "       [0.03210061],\n",
              "       [0.03065679],\n",
              "       [0.02867633],\n",
              "       [0.02733472],\n",
              "       [0.02823764],\n",
              "       [0.02412338],\n",
              "       [0.02662345],\n",
              "       [0.02611663],\n",
              "       [0.02600163],\n",
              "       [0.02343767],\n",
              "       [0.02397857],\n",
              "       [0.02507741],\n",
              "       [0.02244957],\n",
              "       [0.02124851],\n",
              "       [0.01891027],\n",
              "       [0.0196045 ],\n",
              "       [0.02024337],\n",
              "       [0.02268807],\n",
              "       [0.01665723],\n",
              "       [0.01269629],\n",
              "       [0.01348422],\n",
              "       [0.00806242],\n",
              "       [0.00183992],\n",
              "       [0.00195066],\n",
              "       [0.        ],\n",
              "       [0.00289617],\n",
              "       [0.00313894],\n",
              "       [0.00489793],\n",
              "       [0.01065194],\n",
              "       [0.00983846],\n",
              "       [0.00975754],\n",
              "       [0.01451066],\n",
              "       [0.01428493],\n",
              "       [0.0150473 ],\n",
              "       [0.0186377 ],\n",
              "       [0.01987709],\n",
              "       [0.02055428],\n",
              "       [0.01817772],\n",
              "       [0.01902527],\n",
              "       [0.02217698],\n",
              "       [0.02443429],\n",
              "       [0.02624439],\n",
              "       [0.02509871],\n",
              "       [0.02770526],\n",
              "       [0.02619754],\n",
              "       [0.02718565],\n",
              "       [0.03044384],\n",
              "       [0.03180248],\n",
              "       [0.03333149],\n",
              "       [0.03522678],\n",
              "       [0.03793554],\n",
              "       [0.04031211],\n",
              "       [0.0385744 ],\n",
              "       [0.03360833],\n",
              "       [0.03581027],\n",
              "       [0.03687929],\n",
              "       [0.03682393],\n",
              "       [0.03544398],\n",
              "       [0.0366706 ],\n",
              "       [0.0400012 ],\n",
              "       [0.04400472],\n",
              "       [0.04761642],\n",
              "       [0.05185419],\n",
              "       [0.04835323],\n",
              "       [0.04531651],\n",
              "       [0.04525263],\n",
              "       [0.04435822],\n",
              "       [0.04721606],\n",
              "       [0.04607889],\n",
              "       [0.04720754],\n",
              "       [0.04693922],\n",
              "       [0.04416656],\n",
              "       [0.04527392],\n",
              "       [0.0445584 ],\n",
              "       [0.04688385],\n",
              "       [0.04606185],\n",
              "       [0.04687959],\n",
              "       [0.04591278],\n",
              "       [0.04431137],\n",
              "       [0.04135132],\n",
              "       [0.04179426],\n",
              "       [0.03775666],\n",
              "       [0.03359981],\n",
              "       [0.02890205],\n",
              "       [0.03035014],\n",
              "       [0.02779044],\n",
              "       [0.02769248],\n",
              "       [0.02780747],\n",
              "       [0.02709195],\n",
              "       [0.0272325 ],\n",
              "       [0.02752212],\n",
              "       [0.02597607],\n",
              "       [0.02874873],\n",
              "       [0.03046939],\n",
              "       [0.03262874],\n",
              "       [0.03089956],\n",
              "       [0.03161934],\n",
              "       [0.03233061],\n",
              "       [0.03469013],\n",
              "       [0.03380425],\n",
              "       [0.03388517],\n",
              "       [0.03232209],\n",
              "       [0.03206654],\n",
              "       [0.03207932],\n",
              "       [0.03279911],\n",
              "       [0.03776518],\n",
              "       [0.03911957],\n",
              "       [0.03649598],\n",
              "       [0.03199414],\n",
              "       [0.03160231],\n",
              "       [0.03036292],\n",
              "       [0.0315299 ],\n",
              "       [0.03162786],\n",
              "       [0.03058013],\n",
              "       [0.03238171],\n",
              "       [0.03234339],\n",
              "       [0.02256882],\n",
              "       [0.02245808],\n",
              "       [0.02107389],\n",
              "       [0.02337378],\n",
              "       [0.02475372],\n",
              "       [0.02833134],\n",
              "       [0.02922149],\n",
              "       [0.03101881],\n",
              "       [0.02994553],\n",
              "       [0.03014145],\n",
              "       [0.0307803 ],\n",
              "       [0.03113807],\n",
              "       [0.03454533],\n",
              "       [0.03448996],\n",
              "       [0.03358703],\n",
              "       [0.03316113],\n",
              "       [0.03267985],\n",
              "       [0.03517141],\n",
              "       [0.03474976],\n",
              "       [0.03607007],\n",
              "       [0.03272244],\n",
              "       [0.03347629],\n",
              "       [0.03677282],\n",
              "       [0.03655987],\n",
              "       [0.03612544],\n",
              "       [0.03702837],\n",
              "       [0.03880865],\n",
              "       [0.03677282],\n",
              "       [0.03557602],\n",
              "       [0.03497549],\n",
              "       [0.03702837],\n",
              "       [0.03678134],\n",
              "       [0.03513307],\n",
              "       [0.03637673],\n",
              "       [0.03491587],\n",
              "       [0.03460069],\n",
              "       [0.03489883],\n",
              "       [0.03489031],\n",
              "       [0.03404701],\n",
              "       [0.03388942],\n",
              "       [0.03400442],\n",
              "       [0.03463902],\n",
              "       [0.03375739],\n",
              "       [0.03457088],\n",
              "       [0.03362536],\n",
              "       [0.03291836],\n",
              "       [0.03250523],\n",
              "       [0.03046514],\n",
              "       [0.02882114],\n",
              "       [0.02910649],\n",
              "       [0.02431929],\n",
              "       [0.02304583],\n",
              "       [0.02519667],\n",
              "       [0.02471965],\n",
              "       [0.02286695],\n",
              "       [0.02163608],\n",
              "       [0.0232673 ],\n",
              "       [0.02230901],\n",
              "       [0.02246234],\n",
              "       [0.02417023],\n",
              "       [0.02629125],\n",
              "       [0.0266916 ],\n",
              "       [0.02596756],\n",
              "       [0.02621458],\n",
              "       [0.02672993],\n",
              "       [0.02716436],\n",
              "       [0.02782025],\n",
              "       [0.02646586],\n",
              "       [0.02666179],\n",
              "       [0.02428948],\n",
              "       [0.02570775],\n",
              "       [0.02982628],\n",
              "       [0.02885095],\n",
              "       [0.02759452],\n",
              "       [0.02441726],\n",
              "       [0.02254752],\n",
              "       [0.02439596],\n",
              "       [0.02403394],\n",
              "       [0.02463446],\n",
              "       [0.02409357],\n",
              "       [0.02250493],\n",
              "       [0.02141887],\n",
              "       [0.02360803],\n",
              "       [0.02550758],\n",
              "       [0.02360803],\n",
              "       [0.02402968],\n",
              "       [0.02516685],\n",
              "       [0.02498797],\n",
              "       [0.02494538],\n",
              "       [0.02569923],\n",
              "       [0.02397857],\n",
              "       [0.02302454],\n",
              "       [0.02006874],\n",
              "       [0.01888898],\n",
              "       [0.01863344],\n",
              "       [0.01997078],\n",
              "       [0.02109943],\n",
              "       [0.02183625],\n",
              "       [0.01975783],\n",
              "       [0.01775181],\n",
              "       [0.01911897],\n",
              "       [0.01609077],\n",
              "       [0.01707888],\n",
              "       [0.01714702],\n",
              "       [0.01916156],\n",
              "       [0.01761126],\n",
              "       [0.0173983 ],\n",
              "       [0.02023059],\n",
              "       [0.02106962],\n",
              "       [0.02256456],\n",
              "       [0.02233883],\n",
              "       [0.01954914],\n",
              "       [0.01947673],\n",
              "       [0.01627391],\n",
              "       [0.01609929],\n",
              "       [0.01836937],\n",
              "       [0.01796476],\n",
              "       [0.02107389],\n",
              "       [0.0207076 ],\n",
              "       [0.02066076],\n",
              "       [0.02076723],\n",
              "       [0.02320342],\n",
              "       [0.02343341],\n",
              "       [0.02296065],\n",
              "       [0.02505186],\n",
              "       [0.02515408],\n",
              "       [0.02773507],\n",
              "       [0.02727083],\n",
              "       [0.02759026],\n",
              "       [0.02967295],\n",
              "       [0.03230931],\n",
              "       [0.03239876],\n",
              "       [0.03024366],\n",
              "       [0.02982201],\n",
              "       [0.03122751],\n",
              "       [0.03548658],\n",
              "       [0.03538436],\n",
              "       [0.03634691],\n",
              "       [0.03731372],\n",
              "       [0.03671319],\n",
              "       [0.03665356],\n",
              "       [0.03659394],\n",
              "       [0.04006934],\n",
              "       [0.03914512],\n",
              "       [0.04032914],\n",
              "       [0.04262904],\n",
              "       [0.04304217],\n",
              "       [0.04482672],\n",
              "       [0.04725013],\n",
              "       [0.04719051],\n",
              "       [0.04635572],\n",
              "       [0.04654313],\n",
              "       [0.04555502],\n",
              "       [0.0461087 ],\n",
              "       [0.04496301],\n",
              "       [0.04594686],\n",
              "       [0.04585315],\n",
              "       [0.048596  ],\n",
              "       [0.04847248],\n",
              "       [0.05043166],\n",
              "       [0.05346412],\n",
              "       [0.05347689],\n",
              "       [0.05831945],\n",
              "       [0.0584813 ],\n",
              "       [0.05796169],\n",
              "       [0.05335764],\n",
              "       [0.05475461],\n",
              "       [0.0569523 ],\n",
              "       [0.05529977],\n",
              "       [0.04783789],\n",
              "       [0.04826805],\n",
              "       [0.04368103],\n",
              "       [0.04528244],\n",
              "       [0.04529522],\n",
              "       [0.04549114],\n",
              "       [0.04595537],\n",
              "       [0.04580205],\n",
              "       [0.04468617],\n",
              "       [0.04395361],\n",
              "       [0.04311457],\n",
              "       [0.04259922],\n",
              "       [0.04365548],\n",
              "       [0.04869395],\n",
              "       [0.04772715],\n",
              "       [0.05041888],\n",
              "       [0.05018463],\n",
              "       [0.05036351],\n",
              "       [0.04557632],\n",
              "       [0.04742049],\n",
              "       [0.04732254],\n",
              "       [0.05089164],\n",
              "       [0.05389854],\n",
              "       [0.05697785],\n",
              "       [0.05694804],\n",
              "       [0.05717802],\n",
              "       [0.05733987],\n",
              "       [0.06595171],\n",
              "       [0.06815791],\n",
              "       [0.06445252],\n",
              "       [0.06602838],\n",
              "       [0.06766386],\n",
              "       [0.07185904],\n",
              "       [0.07029171],\n",
              "       [0.06523619],\n",
              "       [0.06828568],\n",
              "       [0.06719536],\n",
              "       [0.06668853],\n",
              "       [0.06893306],\n",
              "       [0.06765108],\n",
              "       [0.06896713],\n",
              "       [0.07000209],\n",
              "       [0.07245531],\n",
              "       [0.07091353],\n",
              "       [0.07025764],\n",
              "       [0.07257456],\n",
              "       [0.07630552],\n",
              "       [0.07462744],\n",
              "       [0.07127555],\n",
              "       [0.06464843],\n",
              "       [0.07013837],\n",
              "       [0.06964432],\n",
              "       [0.07563684],\n",
              "       [0.07732343],\n",
              "       [0.07642051],\n",
              "       [0.0771488 ],\n",
              "       [0.07334546],\n",
              "       [0.07382673],\n",
              "       [0.06918435],\n",
              "       [0.0721444 ],\n",
              "       [0.07119463],\n",
              "       [0.07099019],\n",
              "       [0.06822605],\n",
              "       [0.07093482],\n",
              "       [0.07375007],\n",
              "       [0.07728936],\n",
              "       [0.08153138],\n",
              "       [0.08404851],\n",
              "       [0.08377592],\n",
              "       [0.08355445],\n",
              "       [0.08673597],\n",
              "       [0.08909124],\n",
              "       [0.09198741],\n",
              "       [0.09639555],\n",
              "       [0.09099504],\n",
              "       [0.09171483],\n",
              "       [0.0989297 ],\n",
              "       [0.10093573],\n",
              "       [0.09866989],\n",
              "       [0.09699182],\n",
              "       [0.09631036],\n",
              "       [0.09734958],\n",
              "       [0.09912135],\n",
              "       [0.10176624],\n",
              "       [0.102124  ],\n",
              "       [0.09958559],\n",
              "       [0.09314588],\n",
              "       [0.09692368],\n",
              "       [0.09245591],\n",
              "       [0.09282219],\n",
              "       [0.08899329],\n",
              "       [0.07811987],\n",
              "       [0.07034281],\n",
              "       [0.07221255],\n",
              "       [0.07341786],\n",
              "       [0.07817524],\n",
              "       [0.07915483],\n",
              "       [0.07655254],\n",
              "       [0.07841375],\n",
              "       [0.07491706],\n",
              "       [0.07860967],\n",
              "       [0.07734047],\n",
              "       [0.0793252 ],\n",
              "       [0.07867781],\n",
              "       [0.08469162],\n",
              "       [0.08344797],\n",
              "       [0.08525807],\n",
              "       [0.08125881],\n",
              "       [0.08151861],\n",
              "       [0.07657809],\n",
              "       [0.07491706],\n",
              "       [0.07760879],\n",
              "       [0.08663802],\n",
              "       [0.09082043],\n",
              "       [0.09007934],\n",
              "       [0.09435971],\n",
              "       [0.09363993],\n",
              "       [0.09017731],\n",
              "       [0.09122929],\n",
              "       [0.09375493],\n",
              "       [0.09312885],\n",
              "       [0.09337587],\n",
              "       [0.08869515],\n",
              "       [0.0867956 ],\n",
              "       [0.08270689],\n",
              "       [0.0841933 ],\n",
              "       [0.08905717],\n",
              "       [0.08912531],\n",
              "       [0.08704689],\n",
              "       [0.08602898],\n",
              "       [0.08675301],\n",
              "       [0.08923179],\n",
              "       [0.09039026],\n",
              "       [0.09017731],\n",
              "       [0.08770278],\n",
              "       [0.08554769],\n",
              "       [0.08813721],\n",
              "       [0.08506642],\n",
              "       [0.09370807],\n",
              "       [0.09330773],\n",
              "       [0.09478988],\n",
              "       [0.09964948],\n",
              "       [0.10057369],\n",
              "       [0.10278415],\n",
              "       [0.09856767],\n",
              "       [0.09806084],\n",
              "       [0.09489635],\n",
              "       [0.08834165],\n",
              "       [0.08574361],\n",
              "       [0.08585435],\n",
              "       [0.08403147],\n",
              "       [0.08344797],\n",
              "       [0.08408684],\n",
              "       [0.08426997],\n",
              "       [0.08708522],\n",
              "       [0.0900112 ],\n",
              "       [0.0901475 ],\n",
              "       [0.09080765],\n",
              "       [0.0848705 ],\n",
              "       [0.09025822],\n",
              "       [0.08983658],\n",
              "       [0.09029656],\n",
              "       [0.09024971],\n",
              "       [0.08813296],\n",
              "       [0.09032638],\n",
              "       [0.09198741],\n",
              "       [0.0886483 ],\n",
              "       [0.08579046],\n",
              "       [0.08234913],\n",
              "       [0.08248543],\n",
              "       [0.07758749],\n",
              "       [0.07772804],\n",
              "       [0.07547074],\n",
              "       [0.07513427],\n",
              "       [0.0800109 ],\n",
              "       [0.07556018],\n",
              "       [0.06626688],\n",
              "       [0.06917582],\n",
              "       [0.06776607],\n",
              "       [0.06915879],\n",
              "       [0.06845178],\n",
              "       [0.06785551],\n",
              "       [0.06785551],\n",
              "       [0.07314103],\n",
              "       [0.07028745],\n",
              "       [0.0713948 ],\n",
              "       [0.07190589],\n",
              "       [0.07299195],\n",
              "       [0.07030448],\n",
              "       [0.07416746],\n",
              "       [0.07194848],\n",
              "       [0.07320491],\n",
              "       [0.07374155],\n",
              "       [0.07405672],\n",
              "       [0.06979339],\n",
              "       [0.07035133],\n",
              "       [0.06936323],\n",
              "       [0.06879677],\n",
              "       [0.06815791],\n",
              "       [0.07222958],\n",
              "       [0.07136925],\n",
              "       [0.07302603],\n",
              "       [0.07889502],\n",
              "       [0.08405702],\n",
              "       [0.08320521],\n",
              "       [0.08271968],\n",
              "       [0.08508772],\n",
              "       [0.08313707],\n",
              "       [0.07982777],\n",
              "       [0.07892484],\n",
              "       [0.08006627],\n",
              "       [0.07731491],\n",
              "       [0.07394599],\n",
              "       [0.07153961],\n",
              "       [0.07312398],\n",
              "       [0.0714161 ],\n",
              "       [0.07532593],\n",
              "       [0.07392895],\n",
              "       [0.07280881],\n",
              "       [0.0736436 ],\n",
              "       [0.08208932],\n",
              "       [0.08093086],\n",
              "       [0.08140362],\n",
              "       [0.08274522],\n",
              "       [0.08200841],\n",
              "       [0.08364389],\n",
              "       [0.08666783],\n",
              "       [0.08556473],\n",
              "       [0.08788592],\n",
              "       [0.08854181],\n",
              "       [0.08906568],\n",
              "       [0.08612693],\n",
              "       [0.0826132 ],\n",
              "       [0.08483217],\n",
              "       [0.08767723],\n",
              "       [0.08609712],\n",
              "       [0.08971307],\n",
              "       [0.08755797],\n",
              "       [0.08521549],\n",
              "       [0.08069235],\n",
              "       [0.08105011],\n",
              "       [0.08574787],\n",
              "       [0.07306862],\n",
              "       [0.07102   ],\n",
              "       [0.07328157],\n",
              "       [0.07665902],\n",
              "       [0.07608404],\n",
              "       [0.08109271],\n",
              "       [0.08169749],\n",
              "       [0.08139085],\n",
              "       [0.08076477],\n",
              "       [0.08624619],\n",
              "       [0.08875052],\n",
              "       [0.09103764],\n",
              "       [0.08829905],\n",
              "       [0.08492161],\n",
              "       [0.07975535],\n",
              "       [0.08153991],\n",
              "       [0.08078605],\n",
              "       [0.07859263],\n",
              "       [0.08033885],\n",
              "       [0.07897595],\n",
              "       [0.07815394],\n",
              "       [0.08596508],\n",
              "       [0.084402  ],\n",
              "       [0.07792395],\n",
              "       [0.07748528],\n",
              "       [0.07567516],\n",
              "       [0.07235736],\n",
              "       [0.07107537],\n",
              "       [0.0736223 ],\n",
              "       [0.07045781],\n",
              "       [0.06723795],\n",
              "       [0.06836234],\n",
              "       [0.05771467],\n",
              "       [0.04860026],\n",
              "       [0.05215658],\n",
              "       [0.04634295],\n",
              "       [0.05275285],\n",
              "       [0.06101971],\n",
              "       [0.06901824],\n",
              "       [0.06628392],\n",
              "       [0.06217817],\n",
              "       [0.06858381],\n",
              "       [0.06697815],\n",
              "       [0.06406069],\n",
              "       [0.06672686],\n",
              "       [0.06283833],\n",
              "       [0.06133913],\n",
              "       [0.06374977],\n",
              "       [0.06661612],\n",
              "       [0.0624252 ],\n",
              "       [0.05949922],\n",
              "       [0.05953755],\n",
              "       [0.05835779],\n",
              "       [0.06039788],\n",
              "       [0.06406069],\n",
              "       [0.06398402],\n",
              "       [0.06654798],\n",
              "       [0.06707185],\n",
              "       [0.0599592 ],\n",
              "       [0.06406494],\n",
              "       [0.06776182],\n",
              "       [0.06742109],\n",
              "       [0.06949951],\n",
              "       [0.06872011],\n",
              "       [0.06703352],\n",
              "       [0.06316202],\n",
              "       [0.0598442 ],\n",
              "       [0.06082379],\n",
              "       [0.05999753],\n",
              "       [0.05670952],\n",
              "       [0.05997623],\n",
              "       [0.05593863],\n",
              "       [0.05766782],\n",
              "       [0.05714821],\n",
              "       [0.05757412],\n",
              "       [0.05966532],\n",
              "       [0.06305555],\n",
              "       [0.06007845],\n",
              "       [0.06309813],\n",
              "       [0.0651936 ],\n",
              "       [0.06280426],\n",
              "       [0.07488724],\n",
              "       [0.0734349 ],\n",
              "       [0.07410358],\n",
              "       [0.08025367],\n",
              "       [0.0847981 ],\n",
              "       [0.08565417],\n",
              "       [0.09116541],\n",
              "       [0.09135707],\n",
              "       [0.09674905],\n",
              "       [0.08896347],\n",
              "       [0.09308199],\n",
              "       [0.0868169 ],\n",
              "       [0.0809053 ],\n",
              "       [0.08064124],\n",
              "       [0.08447015],\n",
              "       [0.08553492],\n",
              "       [0.08784759],\n",
              "       [0.08487475],\n",
              "       [0.08151861],\n",
              "       [0.07120741],\n",
              "       [0.07048336],\n",
              "       [0.07037262],\n",
              "       [0.07446559],\n",
              "       [0.07615219],\n",
              "       [0.07465725],\n",
              "       [0.07369896],\n",
              "       [0.07461892],\n",
              "       [0.07088372],\n",
              "       [0.07624589],\n",
              "       [0.07673993],\n",
              "       [0.07519815],\n",
              "       [0.07236587],\n",
              "       [0.06794495],\n",
              "       [0.06548747],\n",
              "       [0.07030448],\n",
              "       [0.06941434],\n",
              "       [0.065381  ],\n",
              "       [0.06239539],\n",
              "       [0.06578986],\n",
              "       [0.06693981],\n",
              "       [0.08768148],\n",
              "       [0.087098  ],\n",
              "       [0.0844659 ],\n",
              "       [0.10047148],\n",
              "       [0.09654036],\n",
              "       [0.08892087],\n",
              "       [0.09021564],\n",
              "       [0.09060747],\n",
              "       [0.08687227],\n",
              "       [0.0830604 ],\n",
              "       [0.08168045],\n",
              "       [0.06892454],\n",
              "       [0.07017671],\n",
              "       [0.07590941],\n",
              "       [0.07579869],\n",
              "       [0.07514278],\n",
              "       [0.07630126],\n",
              "       [0.07478928],\n",
              "       [0.07163331],\n",
              "       [0.06871585],\n",
              "       [0.06792366],\n",
              "       [0.06728906],\n",
              "       [0.06187578],\n",
              "       [0.05837908],\n",
              "       [0.05846852],\n",
              "       [0.05092571],\n",
              "       [0.0604064 ],\n",
              "       [0.05782541],\n",
              "       [0.06255298],\n",
              "       [0.06209299],\n",
              "       [0.0645377 ],\n",
              "       [0.06438437],\n",
              "       [0.06017641],\n",
              "       [0.06616467],\n",
              "       [0.06587079],\n",
              "       [0.06619874],\n",
              "       [0.06644577],\n",
              "       [0.06700371],\n",
              "       [0.07066224],\n",
              "       [0.06978488],\n",
              "       [0.05157734],\n",
              "       [0.07113926],\n",
              "       [0.06701648],\n",
              "       [0.06436733],\n",
              "       [0.05884332],\n",
              "       [0.05037629],\n",
              "       [0.04552521],\n",
              "       [0.05073831],\n",
              "       [0.04821694],\n",
              "       [0.04623647],\n",
              "       [0.04902617],\n",
              "       [0.04937115],\n",
              "       [0.05661157],\n",
              "       [0.05456295],\n",
              "       [0.05121107],\n",
              "       [0.04954577],\n",
              "       [0.04995038],\n",
              "       [0.06408624],\n",
              "       [0.06168412],\n",
              "       [0.07291103]])"
            ]
          },
          "metadata": {
            "tags": []
          },
          "execution_count": 261
        }
      ]
    },
    {
      "cell_type": "code",
      "metadata": {
        "id": "vjt0HG3IElHq"
      },
      "source": [
        "import numpy\n",
        "# convert an array of values into a dataset matrix\n",
        "def create_dataset(dataset, time_step=1):\n",
        "\tdataX, dataY = [], []\n",
        "\tfor i in range(len(dataset)-time_step-1):\n",
        "\t\ta = dataset[i:(i+time_step), 0]   ###i=0, 0,1,2,3-----99   100 \n",
        "\t\tdataX.append(a)\n",
        "\t\tdataY.append(dataset[i + time_step, 0])\n",
        "\treturn numpy.array(dataX), numpy.array(dataY)"
      ],
      "execution_count": null,
      "outputs": []
    },
    {
      "cell_type": "code",
      "metadata": {
        "id": "FCODiH9fElHt"
      },
      "source": [
        "# reshape into X=t,t+1,t+2,t+3 and Y=t+4\n",
        "time_step = 100\n",
        "X_train, y_train = create_dataset(train_data, time_step)\n",
        "X_test, ytest = create_dataset(test_data, time_step)"
      ],
      "execution_count": null,
      "outputs": []
    },
    {
      "cell_type": "code",
      "metadata": {
        "id": "UDi3Ur4VElHv",
        "outputId": "20e4309d-ca94-4c0c-bd84-0c6a5dbf3184",
        "colab": {
          "base_uri": "https://localhost:8080/"
        }
      },
      "source": [
        "print(X_train.shape), print(y_train.shape)"
      ],
      "execution_count": null,
      "outputs": [
        {
          "output_type": "stream",
          "text": [
            "(841, 100)\n",
            "(841,)\n"
          ],
          "name": "stdout"
        },
        {
          "output_type": "execute_result",
          "data": {
            "text/plain": [
              "(None, None)"
            ]
          },
          "metadata": {
            "tags": []
          },
          "execution_count": 264
        }
      ]
    },
    {
      "cell_type": "code",
      "metadata": {
        "id": "eEyoaBJcElHx",
        "outputId": "955a3522-4608-487b-bdfe-091c0558c971",
        "colab": {
          "base_uri": "https://localhost:8080/"
        }
      },
      "source": [
        "print(X_test.shape), print(ytest.shape)"
      ],
      "execution_count": null,
      "outputs": [
        {
          "output_type": "stream",
          "text": [
            "(407, 100)\n",
            "(407,)\n"
          ],
          "name": "stdout"
        },
        {
          "output_type": "execute_result",
          "data": {
            "text/plain": [
              "(None, None)"
            ]
          },
          "metadata": {
            "tags": []
          },
          "execution_count": 265
        }
      ]
    },
    {
      "cell_type": "code",
      "metadata": {
        "id": "hkqDkHEPElH0"
      },
      "source": [
        "# reshape input to be [samples, time steps, features] which is required for LSTM\n",
        "X_train =X_train.reshape(X_train.shape[0],X_train.shape[1] , 1)\n",
        "X_test = X_test.reshape(X_test.shape[0],X_test.shape[1] , 1)"
      ],
      "execution_count": null,
      "outputs": []
    },
    {
      "cell_type": "code",
      "metadata": {
        "id": "j-RiYgYbElH3"
      },
      "source": [
        "### Create the Stacked LSTM model\n",
        "from tensorflow.keras.models import Sequential\n",
        "from tensorflow.keras.layers import Dense\n",
        "from tensorflow.keras.layers import LSTM"
      ],
      "execution_count": null,
      "outputs": []
    },
    {
      "cell_type": "code",
      "metadata": {
        "id": "Xu2lLd7fElH6"
      },
      "source": [
        "model=Sequential()\n",
        "model.add(LSTM(50,return_sequences=True,input_shape=(100,1)))\n",
        "model.add(LSTM(50,return_sequences=True))\n",
        "model.add(LSTM(50))\n",
        "model.add(Dense(1))\n",
        "model.compile(loss='mean_squared_error',optimizer='adam')\n"
      ],
      "execution_count": null,
      "outputs": []
    },
    {
      "cell_type": "code",
      "metadata": {
        "id": "roWWUmzNElH9",
        "outputId": "5fd37ab2-513d-4b1f-c12f-67d622a7375d",
        "colab": {
          "base_uri": "https://localhost:8080/"
        }
      },
      "source": [
        "model.summary()"
      ],
      "execution_count": null,
      "outputs": [
        {
          "output_type": "stream",
          "text": [
            "Model: \"sequential_5\"\n",
            "_________________________________________________________________\n",
            "Layer (type)                 Output Shape              Param #   \n",
            "=================================================================\n",
            "lstm_15 (LSTM)               (None, 100, 50)           10400     \n",
            "_________________________________________________________________\n",
            "lstm_16 (LSTM)               (None, 100, 50)           20200     \n",
            "_________________________________________________________________\n",
            "lstm_17 (LSTM)               (None, 50)                20200     \n",
            "_________________________________________________________________\n",
            "dense_5 (Dense)              (None, 1)                 51        \n",
            "=================================================================\n",
            "Total params: 50,851\n",
            "Trainable params: 50,851\n",
            "Non-trainable params: 0\n",
            "_________________________________________________________________\n"
          ],
          "name": "stdout"
        }
      ]
    },
    {
      "cell_type": "code",
      "metadata": {
        "id": "ekCZtn-PElIB",
        "outputId": "1b24ac8c-5614-4b38-ef9d-b15d3fb97ff8",
        "colab": {
          "base_uri": "https://localhost:8080/"
        }
      },
      "source": [
        "model.summary()"
      ],
      "execution_count": null,
      "outputs": [
        {
          "output_type": "stream",
          "text": [
            "Model: \"sequential_5\"\n",
            "_________________________________________________________________\n",
            "Layer (type)                 Output Shape              Param #   \n",
            "=================================================================\n",
            "lstm_15 (LSTM)               (None, 100, 50)           10400     \n",
            "_________________________________________________________________\n",
            "lstm_16 (LSTM)               (None, 100, 50)           20200     \n",
            "_________________________________________________________________\n",
            "lstm_17 (LSTM)               (None, 50)                20200     \n",
            "_________________________________________________________________\n",
            "dense_5 (Dense)              (None, 1)                 51        \n",
            "=================================================================\n",
            "Total params: 50,851\n",
            "Trainable params: 50,851\n",
            "Non-trainable params: 0\n",
            "_________________________________________________________________\n"
          ],
          "name": "stdout"
        }
      ]
    },
    {
      "cell_type": "code",
      "metadata": {
        "id": "4NyZ0eJKElIF",
        "outputId": "a9b177ac-4d3b-455a-d001-7397d5433134",
        "colab": {
          "base_uri": "https://localhost:8080/"
        }
      },
      "source": [
        "model.fit(X_train,y_train,validation_data=(X_test,ytest),epochs=100,batch_size=64,verbose=1)"
      ],
      "execution_count": null,
      "outputs": [
        {
          "output_type": "stream",
          "text": [
            "Epoch 1/100\n",
            "14/14 [==============================] - 4s 250ms/step - loss: 7.2498e-04 - val_loss: 0.0544\n",
            "Epoch 2/100\n",
            "14/14 [==============================] - 3s 188ms/step - loss: 2.3087e-04 - val_loss: 0.0173\n",
            "Epoch 3/100\n",
            "14/14 [==============================] - 3s 183ms/step - loss: 9.6572e-05 - val_loss: 0.0079\n",
            "Epoch 4/100\n",
            "14/14 [==============================] - 3s 185ms/step - loss: 7.9923e-05 - val_loss: 0.0101\n",
            "Epoch 5/100\n",
            "14/14 [==============================] - 3s 192ms/step - loss: 7.5270e-05 - val_loss: 0.0077\n",
            "Epoch 6/100\n",
            "14/14 [==============================] - 3s 199ms/step - loss: 7.5150e-05 - val_loss: 0.0086\n",
            "Epoch 7/100\n",
            "14/14 [==============================] - 3s 191ms/step - loss: 7.2188e-05 - val_loss: 0.0055\n",
            "Epoch 8/100\n",
            "14/14 [==============================] - 3s 191ms/step - loss: 6.9868e-05 - val_loss: 0.0069\n",
            "Epoch 9/100\n",
            "14/14 [==============================] - 3s 191ms/step - loss: 6.8779e-05 - val_loss: 0.0056\n",
            "Epoch 10/100\n",
            "14/14 [==============================] - 3s 191ms/step - loss: 6.6306e-05 - val_loss: 0.0056\n",
            "Epoch 11/100\n",
            "14/14 [==============================] - 3s 191ms/step - loss: 6.5208e-05 - val_loss: 0.0057\n",
            "Epoch 12/100\n",
            "14/14 [==============================] - 3s 194ms/step - loss: 7.2872e-05 - val_loss: 0.0050\n",
            "Epoch 13/100\n",
            "14/14 [==============================] - 3s 190ms/step - loss: 5.8955e-05 - val_loss: 0.0044\n",
            "Epoch 14/100\n",
            "14/14 [==============================] - 3s 194ms/step - loss: 6.6636e-05 - val_loss: 0.0044\n",
            "Epoch 15/100\n",
            "14/14 [==============================] - 3s 191ms/step - loss: 5.7128e-05 - val_loss: 0.0040\n",
            "Epoch 16/100\n",
            "14/14 [==============================] - 3s 197ms/step - loss: 5.6874e-05 - val_loss: 0.0048\n",
            "Epoch 17/100\n",
            "14/14 [==============================] - 3s 194ms/step - loss: 5.5388e-05 - val_loss: 0.0041\n",
            "Epoch 18/100\n",
            "14/14 [==============================] - 3s 191ms/step - loss: 5.4977e-05 - val_loss: 0.0041\n",
            "Epoch 19/100\n",
            "14/14 [==============================] - 3s 188ms/step - loss: 5.3740e-05 - val_loss: 0.0035\n",
            "Epoch 20/100\n",
            "14/14 [==============================] - 3s 187ms/step - loss: 5.1479e-05 - val_loss: 0.0031\n",
            "Epoch 21/100\n",
            "14/14 [==============================] - 3s 188ms/step - loss: 4.7973e-05 - val_loss: 0.0046\n",
            "Epoch 22/100\n",
            "14/14 [==============================] - 3s 189ms/step - loss: 4.6404e-05 - val_loss: 0.0032\n",
            "Epoch 23/100\n",
            "14/14 [==============================] - 3s 194ms/step - loss: 5.6517e-05 - val_loss: 0.0026\n",
            "Epoch 24/100\n",
            "14/14 [==============================] - 3s 193ms/step - loss: 5.4627e-05 - val_loss: 0.0030\n",
            "Epoch 25/100\n",
            "14/14 [==============================] - 3s 190ms/step - loss: 4.3957e-05 - val_loss: 0.0036\n",
            "Epoch 26/100\n",
            "14/14 [==============================] - 3s 194ms/step - loss: 4.1623e-05 - val_loss: 0.0050\n",
            "Epoch 27/100\n",
            "14/14 [==============================] - 3s 196ms/step - loss: 4.9260e-05 - val_loss: 0.0034\n",
            "Epoch 28/100\n",
            "14/14 [==============================] - 3s 195ms/step - loss: 4.6997e-05 - val_loss: 0.0057\n",
            "Epoch 29/100\n",
            "14/14 [==============================] - 3s 195ms/step - loss: 4.6242e-05 - val_loss: 0.0027\n",
            "Epoch 30/100\n",
            "14/14 [==============================] - 3s 198ms/step - loss: 3.8044e-05 - val_loss: 0.0036\n",
            "Epoch 31/100\n",
            "14/14 [==============================] - 3s 195ms/step - loss: 3.8475e-05 - val_loss: 0.0044\n",
            "Epoch 32/100\n",
            "14/14 [==============================] - 3s 195ms/step - loss: 3.9151e-05 - val_loss: 0.0025\n",
            "Epoch 33/100\n",
            "14/14 [==============================] - 3s 200ms/step - loss: 3.9219e-05 - val_loss: 0.0035\n",
            "Epoch 34/100\n",
            "14/14 [==============================] - 3s 197ms/step - loss: 3.9351e-05 - val_loss: 0.0032\n",
            "Epoch 35/100\n",
            "14/14 [==============================] - 3s 193ms/step - loss: 3.6993e-05 - val_loss: 0.0047\n",
            "Epoch 36/100\n",
            "14/14 [==============================] - 3s 198ms/step - loss: 3.6350e-05 - val_loss: 0.0038\n",
            "Epoch 37/100\n",
            "14/14 [==============================] - 3s 197ms/step - loss: 3.4953e-05 - val_loss: 0.0027\n",
            "Epoch 38/100\n",
            "14/14 [==============================] - 3s 200ms/step - loss: 3.4931e-05 - val_loss: 0.0035\n",
            "Epoch 39/100\n",
            "14/14 [==============================] - 3s 232ms/step - loss: 3.4044e-05 - val_loss: 0.0030\n",
            "Epoch 40/100\n",
            "14/14 [==============================] - 3s 218ms/step - loss: 3.5851e-05 - val_loss: 0.0036\n",
            "Epoch 41/100\n",
            "14/14 [==============================] - 3s 195ms/step - loss: 3.4856e-05 - val_loss: 0.0031\n",
            "Epoch 42/100\n",
            "14/14 [==============================] - 3s 198ms/step - loss: 3.3006e-05 - val_loss: 0.0037\n",
            "Epoch 43/100\n",
            "14/14 [==============================] - 3s 196ms/step - loss: 3.8074e-05 - val_loss: 0.0040\n",
            "Epoch 44/100\n",
            "14/14 [==============================] - 3s 201ms/step - loss: 3.3897e-05 - val_loss: 0.0038\n",
            "Epoch 45/100\n",
            "14/14 [==============================] - 3s 194ms/step - loss: 2.9698e-05 - val_loss: 0.0029\n",
            "Epoch 46/100\n",
            "14/14 [==============================] - 3s 192ms/step - loss: 3.3849e-05 - val_loss: 0.0027\n",
            "Epoch 47/100\n",
            "14/14 [==============================] - 3s 196ms/step - loss: 2.9714e-05 - val_loss: 0.0030\n",
            "Epoch 48/100\n",
            "14/14 [==============================] - 3s 193ms/step - loss: 3.4656e-05 - val_loss: 0.0040\n",
            "Epoch 49/100\n",
            "14/14 [==============================] - 3s 194ms/step - loss: 3.1329e-05 - val_loss: 0.0038\n",
            "Epoch 50/100\n",
            "14/14 [==============================] - 3s 195ms/step - loss: 2.7008e-05 - val_loss: 0.0036\n",
            "Epoch 51/100\n",
            "14/14 [==============================] - 3s 197ms/step - loss: 2.7623e-05 - val_loss: 0.0028\n",
            "Epoch 52/100\n",
            "14/14 [==============================] - 3s 192ms/step - loss: 2.7080e-05 - val_loss: 0.0036\n",
            "Epoch 53/100\n",
            "14/14 [==============================] - 3s 193ms/step - loss: 2.6248e-05 - val_loss: 0.0042\n",
            "Epoch 54/100\n",
            "14/14 [==============================] - 3s 218ms/step - loss: 2.8716e-05 - val_loss: 0.0034\n",
            "Epoch 55/100\n",
            "14/14 [==============================] - 3s 221ms/step - loss: 2.8570e-05 - val_loss: 0.0042\n",
            "Epoch 56/100\n",
            "14/14 [==============================] - 3s 225ms/step - loss: 2.6677e-05 - val_loss: 0.0034\n",
            "Epoch 57/100\n",
            "14/14 [==============================] - 3s 211ms/step - loss: 2.4858e-05 - val_loss: 0.0036\n",
            "Epoch 58/100\n",
            "14/14 [==============================] - 3s 230ms/step - loss: 2.5220e-05 - val_loss: 0.0044\n",
            "Epoch 59/100\n",
            "14/14 [==============================] - 3s 220ms/step - loss: 2.4578e-05 - val_loss: 0.0024\n",
            "Epoch 60/100\n",
            "14/14 [==============================] - 3s 217ms/step - loss: 2.5803e-05 - val_loss: 0.0035\n",
            "Epoch 61/100\n",
            "14/14 [==============================] - 3s 203ms/step - loss: 2.5268e-05 - val_loss: 0.0039\n",
            "Epoch 62/100\n",
            "14/14 [==============================] - 3s 196ms/step - loss: 2.3557e-05 - val_loss: 0.0038\n",
            "Epoch 63/100\n",
            "14/14 [==============================] - 3s 192ms/step - loss: 2.3200e-05 - val_loss: 0.0037\n",
            "Epoch 64/100\n",
            "14/14 [==============================] - 3s 190ms/step - loss: 2.6503e-05 - val_loss: 0.0035\n",
            "Epoch 65/100\n",
            "14/14 [==============================] - 3s 193ms/step - loss: 2.6298e-05 - val_loss: 0.0025\n",
            "Epoch 66/100\n",
            "14/14 [==============================] - 3s 187ms/step - loss: 2.3241e-05 - val_loss: 0.0035\n",
            "Epoch 67/100\n",
            "14/14 [==============================] - 3s 191ms/step - loss: 2.2236e-05 - val_loss: 0.0029\n",
            "Epoch 68/100\n",
            "14/14 [==============================] - 3s 191ms/step - loss: 2.4833e-05 - val_loss: 0.0022\n",
            "Epoch 69/100\n",
            "14/14 [==============================] - 3s 192ms/step - loss: 2.0965e-05 - val_loss: 0.0034\n",
            "Epoch 70/100\n",
            "14/14 [==============================] - 3s 189ms/step - loss: 2.1027e-05 - val_loss: 0.0026\n",
            "Epoch 71/100\n",
            "14/14 [==============================] - 3s 191ms/step - loss: 2.0393e-05 - val_loss: 0.0030\n",
            "Epoch 72/100\n",
            "14/14 [==============================] - 3s 195ms/step - loss: 1.9823e-05 - val_loss: 0.0036\n",
            "Epoch 73/100\n",
            "14/14 [==============================] - 3s 194ms/step - loss: 2.1320e-05 - val_loss: 0.0031\n",
            "Epoch 74/100\n",
            "14/14 [==============================] - 3s 193ms/step - loss: 1.9772e-05 - val_loss: 0.0032\n",
            "Epoch 75/100\n",
            "14/14 [==============================] - 3s 194ms/step - loss: 2.4312e-05 - val_loss: 0.0033\n",
            "Epoch 76/100\n",
            "14/14 [==============================] - 3s 196ms/step - loss: 1.9637e-05 - val_loss: 0.0037\n",
            "Epoch 77/100\n",
            "14/14 [==============================] - 3s 193ms/step - loss: 1.9453e-05 - val_loss: 0.0018\n",
            "Epoch 78/100\n",
            "14/14 [==============================] - 3s 194ms/step - loss: 2.1989e-05 - val_loss: 0.0029\n",
            "Epoch 79/100\n",
            "14/14 [==============================] - 3s 196ms/step - loss: 2.1859e-05 - val_loss: 0.0027\n",
            "Epoch 80/100\n",
            "14/14 [==============================] - 3s 197ms/step - loss: 1.8823e-05 - val_loss: 0.0025\n",
            "Epoch 81/100\n",
            "14/14 [==============================] - 3s 191ms/step - loss: 1.7613e-05 - val_loss: 0.0026\n",
            "Epoch 82/100\n",
            "14/14 [==============================] - 3s 194ms/step - loss: 1.7378e-05 - val_loss: 0.0023\n",
            "Epoch 83/100\n",
            "14/14 [==============================] - 3s 197ms/step - loss: 1.8346e-05 - val_loss: 0.0028\n",
            "Epoch 84/100\n",
            "14/14 [==============================] - 3s 194ms/step - loss: 1.8894e-05 - val_loss: 0.0030\n",
            "Epoch 85/100\n",
            "14/14 [==============================] - 3s 193ms/step - loss: 2.1139e-05 - val_loss: 0.0031\n",
            "Epoch 86/100\n",
            "14/14 [==============================] - 3s 198ms/step - loss: 2.0414e-05 - val_loss: 0.0029\n",
            "Epoch 87/100\n",
            "14/14 [==============================] - 3s 201ms/step - loss: 1.7697e-05 - val_loss: 0.0032\n",
            "Epoch 88/100\n",
            "14/14 [==============================] - 3s 197ms/step - loss: 1.8423e-05 - val_loss: 0.0027\n",
            "Epoch 89/100\n",
            "14/14 [==============================] - 3s 201ms/step - loss: 1.8381e-05 - val_loss: 0.0022\n",
            "Epoch 90/100\n",
            "14/14 [==============================] - 3s 199ms/step - loss: 1.7103e-05 - val_loss: 0.0027\n",
            "Epoch 91/100\n",
            "14/14 [==============================] - 3s 199ms/step - loss: 1.6250e-05 - val_loss: 0.0025\n",
            "Epoch 92/100\n",
            "14/14 [==============================] - 3s 195ms/step - loss: 1.7177e-05 - val_loss: 0.0026\n",
            "Epoch 93/100\n",
            "14/14 [==============================] - 3s 199ms/step - loss: 2.0990e-05 - val_loss: 0.0023\n",
            "Epoch 94/100\n",
            "14/14 [==============================] - 3s 195ms/step - loss: 1.7302e-05 - val_loss: 0.0020\n",
            "Epoch 95/100\n",
            "14/14 [==============================] - 3s 193ms/step - loss: 1.5881e-05 - val_loss: 0.0025\n",
            "Epoch 96/100\n",
            "14/14 [==============================] - 3s 196ms/step - loss: 1.9379e-05 - val_loss: 0.0029\n",
            "Epoch 97/100\n",
            "14/14 [==============================] - 3s 198ms/step - loss: 1.7269e-05 - val_loss: 0.0034\n",
            "Epoch 98/100\n",
            "14/14 [==============================] - 3s 194ms/step - loss: 1.6894e-05 - val_loss: 0.0030\n",
            "Epoch 99/100\n",
            "14/14 [==============================] - 3s 198ms/step - loss: 2.0264e-05 - val_loss: 0.0020\n",
            "Epoch 100/100\n",
            "14/14 [==============================] - 3s 193ms/step - loss: 2.0208e-05 - val_loss: 0.0022\n"
          ],
          "name": "stdout"
        },
        {
          "output_type": "execute_result",
          "data": {
            "text/plain": [
              "<tensorflow.python.keras.callbacks.History at 0x7f44582bba58>"
            ]
          },
          "metadata": {
            "tags": []
          },
          "execution_count": 271
        }
      ]
    },
    {
      "cell_type": "code",
      "metadata": {
        "id": "ZWjDxV2DElII"
      },
      "source": [
        "import tensorflow as tf"
      ],
      "execution_count": null,
      "outputs": []
    },
    {
      "cell_type": "code",
      "metadata": {
        "id": "hoKBhwz_ElIL",
        "outputId": "8143fdd6-f451-46ea-9a9a-b2818d47245b",
        "colab": {
          "base_uri": "https://localhost:8080/",
          "height": 35
        }
      },
      "source": [
        "tf.__version__"
      ],
      "execution_count": null,
      "outputs": [
        {
          "output_type": "execute_result",
          "data": {
            "application/vnd.google.colaboratory.intrinsic+json": {
              "type": "string"
            },
            "text/plain": [
              "'2.3.0'"
            ]
          },
          "metadata": {
            "tags": []
          },
          "execution_count": 273
        }
      ]
    },
    {
      "cell_type": "code",
      "metadata": {
        "id": "eGAfOgMXElIN"
      },
      "source": [
        "### Lets Do the prediction and check performance metrics\n",
        "train_predict=model.predict(X_train)\n",
        "test_predict=model.predict(X_test)"
      ],
      "execution_count": null,
      "outputs": []
    },
    {
      "cell_type": "code",
      "metadata": {
        "id": "1HXKMR2SElIP"
      },
      "source": [
        "##Transformback to original form\n",
        "train_predict=scaler.inverse_transform(train_predict)\n",
        "test_predict=scaler.inverse_transform(test_predict)"
      ],
      "execution_count": null,
      "outputs": []
    },
    {
      "cell_type": "code",
      "metadata": {
        "id": "Mc63UuqmElIS",
        "outputId": "b92e28a4-63c6-4419-b3e8-c3f85aa98f85",
        "colab": {
          "base_uri": "https://localhost:8080/"
        }
      },
      "source": [
        "### Calculate RMSE performance metrics\n",
        "import math\n",
        "from sklearn.metrics import mean_squared_error\n",
        "math.sqrt(mean_squared_error(y_train,train_predict))"
      ],
      "execution_count": null,
      "outputs": [
        {
          "output_type": "execute_result",
          "data": {
            "text/plain": [
              "56.7160437732518"
            ]
          },
          "metadata": {
            "tags": []
          },
          "execution_count": 276
        }
      ]
    },
    {
      "cell_type": "code",
      "metadata": {
        "id": "Ms3ZvJXKElIU",
        "outputId": "8a7dea5a-6720-42e8-9dff-49e205c0cef7",
        "colab": {
          "base_uri": "https://localhost:8080/"
        }
      },
      "source": [
        "### Test Data RMSE\n",
        "math.sqrt(mean_squared_error(ytest,test_predict))"
      ],
      "execution_count": null,
      "outputs": [
        {
          "output_type": "execute_result",
          "data": {
            "text/plain": [
              "178.3608792453233"
            ]
          },
          "metadata": {
            "tags": []
          },
          "execution_count": 277
        }
      ]
    },
    {
      "cell_type": "code",
      "metadata": {
        "id": "x35-cB3bElIW",
        "outputId": "60245458-468c-46c1-e48b-4d27be2d9cfe",
        "colab": {
          "base_uri": "https://localhost:8080/",
          "height": 264
        }
      },
      "source": [
        "### Plotting \n",
        "# shift train predictions for plotting\n",
        "look_back=100\n",
        "trainPredictPlot = numpy.empty_like(df1)\n",
        "trainPredictPlot[:, :] = np.nan\n",
        "trainPredictPlot[look_back:len(train_predict)+look_back, :] = train_predict\n",
        "# shift test predictions for plotting\n",
        "testPredictPlot = numpy.empty_like(df1)\n",
        "testPredictPlot[:, :] = numpy.nan\n",
        "testPredictPlot[len(train_predict)+(look_back*2)+1:len(df1)-1, :] = test_predict\n",
        "# plot baseline and predictions\n",
        "plt.plot(scaler.inverse_transform(df1))\n",
        "plt.plot(trainPredictPlot)\n",
        "plt.plot(testPredictPlot)\n",
        "plt.show()"
      ],
      "execution_count": null,
      "outputs": [
        {
          "output_type": "display_data",
          "data": {
            "image/png": "[encoded data removed]",
            "text/plain": [
              "<Figure size 432x288 with 1 Axes>"
            ]
          },
          "metadata": {
            "tags": [],
            "needs_background": "light"
          }
        }
      ]
    },
    {
      "cell_type": "code",
      "metadata": {
        "id": "dXsBxWLuElIZ",
        "outputId": "6a511f06-4e09-421c-c13b-531eb0af29e5",
        "colab": {
          "base_uri": "https://localhost:8080/"
        }
      },
      "source": [
        "len(test_data)"
      ],
      "execution_count": null,
      "outputs": [
        {
          "output_type": "execute_result",
          "data": {
            "text/plain": [
              "508"
            ]
          },
          "metadata": {
            "tags": []
          },
          "execution_count": 279
        }
      ]
    },
    {
      "cell_type": "code",
      "metadata": {
        "id": "wKCjGffwElIb",
        "outputId": "9e484a26-fd3f-4765-caa7-2e8cbfc29b36",
        "colab": {
          "base_uri": "https://localhost:8080/"
        }
      },
      "source": [
        "x_input=test_data[len(test_data)-100:].reshape(1,-1)\n",
        "x_input.shape\n"
      ],
      "execution_count": null,
      "outputs": [
        {
          "output_type": "execute_result",
          "data": {
            "text/plain": [
              "(1, 100)"
            ]
          },
          "metadata": {
            "tags": []
          },
          "execution_count": 280
        }
      ]
    },
    {
      "cell_type": "code",
      "metadata": {
        "id": "OXhQOPKAElId"
      },
      "source": [
        ""
      ],
      "execution_count": null,
      "outputs": []
    },
    {
      "cell_type": "code",
      "metadata": {
        "id": "OqzG5rzmElIf"
      },
      "source": [
        ""
      ],
      "execution_count": null,
      "outputs": []
    },
    {
      "cell_type": "code",
      "metadata": {
        "id": "T4taiG1dElIi"
      },
      "source": [
        "temp_input=list(x_input)\n",
        "temp_input=temp_input[0].tolist()"
      ],
      "execution_count": null,
      "outputs": []
    },
    {
      "cell_type": "code",
      "metadata": {
        "id": "_NfxrkjbElIl",
        "outputId": "7403b6a7-0888-4e6a-8485-286d7b8b0547",
        "colab": {
          "base_uri": "https://localhost:8080/"
        }
      },
      "source": [
        "temp_input"
      ],
      "execution_count": null,
      "outputs": [
        {
          "output_type": "execute_result",
          "data": {
            "text/plain": [
              "[0.33715229538802394,\n",
              " 0.36084123144810054,\n",
              " 0.3571060311384998,\n",
              " 0.36122030797538907,\n",
              " 0.36640360921406645,\n",
              " 0.3651003021308322,\n",
              " 0.36229784583938796,\n",
              " 0.36547512192701526,\n",
              " 0.34804273574437905,\n",
              " 0.358745782449708,\n",
              " 0.3475699786386428,\n",
              " 0.3686992220568013,\n",
              " 0.39870865644329023,\n",
              " 0.4156682530260595,\n",
              " 0.45358675879451293,\n",
              " 0.522975570071848,\n",
              " 0.5307610987693664,\n",
              " 0.5205478685883257,\n",
              " 0.5326436137301006,\n",
              " 0.5966872705043639,\n",
              " 0.5764183416873102,\n",
              " 0.5848257430557737,\n",
              " 0.5972665108759946,\n",
              " 0.5779430962704133,\n",
              " 0.5780282958807811,\n",
              " 0.6385752592638643,\n",
              " 0.6067855364514302,\n",
              " 0.6169945423954962,\n",
              " 0.5832371700002211,\n",
              " 0.5423202358388253,\n",
              " 0.594536484001602,\n",
              " 0.5676574691664514,\n",
              " 0.5772914589758615,\n",
              " 0.5723424079244995,\n",
              " 0.5481807472528172,\n",
              " 0.5712819294790524,\n",
              " 0.5721337306179466,\n",
              " 0.5712904429412632,\n",
              " 0.5732325521374722,\n",
              " 0.5575293736075172,\n",
              " 0.5429889000577984,\n",
              " 0.5241723289009267,\n",
              " 0.6009931977233848,\n",
              " 0.629205316759507,\n",
              " 0.6418589861232555,\n",
              " 0.7206219641419226,\n",
              " 0.7425349010012898,\n",
              " 0.7388891245390315,\n",
              " 0.7914034738557038,\n",
              " 0.8119109095911783,\n",
              " 0.7966719422106183,\n",
              " 0.8005647390535081,\n",
              " 0.855860261006098,\n",
              " 0.8923093821899482,\n",
              " 0.8815126224120409,\n",
              " 1.0,\n",
              " 0.9504456710139304,\n",
              " 0.8915001483621074,\n",
              " 0.8055308170292915,\n",
              " 0.8296371726907352,\n",
              " 0.6420037799690979,\n",
              " 0.7188161353293453,\n",
              " 0.7295915789575954,\n",
              " 0.732530348126802,\n",
              " 0.8324055426392062,\n",
              " 0.896589769022337,\n",
              " 0.8795534862914106,\n",
              " 0.8405190670907491,\n",
              " 0.8803839712806474,\n",
              " 0.8958018513441535,\n",
              " 0.8422227343567984,\n",
              " 0.748799964340941,\n",
              " 0.7646224613183674,\n",
              " 0.8062548512467645,\n",
              " 0.8357702448719904,\n",
              " 0.8312343241967596,\n",
              " 0.8524019106889965,\n",
              " 0.8931824994784995,\n",
              " 0.8227587501423496,\n",
              " 0.8453105216088221,\n",
              " 0.8203949971077988,\n",
              " 0.8445012877809814,\n",
              " 0.8458216542827675,\n",
              " 0.8630282712461683,\n",
              " 0.8807033885842002,\n",
              " 0.8899668803167936,\n",
              " 0.9211645600701506,\n",
              " 0.8947157675238133,\n",
              " 0.8751027652265474,\n",
              " 0.8562776156192038,\n",
              " 0.8373460802283577,\n",
              " 0.838836780962618,\n",
              " 0.8455448042902681,\n",
              " 0.8345563941302292,\n",
              " 0.833811043763099,\n",
              " 0.8431809862674563,\n",
              " 0.8034438489989789,\n",
              " 0.8136869087918877,\n",
              " 0.7651548451537089,\n",
              " 0.7917101534600709]"
            ]
          },
          "metadata": {
            "tags": []
          },
          "execution_count": 282
        }
      ]
    },
    {
      "cell_type": "code",
      "metadata": {
        "id": "vARtCl-OElIp",
        "outputId": "cc430ac2-3b02-48fa-fa84-120330d1f22f",
        "colab": {
          "base_uri": "https://localhost:8080/"
        }
      },
      "source": [
        "# demonstrate prediction for next 10 days\n",
        "from numpy import array\n",
        "\n",
        "lst_output=[]\n",
        "n_steps=100\n",
        "i=0\n",
        "\n",
        "while(i<30):\n",
        "    \n",
        "    if(len(temp_input)>100):\n",
        "        #print(temp_input)\n",
        "        x_input=np.array(temp_input[1:])\n",
        "        print(\"{} day input {}\".format(i,x_input))\n",
        "        x_input=x_input.reshape(1,-1)\n",
        "        x_input = x_input.reshape((1, n_steps, 1))\n",
        "        #print(x_input)\n",
        "        yhat = model.predict(x_input, verbose=0)\n",
        "        print(\"{} day output {}\".format(i,yhat))\n",
        "        temp_input.extend(yhat[0].tolist())\n",
        "        temp_input=temp_input[1:]\n",
        "        #print(temp_input)\n",
        "        lst_output.extend(yhat.tolist())\n",
        "        i=i+1\n",
        "    else:\n",
        "        x_input = x_input.reshape((1, n_steps,1))\n",
        "        yhat = model.predict(x_input, verbose=0)\n",
        "        print(yhat[0])\n",
        "        temp_input.extend(yhat[0].tolist())\n",
        "        print(len(temp_input))\n",
        "        lst_output.extend(yhat.tolist())\n",
        "        i=i+1\n",
        "    \n",
        "\n",
        "print(lst_output)"
      ],
      "execution_count": null,
      "outputs": [
        {
          "output_type": "stream",
          "text": [
            "[0.69173104]\n",
            "101\n",
            "1 day input [0.36084123 0.35710603 0.36122031 0.36640361 0.3651003  0.36229785\n",
            " 0.36547512 0.34804274 0.35874578 0.34756998 0.36869922 0.39870866\n",
            " 0.41566825 0.45358676 0.52297557 0.5307611  0.52054787 0.53264361\n",
            " 0.59668727 0.57641834 0.58482574 0.59726651 0.5779431  0.5780283\n",
            " 0.63857526 0.60678554 0.61699454 0.58323717 0.54232024 0.59453648\n",
            " 0.56765747 0.57729146 0.57234241 0.54818075 0.57128193 0.57213373\n",
            " 0.57129044 0.57323255 0.55752937 0.5429889  0.52417233 0.6009932\n",
            " 0.62920532 0.64185899 0.72062196 0.7425349  0.73888912 0.79140347\n",
            " 0.81191091 0.79667194 0.80056474 0.85586026 0.89230938 0.88151262\n",
            " 1.         0.95044567 0.89150015 0.80553082 0.82963717 0.64200378\n",
            " 0.71881614 0.72959158 0.73253035 0.83240554 0.89658977 0.87955349\n",
            " 0.84051907 0.88038397 0.89580185 0.84222273 0.74879996 0.76462246\n",
            " 0.80625485 0.83577024 0.83123432 0.85240191 0.8931825  0.82275875\n",
            " 0.84531052 0.820395   0.84450129 0.84582165 0.86302827 0.88070339\n",
            " 0.88996688 0.92116456 0.89471577 0.87510277 0.85627762 0.83734608\n",
            " 0.83883678 0.8455448  0.83455639 0.83381104 0.84318099 0.80344385\n",
            " 0.81368691 0.76515485 0.79171015 0.69173104]\n",
            "1 day output [[0.6555148]]\n",
            "2 day input [0.35710603 0.36122031 0.36640361 0.3651003  0.36229785 0.36547512\n",
            " 0.34804274 0.35874578 0.34756998 0.36869922 0.39870866 0.41566825\n",
            " 0.45358676 0.52297557 0.5307611  0.52054787 0.53264361 0.59668727\n",
            " 0.57641834 0.58482574 0.59726651 0.5779431  0.5780283  0.63857526\n",
            " 0.60678554 0.61699454 0.58323717 0.54232024 0.59453648 0.56765747\n",
            " 0.57729146 0.57234241 0.54818075 0.57128193 0.57213373 0.57129044\n",
            " 0.57323255 0.55752937 0.5429889  0.52417233 0.6009932  0.62920532\n",
            " 0.64185899 0.72062196 0.7425349  0.73888912 0.79140347 0.81191091\n",
            " 0.79667194 0.80056474 0.85586026 0.89230938 0.88151262 1.\n",
            " 0.95044567 0.89150015 0.80553082 0.82963717 0.64200378 0.71881614\n",
            " 0.72959158 0.73253035 0.83240554 0.89658977 0.87955349 0.84051907\n",
            " 0.88038397 0.89580185 0.84222273 0.74879996 0.76462246 0.80625485\n",
            " 0.83577024 0.83123432 0.85240191 0.8931825  0.82275875 0.84531052\n",
            " 0.820395   0.84450129 0.84582165 0.86302827 0.88070339 0.88996688\n",
            " 0.92116456 0.89471577 0.87510277 0.85627762 0.83734608 0.83883678\n",
            " 0.8455448  0.83455639 0.83381104 0.84318099 0.80344385 0.81368691\n",
            " 0.76515485 0.79171015 0.69173104 0.65551478]\n",
            "2 day output [[0.6108238]]\n",
            "3 day input [0.36122031 0.36640361 0.3651003  0.36229785 0.36547512 0.34804274\n",
            " 0.35874578 0.34756998 0.36869922 0.39870866 0.41566825 0.45358676\n",
            " 0.52297557 0.5307611  0.52054787 0.53264361 0.59668727 0.57641834\n",
            " 0.58482574 0.59726651 0.5779431  0.5780283  0.63857526 0.60678554\n",
            " 0.61699454 0.58323717 0.54232024 0.59453648 0.56765747 0.57729146\n",
            " 0.57234241 0.54818075 0.57128193 0.57213373 0.57129044 0.57323255\n",
            " 0.55752937 0.5429889  0.52417233 0.6009932  0.62920532 0.64185899\n",
            " 0.72062196 0.7425349  0.73888912 0.79140347 0.81191091 0.79667194\n",
            " 0.80056474 0.85586026 0.89230938 0.88151262 1.         0.95044567\n",
            " 0.89150015 0.80553082 0.82963717 0.64200378 0.71881614 0.72959158\n",
            " 0.73253035 0.83240554 0.89658977 0.87955349 0.84051907 0.88038397\n",
            " 0.89580185 0.84222273 0.74879996 0.76462246 0.80625485 0.83577024\n",
            " 0.83123432 0.85240191 0.8931825  0.82275875 0.84531052 0.820395\n",
            " 0.84450129 0.84582165 0.86302827 0.88070339 0.88996688 0.92116456\n",
            " 0.89471577 0.87510277 0.85627762 0.83734608 0.83883678 0.8455448\n",
            " 0.83455639 0.83381104 0.84318099 0.80344385 0.81368691 0.76515485\n",
            " 0.79171015 0.69173104 0.65551478 0.61082381]\n",
            "3 day output [[0.56813484]]\n",
            "4 day input [0.36640361 0.3651003  0.36229785 0.36547512 0.34804274 0.35874578\n",
            " 0.34756998 0.36869922 0.39870866 0.41566825 0.45358676 0.52297557\n",
            " 0.5307611  0.52054787 0.53264361 0.59668727 0.57641834 0.58482574\n",
            " 0.59726651 0.5779431  0.5780283  0.63857526 0.60678554 0.61699454\n",
            " 0.58323717 0.54232024 0.59453648 0.56765747 0.57729146 0.57234241\n",
            " 0.54818075 0.57128193 0.57213373 0.57129044 0.57323255 0.55752937\n",
            " 0.5429889  0.52417233 0.6009932  0.62920532 0.64185899 0.72062196\n",
            " 0.7425349  0.73888912 0.79140347 0.81191091 0.79667194 0.80056474\n",
            " 0.85586026 0.89230938 0.88151262 1.         0.95044567 0.89150015\n",
            " 0.80553082 0.82963717 0.64200378 0.71881614 0.72959158 0.73253035\n",
            " 0.83240554 0.89658977 0.87955349 0.84051907 0.88038397 0.89580185\n",
            " 0.84222273 0.74879996 0.76462246 0.80625485 0.83577024 0.83123432\n",
            " 0.85240191 0.8931825  0.82275875 0.84531052 0.820395   0.84450129\n",
            " 0.84582165 0.86302827 0.88070339 0.88996688 0.92116456 0.89471577\n",
            " 0.87510277 0.85627762 0.83734608 0.83883678 0.8455448  0.83455639\n",
            " 0.83381104 0.84318099 0.80344385 0.81368691 0.76515485 0.79171015\n",
            " 0.69173104 0.65551478 0.61082381 0.56813484]\n",
            "4 day output [[0.53053147]]\n",
            "5 day input [0.3651003  0.36229785 0.36547512 0.34804274 0.35874578 0.34756998\n",
            " 0.36869922 0.39870866 0.41566825 0.45358676 0.52297557 0.5307611\n",
            " 0.52054787 0.53264361 0.59668727 0.57641834 0.58482574 0.59726651\n",
            " 0.5779431  0.5780283  0.63857526 0.60678554 0.61699454 0.58323717\n",
            " 0.54232024 0.59453648 0.56765747 0.57729146 0.57234241 0.54818075\n",
            " 0.57128193 0.57213373 0.57129044 0.57323255 0.55752937 0.5429889\n",
            " 0.52417233 0.6009932  0.62920532 0.64185899 0.72062196 0.7425349\n",
            " 0.73888912 0.79140347 0.81191091 0.79667194 0.80056474 0.85586026\n",
            " 0.89230938 0.88151262 1.         0.95044567 0.89150015 0.80553082\n",
            " 0.82963717 0.64200378 0.71881614 0.72959158 0.73253035 0.83240554\n",
            " 0.89658977 0.87955349 0.84051907 0.88038397 0.89580185 0.84222273\n",
            " 0.74879996 0.76462246 0.80625485 0.83577024 0.83123432 0.85240191\n",
            " 0.8931825  0.82275875 0.84531052 0.820395   0.84450129 0.84582165\n",
            " 0.86302827 0.88070339 0.88996688 0.92116456 0.89471577 0.87510277\n",
            " 0.85627762 0.83734608 0.83883678 0.8455448  0.83455639 0.83381104\n",
            " 0.84318099 0.80344385 0.81368691 0.76515485 0.79171015 0.69173104\n",
            " 0.65551478 0.61082381 0.56813484 0.53053147]\n",
            "5 day output [[0.49888057]]\n",
            "6 day input [0.36229785 0.36547512 0.34804274 0.35874578 0.34756998 0.36869922\n",
            " 0.39870866 0.41566825 0.45358676 0.52297557 0.5307611  0.52054787\n",
            " 0.53264361 0.59668727 0.57641834 0.58482574 0.59726651 0.5779431\n",
            " 0.5780283  0.63857526 0.60678554 0.61699454 0.58323717 0.54232024\n",
            " 0.59453648 0.56765747 0.57729146 0.57234241 0.54818075 0.57128193\n",
            " 0.57213373 0.57129044 0.57323255 0.55752937 0.5429889  0.52417233\n",
            " 0.6009932  0.62920532 0.64185899 0.72062196 0.7425349  0.73888912\n",
            " 0.79140347 0.81191091 0.79667194 0.80056474 0.85586026 0.89230938\n",
            " 0.88151262 1.         0.95044567 0.89150015 0.80553082 0.82963717\n",
            " 0.64200378 0.71881614 0.72959158 0.73253035 0.83240554 0.89658977\n",
            " 0.87955349 0.84051907 0.88038397 0.89580185 0.84222273 0.74879996\n",
            " 0.76462246 0.80625485 0.83577024 0.83123432 0.85240191 0.8931825\n",
            " 0.82275875 0.84531052 0.820395   0.84450129 0.84582165 0.86302827\n",
            " 0.88070339 0.88996688 0.92116456 0.89471577 0.87510277 0.85627762\n",
            " 0.83734608 0.83883678 0.8455448  0.83455639 0.83381104 0.84318099\n",
            " 0.80344385 0.81368691 0.76515485 0.79171015 0.69173104 0.65551478\n",
            " 0.61082381 0.56813484 0.53053147 0.49888057]\n",
            "6 day output [[0.47323397]]\n",
            "7 day input [0.36547512 0.34804274 0.35874578 0.34756998 0.36869922 0.39870866\n",
            " 0.41566825 0.45358676 0.52297557 0.5307611  0.52054787 0.53264361\n",
            " 0.59668727 0.57641834 0.58482574 0.59726651 0.5779431  0.5780283\n",
            " 0.63857526 0.60678554 0.61699454 0.58323717 0.54232024 0.59453648\n",
            " 0.56765747 0.57729146 0.57234241 0.54818075 0.57128193 0.57213373\n",
            " 0.57129044 0.57323255 0.55752937 0.5429889  0.52417233 0.6009932\n",
            " 0.62920532 0.64185899 0.72062196 0.7425349  0.73888912 0.79140347\n",
            " 0.81191091 0.79667194 0.80056474 0.85586026 0.89230938 0.88151262\n",
            " 1.         0.95044567 0.89150015 0.80553082 0.82963717 0.64200378\n",
            " 0.71881614 0.72959158 0.73253035 0.83240554 0.89658977 0.87955349\n",
            " 0.84051907 0.88038397 0.89580185 0.84222273 0.74879996 0.76462246\n",
            " 0.80625485 0.83577024 0.83123432 0.85240191 0.8931825  0.82275875\n",
            " 0.84531052 0.820395   0.84450129 0.84582165 0.86302827 0.88070339\n",
            " 0.88996688 0.92116456 0.89471577 0.87510277 0.85627762 0.83734608\n",
            " 0.83883678 0.8455448  0.83455639 0.83381104 0.84318099 0.80344385\n",
            " 0.81368691 0.76515485 0.79171015 0.69173104 0.65551478 0.61082381\n",
            " 0.56813484 0.53053147 0.49888057 0.47323397]\n",
            "7 day output [[0.45311338]]\n",
            "8 day input [0.34804274 0.35874578 0.34756998 0.36869922 0.39870866 0.41566825\n",
            " 0.45358676 0.52297557 0.5307611  0.52054787 0.53264361 0.59668727\n",
            " 0.57641834 0.58482574 0.59726651 0.5779431  0.5780283  0.63857526\n",
            " 0.60678554 0.61699454 0.58323717 0.54232024 0.59453648 0.56765747\n",
            " 0.57729146 0.57234241 0.54818075 0.57128193 0.57213373 0.57129044\n",
            " 0.57323255 0.55752937 0.5429889  0.52417233 0.6009932  0.62920532\n",
            " 0.64185899 0.72062196 0.7425349  0.73888912 0.79140347 0.81191091\n",
            " 0.79667194 0.80056474 0.85586026 0.89230938 0.88151262 1.\n",
            " 0.95044567 0.89150015 0.80553082 0.82963717 0.64200378 0.71881614\n",
            " 0.72959158 0.73253035 0.83240554 0.89658977 0.87955349 0.84051907\n",
            " 0.88038397 0.89580185 0.84222273 0.74879996 0.76462246 0.80625485\n",
            " 0.83577024 0.83123432 0.85240191 0.8931825  0.82275875 0.84531052\n",
            " 0.820395   0.84450129 0.84582165 0.86302827 0.88070339 0.88996688\n",
            " 0.92116456 0.89471577 0.87510277 0.85627762 0.83734608 0.83883678\n",
            " 0.8455448  0.83455639 0.83381104 0.84318099 0.80344385 0.81368691\n",
            " 0.76515485 0.79171015 0.69173104 0.65551478 0.61082381 0.56813484\n",
            " 0.53053147 0.49888057 0.47323397 0.45311338]\n",
            "8 day output [[0.4376728]]\n",
            "9 day input [0.35874578 0.34756998 0.36869922 0.39870866 0.41566825 0.45358676\n",
            " 0.52297557 0.5307611  0.52054787 0.53264361 0.59668727 0.57641834\n",
            " 0.58482574 0.59726651 0.5779431  0.5780283  0.63857526 0.60678554\n",
            " 0.61699454 0.58323717 0.54232024 0.59453648 0.56765747 0.57729146\n",
            " 0.57234241 0.54818075 0.57128193 0.57213373 0.57129044 0.57323255\n",
            " 0.55752937 0.5429889  0.52417233 0.6009932  0.62920532 0.64185899\n",
            " 0.72062196 0.7425349  0.73888912 0.79140347 0.81191091 0.79667194\n",
            " 0.80056474 0.85586026 0.89230938 0.88151262 1.         0.95044567\n",
            " 0.89150015 0.80553082 0.82963717 0.64200378 0.71881614 0.72959158\n",
            " 0.73253035 0.83240554 0.89658977 0.87955349 0.84051907 0.88038397\n",
            " 0.89580185 0.84222273 0.74879996 0.76462246 0.80625485 0.83577024\n",
            " 0.83123432 0.85240191 0.8931825  0.82275875 0.84531052 0.820395\n",
            " 0.84450129 0.84582165 0.86302827 0.88070339 0.88996688 0.92116456\n",
            " 0.89471577 0.87510277 0.85627762 0.83734608 0.83883678 0.8455448\n",
            " 0.83455639 0.83381104 0.84318099 0.80344385 0.81368691 0.76515485\n",
            " 0.79171015 0.69173104 0.65551478 0.61082381 0.56813484 0.53053147\n",
            " 0.49888057 0.47323397 0.45311338 0.43767279]\n",
            "9 day output [[0.42587784]]\n",
            "10 day input [0.34756998 0.36869922 0.39870866 0.41566825 0.45358676 0.52297557\n",
            " 0.5307611  0.52054787 0.53264361 0.59668727 0.57641834 0.58482574\n",
            " 0.59726651 0.5779431  0.5780283  0.63857526 0.60678554 0.61699454\n",
            " 0.58323717 0.54232024 0.59453648 0.56765747 0.57729146 0.57234241\n",
            " 0.54818075 0.57128193 0.57213373 0.57129044 0.57323255 0.55752937\n",
            " 0.5429889  0.52417233 0.6009932  0.62920532 0.64185899 0.72062196\n",
            " 0.7425349  0.73888912 0.79140347 0.81191091 0.79667194 0.80056474\n",
            " 0.85586026 0.89230938 0.88151262 1.         0.95044567 0.89150015\n",
            " 0.80553082 0.82963717 0.64200378 0.71881614 0.72959158 0.73253035\n",
            " 0.83240554 0.89658977 0.87955349 0.84051907 0.88038397 0.89580185\n",
            " 0.84222273 0.74879996 0.76462246 0.80625485 0.83577024 0.83123432\n",
            " 0.85240191 0.8931825  0.82275875 0.84531052 0.820395   0.84450129\n",
            " 0.84582165 0.86302827 0.88070339 0.88996688 0.92116456 0.89471577\n",
            " 0.87510277 0.85627762 0.83734608 0.83883678 0.8455448  0.83455639\n",
            " 0.83381104 0.84318099 0.80344385 0.81368691 0.76515485 0.79171015\n",
            " 0.69173104 0.65551478 0.61082381 0.56813484 0.53053147 0.49888057\n",
            " 0.47323397 0.45311338 0.43767279 0.42587784]\n",
            "10 day output [[0.41666833]]\n",
            "11 day input [0.36869922 0.39870866 0.41566825 0.45358676 0.52297557 0.5307611\n",
            " 0.52054787 0.53264361 0.59668727 0.57641834 0.58482574 0.59726651\n",
            " 0.5779431  0.5780283  0.63857526 0.60678554 0.61699454 0.58323717\n",
            " 0.54232024 0.59453648 0.56765747 0.57729146 0.57234241 0.54818075\n",
            " 0.57128193 0.57213373 0.57129044 0.57323255 0.55752937 0.5429889\n",
            " 0.52417233 0.6009932  0.62920532 0.64185899 0.72062196 0.7425349\n",
            " 0.73888912 0.79140347 0.81191091 0.79667194 0.80056474 0.85586026\n",
            " 0.89230938 0.88151262 1.         0.95044567 0.89150015 0.80553082\n",
            " 0.82963717 0.64200378 0.71881614 0.72959158 0.73253035 0.83240554\n",
            " 0.89658977 0.87955349 0.84051907 0.88038397 0.89580185 0.84222273\n",
            " 0.74879996 0.76462246 0.80625485 0.83577024 0.83123432 0.85240191\n",
            " 0.8931825  0.82275875 0.84531052 0.820395   0.84450129 0.84582165\n",
            " 0.86302827 0.88070339 0.88996688 0.92116456 0.89471577 0.87510277\n",
            " 0.85627762 0.83734608 0.83883678 0.8455448  0.83455639 0.83381104\n",
            " 0.84318099 0.80344385 0.81368691 0.76515485 0.79171015 0.69173104\n",
            " 0.65551478 0.61082381 0.56813484 0.53053147 0.49888057 0.47323397\n",
            " 0.45311338 0.43767279 0.42587784 0.41666833]\n",
            "11 day output [[0.40908402]]\n",
            "12 day input [0.39870866 0.41566825 0.45358676 0.52297557 0.5307611  0.52054787\n",
            " 0.53264361 0.59668727 0.57641834 0.58482574 0.59726651 0.5779431\n",
            " 0.5780283  0.63857526 0.60678554 0.61699454 0.58323717 0.54232024\n",
            " 0.59453648 0.56765747 0.57729146 0.57234241 0.54818075 0.57128193\n",
            " 0.57213373 0.57129044 0.57323255 0.55752937 0.5429889  0.52417233\n",
            " 0.6009932  0.62920532 0.64185899 0.72062196 0.7425349  0.73888912\n",
            " 0.79140347 0.81191091 0.79667194 0.80056474 0.85586026 0.89230938\n",
            " 0.88151262 1.         0.95044567 0.89150015 0.80553082 0.82963717\n",
            " 0.64200378 0.71881614 0.72959158 0.73253035 0.83240554 0.89658977\n",
            " 0.87955349 0.84051907 0.88038397 0.89580185 0.84222273 0.74879996\n",
            " 0.76462246 0.80625485 0.83577024 0.83123432 0.85240191 0.8931825\n",
            " 0.82275875 0.84531052 0.820395   0.84450129 0.84582165 0.86302827\n",
            " 0.88070339 0.88996688 0.92116456 0.89471577 0.87510277 0.85627762\n",
            " 0.83734608 0.83883678 0.8455448  0.83455639 0.83381104 0.84318099\n",
            " 0.80344385 0.81368691 0.76515485 0.79171015 0.69173104 0.65551478\n",
            " 0.61082381 0.56813484 0.53053147 0.49888057 0.47323397 0.45311338\n",
            " 0.43767279 0.42587784 0.41666833 0.40908402]\n",
            "12 day output [[0.40234303]]\n",
            "13 day input [0.41566825 0.45358676 0.52297557 0.5307611  0.52054787 0.53264361\n",
            " 0.59668727 0.57641834 0.58482574 0.59726651 0.5779431  0.5780283\n",
            " 0.63857526 0.60678554 0.61699454 0.58323717 0.54232024 0.59453648\n",
            " 0.56765747 0.57729146 0.57234241 0.54818075 0.57128193 0.57213373\n",
            " 0.57129044 0.57323255 0.55752937 0.5429889  0.52417233 0.6009932\n",
            " 0.62920532 0.64185899 0.72062196 0.7425349  0.73888912 0.79140347\n",
            " 0.81191091 0.79667194 0.80056474 0.85586026 0.89230938 0.88151262\n",
            " 1.         0.95044567 0.89150015 0.80553082 0.82963717 0.64200378\n",
            " 0.71881614 0.72959158 0.73253035 0.83240554 0.89658977 0.87955349\n",
            " 0.84051907 0.88038397 0.89580185 0.84222273 0.74879996 0.76462246\n",
            " 0.80625485 0.83577024 0.83123432 0.85240191 0.8931825  0.82275875\n",
            " 0.84531052 0.820395   0.84450129 0.84582165 0.86302827 0.88070339\n",
            " 0.88996688 0.92116456 0.89471577 0.87510277 0.85627762 0.83734608\n",
            " 0.83883678 0.8455448  0.83455639 0.83381104 0.84318099 0.80344385\n",
            " 0.81368691 0.76515485 0.79171015 0.69173104 0.65551478 0.61082381\n",
            " 0.56813484 0.53053147 0.49888057 0.47323397 0.45311338 0.43767279\n",
            " 0.42587784 0.41666833 0.40908402 0.40234303]\n",
            "13 day output [[0.39587653]]\n",
            "14 day input [0.45358676 0.52297557 0.5307611  0.52054787 0.53264361 0.59668727\n",
            " 0.57641834 0.58482574 0.59726651 0.5779431  0.5780283  0.63857526\n",
            " 0.60678554 0.61699454 0.58323717 0.54232024 0.59453648 0.56765747\n",
            " 0.57729146 0.57234241 0.54818075 0.57128193 0.57213373 0.57129044\n",
            " 0.57323255 0.55752937 0.5429889  0.52417233 0.6009932  0.62920532\n",
            " 0.64185899 0.72062196 0.7425349  0.73888912 0.79140347 0.81191091\n",
            " 0.79667194 0.80056474 0.85586026 0.89230938 0.88151262 1.\n",
            " 0.95044567 0.89150015 0.80553082 0.82963717 0.64200378 0.71881614\n",
            " 0.72959158 0.73253035 0.83240554 0.89658977 0.87955349 0.84051907\n",
            " 0.88038397 0.89580185 0.84222273 0.74879996 0.76462246 0.80625485\n",
            " 0.83577024 0.83123432 0.85240191 0.8931825  0.82275875 0.84531052\n",
            " 0.820395   0.84450129 0.84582165 0.86302827 0.88070339 0.88996688\n",
            " 0.92116456 0.89471577 0.87510277 0.85627762 0.83734608 0.83883678\n",
            " 0.8455448  0.83455639 0.83381104 0.84318099 0.80344385 0.81368691\n",
            " 0.76515485 0.79171015 0.69173104 0.65551478 0.61082381 0.56813484\n",
            " 0.53053147 0.49888057 0.47323397 0.45311338 0.43767279 0.42587784\n",
            " 0.41666833 0.40908402 0.40234303 0.39587653]\n",
            "14 day output [[0.38932824]]\n",
            "15 day input [0.52297557 0.5307611  0.52054787 0.53264361 0.59668727 0.57641834\n",
            " 0.58482574 0.59726651 0.5779431  0.5780283  0.63857526 0.60678554\n",
            " 0.61699454 0.58323717 0.54232024 0.59453648 0.56765747 0.57729146\n",
            " 0.57234241 0.54818075 0.57128193 0.57213373 0.57129044 0.57323255\n",
            " 0.55752937 0.5429889  0.52417233 0.6009932  0.62920532 0.64185899\n",
            " 0.72062196 0.7425349  0.73888912 0.79140347 0.81191091 0.79667194\n",
            " 0.80056474 0.85586026 0.89230938 0.88151262 1.         0.95044567\n",
            " 0.89150015 0.80553082 0.82963717 0.64200378 0.71881614 0.72959158\n",
            " 0.73253035 0.83240554 0.89658977 0.87955349 0.84051907 0.88038397\n",
            " 0.89580185 0.84222273 0.74879996 0.76462246 0.80625485 0.83577024\n",
            " 0.83123432 0.85240191 0.8931825  0.82275875 0.84531052 0.820395\n",
            " 0.84450129 0.84582165 0.86302827 0.88070339 0.88996688 0.92116456\n",
            " 0.89471577 0.87510277 0.85627762 0.83734608 0.83883678 0.8455448\n",
            " 0.83455639 0.83381104 0.84318099 0.80344385 0.81368691 0.76515485\n",
            " 0.79171015 0.69173104 0.65551478 0.61082381 0.56813484 0.53053147\n",
            " 0.49888057 0.47323397 0.45311338 0.43767279 0.42587784 0.41666833\n",
            " 0.40908402 0.40234303 0.39587653 0.38932824]\n",
            "15 day output [[0.38252974]]\n",
            "16 day input [0.5307611  0.52054787 0.53264361 0.59668727 0.57641834 0.58482574\n",
            " 0.59726651 0.5779431  0.5780283  0.63857526 0.60678554 0.61699454\n",
            " 0.58323717 0.54232024 0.59453648 0.56765747 0.57729146 0.57234241\n",
            " 0.54818075 0.57128193 0.57213373 0.57129044 0.57323255 0.55752937\n",
            " 0.5429889  0.52417233 0.6009932  0.62920532 0.64185899 0.72062196\n",
            " 0.7425349  0.73888912 0.79140347 0.81191091 0.79667194 0.80056474\n",
            " 0.85586026 0.89230938 0.88151262 1.         0.95044567 0.89150015\n",
            " 0.80553082 0.82963717 0.64200378 0.71881614 0.72959158 0.73253035\n",
            " 0.83240554 0.89658977 0.87955349 0.84051907 0.88038397 0.89580185\n",
            " 0.84222273 0.74879996 0.76462246 0.80625485 0.83577024 0.83123432\n",
            " 0.85240191 0.8931825  0.82275875 0.84531052 0.820395   0.84450129\n",
            " 0.84582165 0.86302827 0.88070339 0.88996688 0.92116456 0.89471577\n",
            " 0.87510277 0.85627762 0.83734608 0.83883678 0.8455448  0.83455639\n",
            " 0.83381104 0.84318099 0.80344385 0.81368691 0.76515485 0.79171015\n",
            " 0.69173104 0.65551478 0.61082381 0.56813484 0.53053147 0.49888057\n",
            " 0.47323397 0.45311338 0.43767279 0.42587784 0.41666833 0.40908402\n",
            " 0.40234303 0.39587653 0.38932824 0.38252974]\n",
            "16 day output [[0.37545934]]\n",
            "17 day input [0.52054787 0.53264361 0.59668727 0.57641834 0.58482574 0.59726651\n",
            " 0.5779431  0.5780283  0.63857526 0.60678554 0.61699454 0.58323717\n",
            " 0.54232024 0.59453648 0.56765747 0.57729146 0.57234241 0.54818075\n",
            " 0.57128193 0.57213373 0.57129044 0.57323255 0.55752937 0.5429889\n",
            " 0.52417233 0.6009932  0.62920532 0.64185899 0.72062196 0.7425349\n",
            " 0.73888912 0.79140347 0.81191091 0.79667194 0.80056474 0.85586026\n",
            " 0.89230938 0.88151262 1.         0.95044567 0.89150015 0.80553082\n",
            " 0.82963717 0.64200378 0.71881614 0.72959158 0.73253035 0.83240554\n",
            " 0.89658977 0.87955349 0.84051907 0.88038397 0.89580185 0.84222273\n",
            " 0.74879996 0.76462246 0.80625485 0.83577024 0.83123432 0.85240191\n",
            " 0.8931825  0.82275875 0.84531052 0.820395   0.84450129 0.84582165\n",
            " 0.86302827 0.88070339 0.88996688 0.92116456 0.89471577 0.87510277\n",
            " 0.85627762 0.83734608 0.83883678 0.8455448  0.83455639 0.83381104\n",
            " 0.84318099 0.80344385 0.81368691 0.76515485 0.79171015 0.69173104\n",
            " 0.65551478 0.61082381 0.56813484 0.53053147 0.49888057 0.47323397\n",
            " 0.45311338 0.43767279 0.42587784 0.41666833 0.40908402 0.40234303\n",
            " 0.39587653 0.38932824 0.38252974 0.37545934]\n",
            "17 day output [[0.3681973]]\n",
            "18 day input [0.53264361 0.59668727 0.57641834 0.58482574 0.59726651 0.5779431\n",
            " 0.5780283  0.63857526 0.60678554 0.61699454 0.58323717 0.54232024\n",
            " 0.59453648 0.56765747 0.57729146 0.57234241 0.54818075 0.57128193\n",
            " 0.57213373 0.57129044 0.57323255 0.55752937 0.5429889  0.52417233\n",
            " 0.6009932  0.62920532 0.64185899 0.72062196 0.7425349  0.73888912\n",
            " 0.79140347 0.81191091 0.79667194 0.80056474 0.85586026 0.89230938\n",
            " 0.88151262 1.         0.95044567 0.89150015 0.80553082 0.82963717\n",
            " 0.64200378 0.71881614 0.72959158 0.73253035 0.83240554 0.89658977\n",
            " 0.87955349 0.84051907 0.88038397 0.89580185 0.84222273 0.74879996\n",
            " 0.76462246 0.80625485 0.83577024 0.83123432 0.85240191 0.8931825\n",
            " 0.82275875 0.84531052 0.820395   0.84450129 0.84582165 0.86302827\n",
            " 0.88070339 0.88996688 0.92116456 0.89471577 0.87510277 0.85627762\n",
            " 0.83734608 0.83883678 0.8455448  0.83455639 0.83381104 0.84318099\n",
            " 0.80344385 0.81368691 0.76515485 0.79171015 0.69173104 0.65551478\n",
            " 0.61082381 0.56813484 0.53053147 0.49888057 0.47323397 0.45311338\n",
            " 0.43767279 0.42587784 0.41666833 0.40908402 0.40234303 0.39587653\n",
            " 0.38932824 0.38252974 0.37545934 0.36819729]\n",
            "18 day output [[0.360881]]\n",
            "19 day input [0.59668727 0.57641834 0.58482574 0.59726651 0.5779431  0.5780283\n",
            " 0.63857526 0.60678554 0.61699454 0.58323717 0.54232024 0.59453648\n",
            " 0.56765747 0.57729146 0.57234241 0.54818075 0.57128193 0.57213373\n",
            " 0.57129044 0.57323255 0.55752937 0.5429889  0.52417233 0.6009932\n",
            " 0.62920532 0.64185899 0.72062196 0.7425349  0.73888912 0.79140347\n",
            " 0.81191091 0.79667194 0.80056474 0.85586026 0.89230938 0.88151262\n",
            " 1.         0.95044567 0.89150015 0.80553082 0.82963717 0.64200378\n",
            " 0.71881614 0.72959158 0.73253035 0.83240554 0.89658977 0.87955349\n",
            " 0.84051907 0.88038397 0.89580185 0.84222273 0.74879996 0.76462246\n",
            " 0.80625485 0.83577024 0.83123432 0.85240191 0.8931825  0.82275875\n",
            " 0.84531052 0.820395   0.84450129 0.84582165 0.86302827 0.88070339\n",
            " 0.88996688 0.92116456 0.89471577 0.87510277 0.85627762 0.83734608\n",
            " 0.83883678 0.8455448  0.83455639 0.83381104 0.84318099 0.80344385\n",
            " 0.81368691 0.76515485 0.79171015 0.69173104 0.65551478 0.61082381\n",
            " 0.56813484 0.53053147 0.49888057 0.47323397 0.45311338 0.43767279\n",
            " 0.42587784 0.41666833 0.40908402 0.40234303 0.39587653 0.38932824\n",
            " 0.38252974 0.37545934 0.36819729 0.360881  ]\n",
            "19 day output [[0.35366726]]\n",
            "20 day input [0.57641834 0.58482574 0.59726651 0.5779431  0.5780283  0.63857526\n",
            " 0.60678554 0.61699454 0.58323717 0.54232024 0.59453648 0.56765747\n",
            " 0.57729146 0.57234241 0.54818075 0.57128193 0.57213373 0.57129044\n",
            " 0.57323255 0.55752937 0.5429889  0.52417233 0.6009932  0.62920532\n",
            " 0.64185899 0.72062196 0.7425349  0.73888912 0.79140347 0.81191091\n",
            " 0.79667194 0.80056474 0.85586026 0.89230938 0.88151262 1.\n",
            " 0.95044567 0.89150015 0.80553082 0.82963717 0.64200378 0.71881614\n",
            " 0.72959158 0.73253035 0.83240554 0.89658977 0.87955349 0.84051907\n",
            " 0.88038397 0.89580185 0.84222273 0.74879996 0.76462246 0.80625485\n",
            " 0.83577024 0.83123432 0.85240191 0.8931825  0.82275875 0.84531052\n",
            " 0.820395   0.84450129 0.84582165 0.86302827 0.88070339 0.88996688\n",
            " 0.92116456 0.89471577 0.87510277 0.85627762 0.83734608 0.83883678\n",
            " 0.8455448  0.83455639 0.83381104 0.84318099 0.80344385 0.81368691\n",
            " 0.76515485 0.79171015 0.69173104 0.65551478 0.61082381 0.56813484\n",
            " 0.53053147 0.49888057 0.47323397 0.45311338 0.43767279 0.42587784\n",
            " 0.41666833 0.40908402 0.40234303 0.39587653 0.38932824 0.38252974\n",
            " 0.37545934 0.36819729 0.360881   0.35366726]\n",
            "20 day output [[0.3467028]]\n",
            "21 day input [0.58482574 0.59726651 0.5779431  0.5780283  0.63857526 0.60678554\n",
            " 0.61699454 0.58323717 0.54232024 0.59453648 0.56765747 0.57729146\n",
            " 0.57234241 0.54818075 0.57128193 0.57213373 0.57129044 0.57323255\n",
            " 0.55752937 0.5429889  0.52417233 0.6009932  0.62920532 0.64185899\n",
            " 0.72062196 0.7425349  0.73888912 0.79140347 0.81191091 0.79667194\n",
            " 0.80056474 0.85586026 0.89230938 0.88151262 1.         0.95044567\n",
            " 0.89150015 0.80553082 0.82963717 0.64200378 0.71881614 0.72959158\n",
            " 0.73253035 0.83240554 0.89658977 0.87955349 0.84051907 0.88038397\n",
            " 0.89580185 0.84222273 0.74879996 0.76462246 0.80625485 0.83577024\n",
            " 0.83123432 0.85240191 0.8931825  0.82275875 0.84531052 0.820395\n",
            " 0.84450129 0.84582165 0.86302827 0.88070339 0.88996688 0.92116456\n",
            " 0.89471577 0.87510277 0.85627762 0.83734608 0.83883678 0.8455448\n",
            " 0.83455639 0.83381104 0.84318099 0.80344385 0.81368691 0.76515485\n",
            " 0.79171015 0.69173104 0.65551478 0.61082381 0.56813484 0.53053147\n",
            " 0.49888057 0.47323397 0.45311338 0.43767279 0.42587784 0.41666833\n",
            " 0.40908402 0.40234303 0.39587653 0.38932824 0.38252974 0.37545934\n",
            " 0.36819729 0.360881   0.35366726 0.34670281]\n",
            "21 day output [[0.34010473]]\n",
            "22 day input [0.59726651 0.5779431  0.5780283  0.63857526 0.60678554 0.61699454\n",
            " 0.58323717 0.54232024 0.59453648 0.56765747 0.57729146 0.57234241\n",
            " 0.54818075 0.57128193 0.57213373 0.57129044 0.57323255 0.55752937\n",
            " 0.5429889  0.52417233 0.6009932  0.62920532 0.64185899 0.72062196\n",
            " 0.7425349  0.73888912 0.79140347 0.81191091 0.79667194 0.80056474\n",
            " 0.85586026 0.89230938 0.88151262 1.         0.95044567 0.89150015\n",
            " 0.80553082 0.82963717 0.64200378 0.71881614 0.72959158 0.73253035\n",
            " 0.83240554 0.89658977 0.87955349 0.84051907 0.88038397 0.89580185\n",
            " 0.84222273 0.74879996 0.76462246 0.80625485 0.83577024 0.83123432\n",
            " 0.85240191 0.8931825  0.82275875 0.84531052 0.820395   0.84450129\n",
            " 0.84582165 0.86302827 0.88070339 0.88996688 0.92116456 0.89471577\n",
            " 0.87510277 0.85627762 0.83734608 0.83883678 0.8455448  0.83455639\n",
            " 0.83381104 0.84318099 0.80344385 0.81368691 0.76515485 0.79171015\n",
            " 0.69173104 0.65551478 0.61082381 0.56813484 0.53053147 0.49888057\n",
            " 0.47323397 0.45311338 0.43767279 0.42587784 0.41666833 0.40908402\n",
            " 0.40234303 0.39587653 0.38932824 0.38252974 0.37545934 0.36819729\n",
            " 0.360881   0.35366726 0.34670281 0.34010473]\n",
            "22 day output [[0.3339508]]\n",
            "23 day input [0.5779431  0.5780283  0.63857526 0.60678554 0.61699454 0.58323717\n",
            " 0.54232024 0.59453648 0.56765747 0.57729146 0.57234241 0.54818075\n",
            " 0.57128193 0.57213373 0.57129044 0.57323255 0.55752937 0.5429889\n",
            " 0.52417233 0.6009932  0.62920532 0.64185899 0.72062196 0.7425349\n",
            " 0.73888912 0.79140347 0.81191091 0.79667194 0.80056474 0.85586026\n",
            " 0.89230938 0.88151262 1.         0.95044567 0.89150015 0.80553082\n",
            " 0.82963717 0.64200378 0.71881614 0.72959158 0.73253035 0.83240554\n",
            " 0.89658977 0.87955349 0.84051907 0.88038397 0.89580185 0.84222273\n",
            " 0.74879996 0.76462246 0.80625485 0.83577024 0.83123432 0.85240191\n",
            " 0.8931825  0.82275875 0.84531052 0.820395   0.84450129 0.84582165\n",
            " 0.86302827 0.88070339 0.88996688 0.92116456 0.89471577 0.87510277\n",
            " 0.85627762 0.83734608 0.83883678 0.8455448  0.83455639 0.83381104\n",
            " 0.84318099 0.80344385 0.81368691 0.76515485 0.79171015 0.69173104\n",
            " 0.65551478 0.61082381 0.56813484 0.53053147 0.49888057 0.47323397\n",
            " 0.45311338 0.43767279 0.42587784 0.41666833 0.40908402 0.40234303\n",
            " 0.39587653 0.38932824 0.38252974 0.37545934 0.36819729 0.360881\n",
            " 0.35366726 0.34670281 0.34010473 0.33395079]\n",
            "23 day output [[0.3282771]]\n",
            "24 day input [0.5780283  0.63857526 0.60678554 0.61699454 0.58323717 0.54232024\n",
            " 0.59453648 0.56765747 0.57729146 0.57234241 0.54818075 0.57128193\n",
            " 0.57213373 0.57129044 0.57323255 0.55752937 0.5429889  0.52417233\n",
            " 0.6009932  0.62920532 0.64185899 0.72062196 0.7425349  0.73888912\n",
            " 0.79140347 0.81191091 0.79667194 0.80056474 0.85586026 0.89230938\n",
            " 0.88151262 1.         0.95044567 0.89150015 0.80553082 0.82963717\n",
            " 0.64200378 0.71881614 0.72959158 0.73253035 0.83240554 0.89658977\n",
            " 0.87955349 0.84051907 0.88038397 0.89580185 0.84222273 0.74879996\n",
            " 0.76462246 0.80625485 0.83577024 0.83123432 0.85240191 0.8931825\n",
            " 0.82275875 0.84531052 0.820395   0.84450129 0.84582165 0.86302827\n",
            " 0.88070339 0.88996688 0.92116456 0.89471577 0.87510277 0.85627762\n",
            " 0.83734608 0.83883678 0.8455448  0.83455639 0.83381104 0.84318099\n",
            " 0.80344385 0.81368691 0.76515485 0.79171015 0.69173104 0.65551478\n",
            " 0.61082381 0.56813484 0.53053147 0.49888057 0.47323397 0.45311338\n",
            " 0.43767279 0.42587784 0.41666833 0.40908402 0.40234303 0.39587653\n",
            " 0.38932824 0.38252974 0.37545934 0.36819729 0.360881   0.35366726\n",
            " 0.34670281 0.34010473 0.33395079 0.32827711]\n",
            "24 day output [[0.32308272]]\n",
            "25 day input [0.63857526 0.60678554 0.61699454 0.58323717 0.54232024 0.59453648\n",
            " 0.56765747 0.57729146 0.57234241 0.54818075 0.57128193 0.57213373\n",
            " 0.57129044 0.57323255 0.55752937 0.5429889  0.52417233 0.6009932\n",
            " 0.62920532 0.64185899 0.72062196 0.7425349  0.73888912 0.79140347\n",
            " 0.81191091 0.79667194 0.80056474 0.85586026 0.89230938 0.88151262\n",
            " 1.         0.95044567 0.89150015 0.80553082 0.82963717 0.64200378\n",
            " 0.71881614 0.72959158 0.73253035 0.83240554 0.89658977 0.87955349\n",
            " 0.84051907 0.88038397 0.89580185 0.84222273 0.74879996 0.76462246\n",
            " 0.80625485 0.83577024 0.83123432 0.85240191 0.8931825  0.82275875\n",
            " 0.84531052 0.820395   0.84450129 0.84582165 0.86302827 0.88070339\n",
            " 0.88996688 0.92116456 0.89471577 0.87510277 0.85627762 0.83734608\n",
            " 0.83883678 0.8455448  0.83455639 0.83381104 0.84318099 0.80344385\n",
            " 0.81368691 0.76515485 0.79171015 0.69173104 0.65551478 0.61082381\n",
            " 0.56813484 0.53053147 0.49888057 0.47323397 0.45311338 0.43767279\n",
            " 0.42587784 0.41666833 0.40908402 0.40234303 0.39587653 0.38932824\n",
            " 0.38252974 0.37545934 0.36819729 0.360881   0.35366726 0.34670281\n",
            " 0.34010473 0.33395079 0.32827711 0.32308272]\n",
            "25 day output [[0.31833684]]\n",
            "26 day input [0.60678554 0.61699454 0.58323717 0.54232024 0.59453648 0.56765747\n",
            " 0.57729146 0.57234241 0.54818075 0.57128193 0.57213373 0.57129044\n",
            " 0.57323255 0.55752937 0.5429889  0.52417233 0.6009932  0.62920532\n",
            " 0.64185899 0.72062196 0.7425349  0.73888912 0.79140347 0.81191091\n",
            " 0.79667194 0.80056474 0.85586026 0.89230938 0.88151262 1.\n",
            " 0.95044567 0.89150015 0.80553082 0.82963717 0.64200378 0.71881614\n",
            " 0.72959158 0.73253035 0.83240554 0.89658977 0.87955349 0.84051907\n",
            " 0.88038397 0.89580185 0.84222273 0.74879996 0.76462246 0.80625485\n",
            " 0.83577024 0.83123432 0.85240191 0.8931825  0.82275875 0.84531052\n",
            " 0.820395   0.84450129 0.84582165 0.86302827 0.88070339 0.88996688\n",
            " 0.92116456 0.89471577 0.87510277 0.85627762 0.83734608 0.83883678\n",
            " 0.8455448  0.83455639 0.83381104 0.84318099 0.80344385 0.81368691\n",
            " 0.76515485 0.79171015 0.69173104 0.65551478 0.61082381 0.56813484\n",
            " 0.53053147 0.49888057 0.47323397 0.45311338 0.43767279 0.42587784\n",
            " 0.41666833 0.40908402 0.40234303 0.39587653 0.38932824 0.38252974\n",
            " 0.37545934 0.36819729 0.360881   0.35366726 0.34670281 0.34010473\n",
            " 0.33395079 0.32827711 0.32308272 0.31833684]\n",
            "26 day output [[0.31398928]]\n",
            "27 day input [0.61699454 0.58323717 0.54232024 0.59453648 0.56765747 0.57729146\n",
            " 0.57234241 0.54818075 0.57128193 0.57213373 0.57129044 0.57323255\n",
            " 0.55752937 0.5429889  0.52417233 0.6009932  0.62920532 0.64185899\n",
            " 0.72062196 0.7425349  0.73888912 0.79140347 0.81191091 0.79667194\n",
            " 0.80056474 0.85586026 0.89230938 0.88151262 1.         0.95044567\n",
            " 0.89150015 0.80553082 0.82963717 0.64200378 0.71881614 0.72959158\n",
            " 0.73253035 0.83240554 0.89658977 0.87955349 0.84051907 0.88038397\n",
            " 0.89580185 0.84222273 0.74879996 0.76462246 0.80625485 0.83577024\n",
            " 0.83123432 0.85240191 0.8931825  0.82275875 0.84531052 0.820395\n",
            " 0.84450129 0.84582165 0.86302827 0.88070339 0.88996688 0.92116456\n",
            " 0.89471577 0.87510277 0.85627762 0.83734608 0.83883678 0.8455448\n",
            " 0.83455639 0.83381104 0.84318099 0.80344385 0.81368691 0.76515485\n",
            " 0.79171015 0.69173104 0.65551478 0.61082381 0.56813484 0.53053147\n",
            " 0.49888057 0.47323397 0.45311338 0.43767279 0.42587784 0.41666833\n",
            " 0.40908402 0.40234303 0.39587653 0.38932824 0.38252974 0.37545934\n",
            " 0.36819729 0.360881   0.35366726 0.34670281 0.34010473 0.33395079\n",
            " 0.32827711 0.32308272 0.31833684 0.31398928]\n",
            "27 day output [[0.3099789]]\n",
            "28 day input [0.58323717 0.54232024 0.59453648 0.56765747 0.57729146 0.57234241\n",
            " 0.54818075 0.57128193 0.57213373 0.57129044 0.57323255 0.55752937\n",
            " 0.5429889  0.52417233 0.6009932  0.62920532 0.64185899 0.72062196\n",
            " 0.7425349  0.73888912 0.79140347 0.81191091 0.79667194 0.80056474\n",
            " 0.85586026 0.89230938 0.88151262 1.         0.95044567 0.89150015\n",
            " 0.80553082 0.82963717 0.64200378 0.71881614 0.72959158 0.73253035\n",
            " 0.83240554 0.89658977 0.87955349 0.84051907 0.88038397 0.89580185\n",
            " 0.84222273 0.74879996 0.76462246 0.80625485 0.83577024 0.83123432\n",
            " 0.85240191 0.8931825  0.82275875 0.84531052 0.820395   0.84450129\n",
            " 0.84582165 0.86302827 0.88070339 0.88996688 0.92116456 0.89471577\n",
            " 0.87510277 0.85627762 0.83734608 0.83883678 0.8455448  0.83455639\n",
            " 0.83381104 0.84318099 0.80344385 0.81368691 0.76515485 0.79171015\n",
            " 0.69173104 0.65551478 0.61082381 0.56813484 0.53053147 0.49888057\n",
            " 0.47323397 0.45311338 0.43767279 0.42587784 0.41666833 0.40908402\n",
            " 0.40234303 0.39587653 0.38932824 0.38252974 0.37545934 0.36819729\n",
            " 0.360881   0.35366726 0.34670281 0.34010473 0.33395079 0.32827711\n",
            " 0.32308272 0.31833684 0.31398928 0.3099789 ]\n",
            "28 day output [[0.30624348]]\n",
            "29 day input [0.54232024 0.59453648 0.56765747 0.57729146 0.57234241 0.54818075\n",
            " 0.57128193 0.57213373 0.57129044 0.57323255 0.55752937 0.5429889\n",
            " 0.52417233 0.6009932  0.62920532 0.64185899 0.72062196 0.7425349\n",
            " 0.73888912 0.79140347 0.81191091 0.79667194 0.80056474 0.85586026\n",
            " 0.89230938 0.88151262 1.         0.95044567 0.89150015 0.80553082\n",
            " 0.82963717 0.64200378 0.71881614 0.72959158 0.73253035 0.83240554\n",
            " 0.89658977 0.87955349 0.84051907 0.88038397 0.89580185 0.84222273\n",
            " 0.74879996 0.76462246 0.80625485 0.83577024 0.83123432 0.85240191\n",
            " 0.8931825  0.82275875 0.84531052 0.820395   0.84450129 0.84582165\n",
            " 0.86302827 0.88070339 0.88996688 0.92116456 0.89471577 0.87510277\n",
            " 0.85627762 0.83734608 0.83883678 0.8455448  0.83455639 0.83381104\n",
            " 0.84318099 0.80344385 0.81368691 0.76515485 0.79171015 0.69173104\n",
            " 0.65551478 0.61082381 0.56813484 0.53053147 0.49888057 0.47323397\n",
            " 0.45311338 0.43767279 0.42587784 0.41666833 0.40908402 0.40234303\n",
            " 0.39587653 0.38932824 0.38252974 0.37545934 0.36819729 0.360881\n",
            " 0.35366726 0.34670281 0.34010473 0.33395079 0.32827711 0.32308272\n",
            " 0.31833684 0.31398928 0.3099789  0.30624348]\n",
            "29 day output [[0.30272493]]\n",
            "[[0.6917310357093811], [0.6555147767066956], [0.6108238101005554], [0.5681348443031311], [0.5305314660072327], [0.4988805651664734], [0.4732339680194855], [0.4531133770942688], [0.43767279386520386], [0.4258778393268585], [0.4166683256626129], [0.4090840220451355], [0.4023430347442627], [0.39587652683258057], [0.3893282413482666], [0.38252973556518555], [0.37545934319496155], [0.3681972920894623], [0.3608810007572174], [0.3536672592163086], [0.34670281410217285], [0.34010472893714905], [0.33395078778266907], [0.3282771110534668], [0.32308271527290344], [0.3183368444442749], [0.3139892816543579], [0.3099789023399353], [0.3062434792518616], [0.3027249276638031]]\n"
          ],
          "name": "stdout"
        }
      ]
    },
    {
      "cell_type": "code",
      "metadata": {
        "id": "z1c6-Rv5ElIs"
      },
      "source": [
        "day_new=np.arange(1,101)\n",
        "day_pred=np.arange(101,131)"
      ],
      "execution_count": null,
      "outputs": []
    },
    {
      "cell_type": "code",
      "metadata": {
        "id": "zHfIYiSnElIu"
      },
      "source": [
        "import matplotlib.pyplot as plt"
      ],
      "execution_count": null,
      "outputs": []
    },
    {
      "cell_type": "code",
      "metadata": {
        "id": "jrVv4uy1ElIw",
        "outputId": "33a44a44-735c-4a07-db8d-83551cccca26",
        "colab": {
          "base_uri": "https://localhost:8080/"
        }
      },
      "source": [
        "len(df1)"
      ],
      "execution_count": null,
      "outputs": [
        {
          "output_type": "execute_result",
          "data": {
            "text/plain": [
              "1450"
            ]
          },
          "metadata": {
            "tags": []
          },
          "execution_count": 286
        }
      ]
    },
    {
      "cell_type": "code",
      "metadata": {
        "id": "2zlbQP_uElIz"
      },
      "source": [
        ""
      ],
      "execution_count": null,
      "outputs": []
    },
    {
      "cell_type": "code",
      "metadata": {
        "id": "iUwqJ2v2ElI1",
        "outputId": "96bb0004-ce4e-4e90-9711-1901e0a5aa61",
        "colab": {
          "base_uri": "https://localhost:8080/",
          "height": 282
        }
      },
      "source": [
        "plt.plot(day_new,scaler.inverse_transform(df1[len(df1)-100:]))\n",
        "plt.plot(day_pred,scaler.inverse_transform(lst_output))"
      ],
      "execution_count": null,
      "outputs": [
        {
          "output_type": "execute_result",
          "data": {
            "text/plain": [
              "[<matplotlib.lines.Line2D at 0x7f4455ca6ac8>]"
            ]
          },
          "metadata": {
            "tags": []
          },
          "execution_count": 287
        },
        {
          "output_type": "display_data",
          "data": {
            "image/png": "[encoded data removed]",
            "text/plain": [
              "<Figure size 432x288 with 1 Axes>"
            ]
          },
          "metadata": {
            "tags": [],
            "needs_background": "light"
          }
        }
      ]
    },
    {
      "cell_type": "code",
      "metadata": {
        "id": "CxC0O2eOElI3",
        "outputId": "f357225d-6b57-4285-9b49-5d7b9e42e9d1",
        "colab": {
          "base_uri": "https://localhost:8080/",
          "height": 282
        }
      },
      "source": [
        "df3=df1.tolist()\n",
        "df3.extend(lst_output)\n",
        "plt.plot(df3[1200:])"
      ],
      "execution_count": null,
      "outputs": [
        {
          "output_type": "execute_result",
          "data": {
            "text/plain": [
              "[<matplotlib.lines.Line2D at 0x7f4455c09ac8>]"
            ]
          },
          "metadata": {
            "tags": []
          },
          "execution_count": 288
        },
        {
          "output_type": "display_data",
          "data": {
            "image/png": "[encoded data removed]",
            "text/plain": [
              "<Figure size 432x288 with 1 Axes>"
            ]
          },
          "metadata": {
            "tags": [],
            "needs_background": "light"
          }
        }
      ]
    },
    {
      "cell_type": "code",
      "metadata": {
        "id": "y0L_Oof2ElI5"
      },
      "source": [
        "df3=scaler.inverse_transform(df3).tolist()"
      ],
      "execution_count": null,
      "outputs": []
    },
    {
      "cell_type": "code",
      "metadata": {
        "id": "IAZQQG2bElI7",
        "outputId": "5ecb763e-b133-4f40-93e6-f28028a0e9ab",
        "colab": {
          "base_uri": "https://localhost:8080/",
          "height": 282
        }
      },
      "source": [
        "plt.plot(df3)"
      ],
      "execution_count": null,
      "outputs": [
        {
          "output_type": "execute_result",
          "data": {
            "text/plain": [
              "[<matplotlib.lines.Line2D at 0x7f4455b97e48>]"
            ]
          },
          "metadata": {
            "tags": []
          },
          "execution_count": 289
        },
        {
          "output_type": "display_data",
          "data": {
            "image/png": "[encoded data removed]",
            "text/plain": [
              "<Figure size 432x288 with 1 Axes>"
            ]
          },
          "metadata": {
            "tags": [],
            "needs_background": "light"
          }
        }
      ]
    },
    {
      "cell_type": "code",
      "metadata": {
        "id": "Nrft6QnXElI_"
      },
      "source": [
        ""
      ],
      "execution_count": null,
      "outputs": []
    }
  ]
}